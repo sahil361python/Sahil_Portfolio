{
 "cells": [
  {
   "cell_type": "code",
   "execution_count": 619,
   "id": "e4363c90",
   "metadata": {},
   "outputs": [],
   "source": [
    "import pandas as pd\n",
    "import numpy as np"
   ]
  },
  {
   "cell_type": "code",
   "execution_count": 620,
   "id": "593be334",
   "metadata": {},
   "outputs": [
    {
     "data": {
      "text/html": [
       "<div>\n",
       "<style scoped>\n",
       "    .dataframe tbody tr th:only-of-type {\n",
       "        vertical-align: middle;\n",
       "    }\n",
       "\n",
       "    .dataframe tbody tr th {\n",
       "        vertical-align: top;\n",
       "    }\n",
       "\n",
       "    .dataframe thead th {\n",
       "        text-align: right;\n",
       "    }\n",
       "</style>\n",
       "<table border=\"1\" class=\"dataframe\">\n",
       "  <thead>\n",
       "    <tr style=\"text-align: right;\">\n",
       "      <th></th>\n",
       "      <th>CustomerID</th>\n",
       "      <th>Churn</th>\n",
       "      <th>Tenure</th>\n",
       "      <th>PreferredLoginDevice</th>\n",
       "      <th>CityTier</th>\n",
       "      <th>WarehouseToHome</th>\n",
       "      <th>PreferredPaymentMode</th>\n",
       "      <th>Gender</th>\n",
       "      <th>HourSpendOnApp</th>\n",
       "      <th>NumberOfDeviceRegistered</th>\n",
       "      <th>PreferedOrderCat</th>\n",
       "      <th>SatisfactionScore</th>\n",
       "      <th>MaritalStatus</th>\n",
       "      <th>NumberOfAddress</th>\n",
       "      <th>Complain</th>\n",
       "      <th>OrderAmountHikeFromlastYear</th>\n",
       "      <th>CouponUsed</th>\n",
       "      <th>OrderCount</th>\n",
       "      <th>DaySinceLastOrder</th>\n",
       "      <th>CashbackAmount</th>\n",
       "    </tr>\n",
       "  </thead>\n",
       "  <tbody>\n",
       "    <tr>\n",
       "      <th>0</th>\n",
       "      <td>50001</td>\n",
       "      <td>1</td>\n",
       "      <td>4.0</td>\n",
       "      <td>Mobile Phone</td>\n",
       "      <td>3</td>\n",
       "      <td>6.0</td>\n",
       "      <td>Debit Card</td>\n",
       "      <td>Female</td>\n",
       "      <td>3.0</td>\n",
       "      <td>3</td>\n",
       "      <td>Laptop &amp; Accessory</td>\n",
       "      <td>2</td>\n",
       "      <td>Single</td>\n",
       "      <td>9</td>\n",
       "      <td>1</td>\n",
       "      <td>11.0</td>\n",
       "      <td>1.0</td>\n",
       "      <td>1.0</td>\n",
       "      <td>5.0</td>\n",
       "      <td>159.93</td>\n",
       "    </tr>\n",
       "    <tr>\n",
       "      <th>1</th>\n",
       "      <td>50002</td>\n",
       "      <td>1</td>\n",
       "      <td>NaN</td>\n",
       "      <td>Phone</td>\n",
       "      <td>1</td>\n",
       "      <td>8.0</td>\n",
       "      <td>UPI</td>\n",
       "      <td>Male</td>\n",
       "      <td>3.0</td>\n",
       "      <td>4</td>\n",
       "      <td>Mobile</td>\n",
       "      <td>3</td>\n",
       "      <td>Single</td>\n",
       "      <td>7</td>\n",
       "      <td>1</td>\n",
       "      <td>15.0</td>\n",
       "      <td>0.0</td>\n",
       "      <td>1.0</td>\n",
       "      <td>0.0</td>\n",
       "      <td>120.90</td>\n",
       "    </tr>\n",
       "    <tr>\n",
       "      <th>2</th>\n",
       "      <td>50003</td>\n",
       "      <td>1</td>\n",
       "      <td>NaN</td>\n",
       "      <td>Phone</td>\n",
       "      <td>1</td>\n",
       "      <td>30.0</td>\n",
       "      <td>Debit Card</td>\n",
       "      <td>Male</td>\n",
       "      <td>2.0</td>\n",
       "      <td>4</td>\n",
       "      <td>Mobile</td>\n",
       "      <td>3</td>\n",
       "      <td>Single</td>\n",
       "      <td>6</td>\n",
       "      <td>1</td>\n",
       "      <td>14.0</td>\n",
       "      <td>0.0</td>\n",
       "      <td>1.0</td>\n",
       "      <td>3.0</td>\n",
       "      <td>120.28</td>\n",
       "    </tr>\n",
       "    <tr>\n",
       "      <th>3</th>\n",
       "      <td>50004</td>\n",
       "      <td>1</td>\n",
       "      <td>0.0</td>\n",
       "      <td>Phone</td>\n",
       "      <td>3</td>\n",
       "      <td>15.0</td>\n",
       "      <td>Debit Card</td>\n",
       "      <td>Male</td>\n",
       "      <td>2.0</td>\n",
       "      <td>4</td>\n",
       "      <td>Laptop &amp; Accessory</td>\n",
       "      <td>5</td>\n",
       "      <td>Single</td>\n",
       "      <td>8</td>\n",
       "      <td>0</td>\n",
       "      <td>23.0</td>\n",
       "      <td>0.0</td>\n",
       "      <td>1.0</td>\n",
       "      <td>3.0</td>\n",
       "      <td>134.07</td>\n",
       "    </tr>\n",
       "    <tr>\n",
       "      <th>4</th>\n",
       "      <td>50005</td>\n",
       "      <td>1</td>\n",
       "      <td>0.0</td>\n",
       "      <td>Phone</td>\n",
       "      <td>1</td>\n",
       "      <td>12.0</td>\n",
       "      <td>CC</td>\n",
       "      <td>Male</td>\n",
       "      <td>NaN</td>\n",
       "      <td>3</td>\n",
       "      <td>Mobile</td>\n",
       "      <td>5</td>\n",
       "      <td>Single</td>\n",
       "      <td>3</td>\n",
       "      <td>0</td>\n",
       "      <td>11.0</td>\n",
       "      <td>1.0</td>\n",
       "      <td>1.0</td>\n",
       "      <td>3.0</td>\n",
       "      <td>129.60</td>\n",
       "    </tr>\n",
       "  </tbody>\n",
       "</table>\n",
       "</div>"
      ],
      "text/plain": [
       "   CustomerID  Churn  Tenure PreferredLoginDevice  CityTier  WarehouseToHome  \\\n",
       "0       50001      1     4.0         Mobile Phone         3              6.0   \n",
       "1       50002      1     NaN                Phone         1              8.0   \n",
       "2       50003      1     NaN                Phone         1             30.0   \n",
       "3       50004      1     0.0                Phone         3             15.0   \n",
       "4       50005      1     0.0                Phone         1             12.0   \n",
       "\n",
       "  PreferredPaymentMode  Gender  HourSpendOnApp  NumberOfDeviceRegistered  \\\n",
       "0           Debit Card  Female             3.0                         3   \n",
       "1                  UPI    Male             3.0                         4   \n",
       "2           Debit Card    Male             2.0                         4   \n",
       "3           Debit Card    Male             2.0                         4   \n",
       "4                   CC    Male             NaN                         3   \n",
       "\n",
       "     PreferedOrderCat  SatisfactionScore MaritalStatus  NumberOfAddress  \\\n",
       "0  Laptop & Accessory                  2        Single                9   \n",
       "1              Mobile                  3        Single                7   \n",
       "2              Mobile                  3        Single                6   \n",
       "3  Laptop & Accessory                  5        Single                8   \n",
       "4              Mobile                  5        Single                3   \n",
       "\n",
       "   Complain  OrderAmountHikeFromlastYear  CouponUsed  OrderCount  \\\n",
       "0         1                         11.0         1.0         1.0   \n",
       "1         1                         15.0         0.0         1.0   \n",
       "2         1                         14.0         0.0         1.0   \n",
       "3         0                         23.0         0.0         1.0   \n",
       "4         0                         11.0         1.0         1.0   \n",
       "\n",
       "   DaySinceLastOrder  CashbackAmount  \n",
       "0                5.0          159.93  \n",
       "1                0.0          120.90  \n",
       "2                3.0          120.28  \n",
       "3                3.0          134.07  \n",
       "4                3.0          129.60  "
      ]
     },
     "execution_count": 620,
     "metadata": {},
     "output_type": "execute_result"
    }
   ],
   "source": [
    "df=pd.read_excel(\"E Commerce Dataset 2.xlsx\",sheet_name='E Comm')\n",
    "df.head()"
   ]
  },
  {
   "cell_type": "code",
   "execution_count": 621,
   "id": "713b333c",
   "metadata": {},
   "outputs": [],
   "source": [
    "Customer= df['CustomerID']"
   ]
  },
  {
   "cell_type": "code",
   "execution_count": 622,
   "id": "bc0df991",
   "metadata": {},
   "outputs": [],
   "source": [
    "Customer=pd.DataFrame(Customer)"
   ]
  },
  {
   "cell_type": "code",
   "execution_count": null,
   "id": "be974672",
   "metadata": {},
   "outputs": [],
   "source": []
  },
  {
   "cell_type": "code",
   "execution_count": 623,
   "id": "0b0bb961",
   "metadata": {},
   "outputs": [],
   "source": [
    "df1=df.copy()"
   ]
  },
  {
   "cell_type": "code",
   "execution_count": 624,
   "id": "91bf7b7f",
   "metadata": {},
   "outputs": [
    {
     "data": {
      "text/html": [
       "<div>\n",
       "<style scoped>\n",
       "    .dataframe tbody tr th:only-of-type {\n",
       "        vertical-align: middle;\n",
       "    }\n",
       "\n",
       "    .dataframe tbody tr th {\n",
       "        vertical-align: top;\n",
       "    }\n",
       "\n",
       "    .dataframe thead th {\n",
       "        text-align: right;\n",
       "    }\n",
       "</style>\n",
       "<table border=\"1\" class=\"dataframe\">\n",
       "  <thead>\n",
       "    <tr style=\"text-align: right;\">\n",
       "      <th></th>\n",
       "      <th>CustomerID</th>\n",
       "      <th>Churn</th>\n",
       "      <th>Tenure</th>\n",
       "      <th>PreferredLoginDevice</th>\n",
       "      <th>CityTier</th>\n",
       "      <th>WarehouseToHome</th>\n",
       "      <th>PreferredPaymentMode</th>\n",
       "      <th>Gender</th>\n",
       "      <th>HourSpendOnApp</th>\n",
       "      <th>NumberOfDeviceRegistered</th>\n",
       "      <th>PreferedOrderCat</th>\n",
       "      <th>SatisfactionScore</th>\n",
       "      <th>MaritalStatus</th>\n",
       "      <th>NumberOfAddress</th>\n",
       "      <th>Complain</th>\n",
       "      <th>OrderAmountHikeFromlastYear</th>\n",
       "      <th>CouponUsed</th>\n",
       "      <th>OrderCount</th>\n",
       "      <th>DaySinceLastOrder</th>\n",
       "      <th>CashbackAmount</th>\n",
       "    </tr>\n",
       "  </thead>\n",
       "  <tbody>\n",
       "    <tr>\n",
       "      <th>0</th>\n",
       "      <td>50001</td>\n",
       "      <td>1</td>\n",
       "      <td>4.0</td>\n",
       "      <td>Mobile Phone</td>\n",
       "      <td>3</td>\n",
       "      <td>6.0</td>\n",
       "      <td>Debit Card</td>\n",
       "      <td>Female</td>\n",
       "      <td>3.0</td>\n",
       "      <td>3</td>\n",
       "      <td>Laptop &amp; Accessory</td>\n",
       "      <td>2</td>\n",
       "      <td>Single</td>\n",
       "      <td>9</td>\n",
       "      <td>1</td>\n",
       "      <td>11.0</td>\n",
       "      <td>1.0</td>\n",
       "      <td>1.0</td>\n",
       "      <td>5.0</td>\n",
       "      <td>159.93</td>\n",
       "    </tr>\n",
       "    <tr>\n",
       "      <th>1</th>\n",
       "      <td>50002</td>\n",
       "      <td>1</td>\n",
       "      <td>NaN</td>\n",
       "      <td>Phone</td>\n",
       "      <td>1</td>\n",
       "      <td>8.0</td>\n",
       "      <td>UPI</td>\n",
       "      <td>Male</td>\n",
       "      <td>3.0</td>\n",
       "      <td>4</td>\n",
       "      <td>Mobile</td>\n",
       "      <td>3</td>\n",
       "      <td>Single</td>\n",
       "      <td>7</td>\n",
       "      <td>1</td>\n",
       "      <td>15.0</td>\n",
       "      <td>0.0</td>\n",
       "      <td>1.0</td>\n",
       "      <td>0.0</td>\n",
       "      <td>120.90</td>\n",
       "    </tr>\n",
       "    <tr>\n",
       "      <th>2</th>\n",
       "      <td>50003</td>\n",
       "      <td>1</td>\n",
       "      <td>NaN</td>\n",
       "      <td>Phone</td>\n",
       "      <td>1</td>\n",
       "      <td>30.0</td>\n",
       "      <td>Debit Card</td>\n",
       "      <td>Male</td>\n",
       "      <td>2.0</td>\n",
       "      <td>4</td>\n",
       "      <td>Mobile</td>\n",
       "      <td>3</td>\n",
       "      <td>Single</td>\n",
       "      <td>6</td>\n",
       "      <td>1</td>\n",
       "      <td>14.0</td>\n",
       "      <td>0.0</td>\n",
       "      <td>1.0</td>\n",
       "      <td>3.0</td>\n",
       "      <td>120.28</td>\n",
       "    </tr>\n",
       "    <tr>\n",
       "      <th>3</th>\n",
       "      <td>50004</td>\n",
       "      <td>1</td>\n",
       "      <td>0.0</td>\n",
       "      <td>Phone</td>\n",
       "      <td>3</td>\n",
       "      <td>15.0</td>\n",
       "      <td>Debit Card</td>\n",
       "      <td>Male</td>\n",
       "      <td>2.0</td>\n",
       "      <td>4</td>\n",
       "      <td>Laptop &amp; Accessory</td>\n",
       "      <td>5</td>\n",
       "      <td>Single</td>\n",
       "      <td>8</td>\n",
       "      <td>0</td>\n",
       "      <td>23.0</td>\n",
       "      <td>0.0</td>\n",
       "      <td>1.0</td>\n",
       "      <td>3.0</td>\n",
       "      <td>134.07</td>\n",
       "    </tr>\n",
       "    <tr>\n",
       "      <th>4</th>\n",
       "      <td>50005</td>\n",
       "      <td>1</td>\n",
       "      <td>0.0</td>\n",
       "      <td>Phone</td>\n",
       "      <td>1</td>\n",
       "      <td>12.0</td>\n",
       "      <td>CC</td>\n",
       "      <td>Male</td>\n",
       "      <td>NaN</td>\n",
       "      <td>3</td>\n",
       "      <td>Mobile</td>\n",
       "      <td>5</td>\n",
       "      <td>Single</td>\n",
       "      <td>3</td>\n",
       "      <td>0</td>\n",
       "      <td>11.0</td>\n",
       "      <td>1.0</td>\n",
       "      <td>1.0</td>\n",
       "      <td>3.0</td>\n",
       "      <td>129.60</td>\n",
       "    </tr>\n",
       "  </tbody>\n",
       "</table>\n",
       "</div>"
      ],
      "text/plain": [
       "   CustomerID  Churn  Tenure PreferredLoginDevice  CityTier  WarehouseToHome  \\\n",
       "0       50001      1     4.0         Mobile Phone         3              6.0   \n",
       "1       50002      1     NaN                Phone         1              8.0   \n",
       "2       50003      1     NaN                Phone         1             30.0   \n",
       "3       50004      1     0.0                Phone         3             15.0   \n",
       "4       50005      1     0.0                Phone         1             12.0   \n",
       "\n",
       "  PreferredPaymentMode  Gender  HourSpendOnApp  NumberOfDeviceRegistered  \\\n",
       "0           Debit Card  Female             3.0                         3   \n",
       "1                  UPI    Male             3.0                         4   \n",
       "2           Debit Card    Male             2.0                         4   \n",
       "3           Debit Card    Male             2.0                         4   \n",
       "4                   CC    Male             NaN                         3   \n",
       "\n",
       "     PreferedOrderCat  SatisfactionScore MaritalStatus  NumberOfAddress  \\\n",
       "0  Laptop & Accessory                  2        Single                9   \n",
       "1              Mobile                  3        Single                7   \n",
       "2              Mobile                  3        Single                6   \n",
       "3  Laptop & Accessory                  5        Single                8   \n",
       "4              Mobile                  5        Single                3   \n",
       "\n",
       "   Complain  OrderAmountHikeFromlastYear  CouponUsed  OrderCount  \\\n",
       "0         1                         11.0         1.0         1.0   \n",
       "1         1                         15.0         0.0         1.0   \n",
       "2         1                         14.0         0.0         1.0   \n",
       "3         0                         23.0         0.0         1.0   \n",
       "4         0                         11.0         1.0         1.0   \n",
       "\n",
       "   DaySinceLastOrder  CashbackAmount  \n",
       "0                5.0          159.93  \n",
       "1                0.0          120.90  \n",
       "2                3.0          120.28  \n",
       "3                3.0          134.07  \n",
       "4                3.0          129.60  "
      ]
     },
     "execution_count": 624,
     "metadata": {},
     "output_type": "execute_result"
    }
   ],
   "source": [
    "df1.head()"
   ]
  },
  {
   "cell_type": "code",
   "execution_count": 625,
   "id": "9f1a244d",
   "metadata": {},
   "outputs": [],
   "source": [
    "df1['Churn']=Churn['Churn']"
   ]
  },
  {
   "cell_type": "code",
   "execution_count": 299,
   "id": "b30453e9",
   "metadata": {},
   "outputs": [],
   "source": [
    "df1['Customer']=Customer['CustomerID']"
   ]
  },
  {
   "cell_type": "code",
   "execution_count": 626,
   "id": "98532587",
   "metadata": {},
   "outputs": [],
   "source": [
    "Churn=pd.DataFrame(Churn)"
   ]
  },
  {
   "cell_type": "code",
   "execution_count": 627,
   "id": "6094c2d1",
   "metadata": {},
   "outputs": [
    {
     "data": {
      "text/html": [
       "<div>\n",
       "<style scoped>\n",
       "    .dataframe tbody tr th:only-of-type {\n",
       "        vertical-align: middle;\n",
       "    }\n",
       "\n",
       "    .dataframe tbody tr th {\n",
       "        vertical-align: top;\n",
       "    }\n",
       "\n",
       "    .dataframe thead th {\n",
       "        text-align: right;\n",
       "    }\n",
       "</style>\n",
       "<table border=\"1\" class=\"dataframe\">\n",
       "  <thead>\n",
       "    <tr style=\"text-align: right;\">\n",
       "      <th></th>\n",
       "      <th>Churn</th>\n",
       "    </tr>\n",
       "  </thead>\n",
       "  <tbody>\n",
       "    <tr>\n",
       "      <th>0</th>\n",
       "      <td>1</td>\n",
       "    </tr>\n",
       "    <tr>\n",
       "      <th>1</th>\n",
       "      <td>1</td>\n",
       "    </tr>\n",
       "    <tr>\n",
       "      <th>2</th>\n",
       "      <td>1</td>\n",
       "    </tr>\n",
       "    <tr>\n",
       "      <th>3</th>\n",
       "      <td>1</td>\n",
       "    </tr>\n",
       "    <tr>\n",
       "      <th>4</th>\n",
       "      <td>1</td>\n",
       "    </tr>\n",
       "  </tbody>\n",
       "</table>\n",
       "</div>"
      ],
      "text/plain": [
       "   Churn\n",
       "0      1\n",
       "1      1\n",
       "2      1\n",
       "3      1\n",
       "4      1"
      ]
     },
     "execution_count": 627,
     "metadata": {},
     "output_type": "execute_result"
    }
   ],
   "source": [
    "Churn.head()"
   ]
  },
  {
   "cell_type": "code",
   "execution_count": 628,
   "id": "615b7cc2",
   "metadata": {},
   "outputs": [
    {
     "data": {
      "text/html": [
       "<div>\n",
       "<style scoped>\n",
       "    .dataframe tbody tr th:only-of-type {\n",
       "        vertical-align: middle;\n",
       "    }\n",
       "\n",
       "    .dataframe tbody tr th {\n",
       "        vertical-align: top;\n",
       "    }\n",
       "\n",
       "    .dataframe thead th {\n",
       "        text-align: right;\n",
       "    }\n",
       "</style>\n",
       "<table border=\"1\" class=\"dataframe\">\n",
       "  <thead>\n",
       "    <tr style=\"text-align: right;\">\n",
       "      <th></th>\n",
       "      <th>CustomerID</th>\n",
       "      <th>Churn</th>\n",
       "      <th>Tenure</th>\n",
       "      <th>CityTier</th>\n",
       "      <th>WarehouseToHome</th>\n",
       "      <th>HourSpendOnApp</th>\n",
       "      <th>NumberOfDeviceRegistered</th>\n",
       "      <th>SatisfactionScore</th>\n",
       "      <th>NumberOfAddress</th>\n",
       "      <th>Complain</th>\n",
       "      <th>OrderAmountHikeFromlastYear</th>\n",
       "      <th>CouponUsed</th>\n",
       "      <th>OrderCount</th>\n",
       "      <th>DaySinceLastOrder</th>\n",
       "      <th>CashbackAmount</th>\n",
       "    </tr>\n",
       "  </thead>\n",
       "  <tbody>\n",
       "    <tr>\n",
       "      <th>count</th>\n",
       "      <td>5630.000000</td>\n",
       "      <td>5630.000000</td>\n",
       "      <td>5366.000000</td>\n",
       "      <td>5630.000000</td>\n",
       "      <td>5379.000000</td>\n",
       "      <td>5375.000000</td>\n",
       "      <td>5630.000000</td>\n",
       "      <td>5630.000000</td>\n",
       "      <td>5630.000000</td>\n",
       "      <td>5630.000000</td>\n",
       "      <td>5365.000000</td>\n",
       "      <td>5374.000000</td>\n",
       "      <td>5372.000000</td>\n",
       "      <td>5323.000000</td>\n",
       "      <td>5630.000000</td>\n",
       "    </tr>\n",
       "    <tr>\n",
       "      <th>mean</th>\n",
       "      <td>52815.500000</td>\n",
       "      <td>0.168384</td>\n",
       "      <td>10.189899</td>\n",
       "      <td>1.654707</td>\n",
       "      <td>15.639896</td>\n",
       "      <td>2.931535</td>\n",
       "      <td>3.688988</td>\n",
       "      <td>3.066785</td>\n",
       "      <td>4.214032</td>\n",
       "      <td>0.284902</td>\n",
       "      <td>15.707922</td>\n",
       "      <td>1.751023</td>\n",
       "      <td>3.008004</td>\n",
       "      <td>4.543491</td>\n",
       "      <td>177.223030</td>\n",
       "    </tr>\n",
       "    <tr>\n",
       "      <th>std</th>\n",
       "      <td>1625.385339</td>\n",
       "      <td>0.374240</td>\n",
       "      <td>8.557241</td>\n",
       "      <td>0.915389</td>\n",
       "      <td>8.531475</td>\n",
       "      <td>0.721926</td>\n",
       "      <td>1.023999</td>\n",
       "      <td>1.380194</td>\n",
       "      <td>2.583586</td>\n",
       "      <td>0.451408</td>\n",
       "      <td>3.675485</td>\n",
       "      <td>1.894621</td>\n",
       "      <td>2.939680</td>\n",
       "      <td>3.654433</td>\n",
       "      <td>49.207036</td>\n",
       "    </tr>\n",
       "    <tr>\n",
       "      <th>min</th>\n",
       "      <td>50001.000000</td>\n",
       "      <td>0.000000</td>\n",
       "      <td>0.000000</td>\n",
       "      <td>1.000000</td>\n",
       "      <td>5.000000</td>\n",
       "      <td>0.000000</td>\n",
       "      <td>1.000000</td>\n",
       "      <td>1.000000</td>\n",
       "      <td>1.000000</td>\n",
       "      <td>0.000000</td>\n",
       "      <td>11.000000</td>\n",
       "      <td>0.000000</td>\n",
       "      <td>1.000000</td>\n",
       "      <td>0.000000</td>\n",
       "      <td>0.000000</td>\n",
       "    </tr>\n",
       "    <tr>\n",
       "      <th>25%</th>\n",
       "      <td>51408.250000</td>\n",
       "      <td>0.000000</td>\n",
       "      <td>2.000000</td>\n",
       "      <td>1.000000</td>\n",
       "      <td>9.000000</td>\n",
       "      <td>2.000000</td>\n",
       "      <td>3.000000</td>\n",
       "      <td>2.000000</td>\n",
       "      <td>2.000000</td>\n",
       "      <td>0.000000</td>\n",
       "      <td>13.000000</td>\n",
       "      <td>1.000000</td>\n",
       "      <td>1.000000</td>\n",
       "      <td>2.000000</td>\n",
       "      <td>145.770000</td>\n",
       "    </tr>\n",
       "    <tr>\n",
       "      <th>50%</th>\n",
       "      <td>52815.500000</td>\n",
       "      <td>0.000000</td>\n",
       "      <td>9.000000</td>\n",
       "      <td>1.000000</td>\n",
       "      <td>14.000000</td>\n",
       "      <td>3.000000</td>\n",
       "      <td>4.000000</td>\n",
       "      <td>3.000000</td>\n",
       "      <td>3.000000</td>\n",
       "      <td>0.000000</td>\n",
       "      <td>15.000000</td>\n",
       "      <td>1.000000</td>\n",
       "      <td>2.000000</td>\n",
       "      <td>3.000000</td>\n",
       "      <td>163.280000</td>\n",
       "    </tr>\n",
       "    <tr>\n",
       "      <th>75%</th>\n",
       "      <td>54222.750000</td>\n",
       "      <td>0.000000</td>\n",
       "      <td>16.000000</td>\n",
       "      <td>3.000000</td>\n",
       "      <td>20.000000</td>\n",
       "      <td>3.000000</td>\n",
       "      <td>4.000000</td>\n",
       "      <td>4.000000</td>\n",
       "      <td>6.000000</td>\n",
       "      <td>1.000000</td>\n",
       "      <td>18.000000</td>\n",
       "      <td>2.000000</td>\n",
       "      <td>3.000000</td>\n",
       "      <td>7.000000</td>\n",
       "      <td>196.392500</td>\n",
       "    </tr>\n",
       "    <tr>\n",
       "      <th>max</th>\n",
       "      <td>55630.000000</td>\n",
       "      <td>1.000000</td>\n",
       "      <td>61.000000</td>\n",
       "      <td>3.000000</td>\n",
       "      <td>127.000000</td>\n",
       "      <td>5.000000</td>\n",
       "      <td>6.000000</td>\n",
       "      <td>5.000000</td>\n",
       "      <td>22.000000</td>\n",
       "      <td>1.000000</td>\n",
       "      <td>26.000000</td>\n",
       "      <td>16.000000</td>\n",
       "      <td>16.000000</td>\n",
       "      <td>46.000000</td>\n",
       "      <td>324.990000</td>\n",
       "    </tr>\n",
       "  </tbody>\n",
       "</table>\n",
       "</div>"
      ],
      "text/plain": [
       "         CustomerID        Churn       Tenure     CityTier  WarehouseToHome  \\\n",
       "count   5630.000000  5630.000000  5366.000000  5630.000000      5379.000000   \n",
       "mean   52815.500000     0.168384    10.189899     1.654707        15.639896   \n",
       "std     1625.385339     0.374240     8.557241     0.915389         8.531475   \n",
       "min    50001.000000     0.000000     0.000000     1.000000         5.000000   \n",
       "25%    51408.250000     0.000000     2.000000     1.000000         9.000000   \n",
       "50%    52815.500000     0.000000     9.000000     1.000000        14.000000   \n",
       "75%    54222.750000     0.000000    16.000000     3.000000        20.000000   \n",
       "max    55630.000000     1.000000    61.000000     3.000000       127.000000   \n",
       "\n",
       "       HourSpendOnApp  NumberOfDeviceRegistered  SatisfactionScore  \\\n",
       "count     5375.000000               5630.000000        5630.000000   \n",
       "mean         2.931535                  3.688988           3.066785   \n",
       "std          0.721926                  1.023999           1.380194   \n",
       "min          0.000000                  1.000000           1.000000   \n",
       "25%          2.000000                  3.000000           2.000000   \n",
       "50%          3.000000                  4.000000           3.000000   \n",
       "75%          3.000000                  4.000000           4.000000   \n",
       "max          5.000000                  6.000000           5.000000   \n",
       "\n",
       "       NumberOfAddress     Complain  OrderAmountHikeFromlastYear   CouponUsed  \\\n",
       "count      5630.000000  5630.000000                  5365.000000  5374.000000   \n",
       "mean          4.214032     0.284902                    15.707922     1.751023   \n",
       "std           2.583586     0.451408                     3.675485     1.894621   \n",
       "min           1.000000     0.000000                    11.000000     0.000000   \n",
       "25%           2.000000     0.000000                    13.000000     1.000000   \n",
       "50%           3.000000     0.000000                    15.000000     1.000000   \n",
       "75%           6.000000     1.000000                    18.000000     2.000000   \n",
       "max          22.000000     1.000000                    26.000000    16.000000   \n",
       "\n",
       "        OrderCount  DaySinceLastOrder  CashbackAmount  \n",
       "count  5372.000000        5323.000000     5630.000000  \n",
       "mean      3.008004           4.543491      177.223030  \n",
       "std       2.939680           3.654433       49.207036  \n",
       "min       1.000000           0.000000        0.000000  \n",
       "25%       1.000000           2.000000      145.770000  \n",
       "50%       2.000000           3.000000      163.280000  \n",
       "75%       3.000000           7.000000      196.392500  \n",
       "max      16.000000          46.000000      324.990000  "
      ]
     },
     "execution_count": 628,
     "metadata": {},
     "output_type": "execute_result"
    }
   ],
   "source": [
    "df.describe()"
   ]
  },
  {
   "cell_type": "code",
   "execution_count": 629,
   "id": "6790e561",
   "metadata": {},
   "outputs": [
    {
     "name": "stdout",
     "output_type": "stream",
     "text": [
      "<class 'pandas.core.frame.DataFrame'>\n",
      "RangeIndex: 5630 entries, 0 to 5629\n",
      "Data columns (total 20 columns):\n",
      " #   Column                       Non-Null Count  Dtype  \n",
      "---  ------                       --------------  -----  \n",
      " 0   CustomerID                   5630 non-null   int64  \n",
      " 1   Churn                        5630 non-null   int64  \n",
      " 2   Tenure                       5366 non-null   float64\n",
      " 3   PreferredLoginDevice         5630 non-null   object \n",
      " 4   CityTier                     5630 non-null   int64  \n",
      " 5   WarehouseToHome              5379 non-null   float64\n",
      " 6   PreferredPaymentMode         5630 non-null   object \n",
      " 7   Gender                       5630 non-null   object \n",
      " 8   HourSpendOnApp               5375 non-null   float64\n",
      " 9   NumberOfDeviceRegistered     5630 non-null   int64  \n",
      " 10  PreferedOrderCat             5630 non-null   object \n",
      " 11  SatisfactionScore            5630 non-null   int64  \n",
      " 12  MaritalStatus                5630 non-null   object \n",
      " 13  NumberOfAddress              5630 non-null   int64  \n",
      " 14  Complain                     5630 non-null   int64  \n",
      " 15  OrderAmountHikeFromlastYear  5365 non-null   float64\n",
      " 16  CouponUsed                   5374 non-null   float64\n",
      " 17  OrderCount                   5372 non-null   float64\n",
      " 18  DaySinceLastOrder            5323 non-null   float64\n",
      " 19  CashbackAmount               5630 non-null   float64\n",
      "dtypes: float64(8), int64(7), object(5)\n",
      "memory usage: 879.8+ KB\n"
     ]
    }
   ],
   "source": [
    "df.info()"
   ]
  },
  {
   "cell_type": "code",
   "execution_count": 630,
   "id": "fb76f70d",
   "metadata": {
    "scrolled": true
   },
   "outputs": [
    {
     "data": {
      "text/plain": [
       "CustomerID                       0\n",
       "Churn                            0\n",
       "Tenure                         264\n",
       "PreferredLoginDevice             0\n",
       "CityTier                         0\n",
       "WarehouseToHome                251\n",
       "PreferredPaymentMode             0\n",
       "Gender                           0\n",
       "HourSpendOnApp                 255\n",
       "NumberOfDeviceRegistered         0\n",
       "PreferedOrderCat                 0\n",
       "SatisfactionScore                0\n",
       "MaritalStatus                    0\n",
       "NumberOfAddress                  0\n",
       "Complain                         0\n",
       "OrderAmountHikeFromlastYear    265\n",
       "CouponUsed                     256\n",
       "OrderCount                     258\n",
       "DaySinceLastOrder              307\n",
       "CashbackAmount                   0\n",
       "dtype: int64"
      ]
     },
     "execution_count": 630,
     "metadata": {},
     "output_type": "execute_result"
    }
   ],
   "source": [
    "missing_values_count= df.isnull().sum()\n",
    "missing_values_count"
   ]
  },
  {
   "cell_type": "code",
   "execution_count": 631,
   "id": "9fd4d851",
   "metadata": {},
   "outputs": [
    {
     "data": {
      "text/plain": [
       "1.6483126110124333"
      ]
     },
     "execution_count": 631,
     "metadata": {},
     "output_type": "execute_result"
    }
   ],
   "source": [
    "total_cells=np.product(df.shape)\n",
    "total_missing= missing_values_count.sum()\n",
    "\n",
    "(total_missing/total_cells) * 100"
   ]
  },
  {
   "cell_type": "code",
   "execution_count": 632,
   "id": "a5f77808",
   "metadata": {},
   "outputs": [
    {
     "name": "stderr",
     "output_type": "stream",
     "text": [
      "/Users/sahilpunjabi/opt/anaconda3/lib/python3.9/site-packages/seaborn/_decorators.py:36: FutureWarning: Pass the following variable as a keyword arg: x. From version 0.12, the only valid positional argument will be `data`, and passing other arguments without an explicit keyword will result in an error or misinterpretation.\n",
      "  warnings.warn(\n"
     ]
    },
    {
     "data": {
      "text/plain": [
       "<AxesSubplot:xlabel='Tenure'>"
      ]
     },
     "execution_count": 632,
     "metadata": {},
     "output_type": "execute_result"
    },
    {
     "data": {
      "image/png": "[encoded data removed]",
      "text/plain": [
       "<Figure size 720x432 with 1 Axes>"
      ]
     },
     "metadata": {
      "needs_background": "light"
     },
     "output_type": "display_data"
    }
   ],
   "source": [
    "import matplotlib.pyplot as plt\n",
    "import seaborn as sns\n",
    "fig,ax=plt.subplots(figsize=(10,6))\n",
    "sns.boxplot(df.Tenure)"
   ]
  },
  {
   "cell_type": "code",
   "execution_count": 633,
   "id": "4433c476",
   "metadata": {},
   "outputs": [
    {
     "name": "stderr",
     "output_type": "stream",
     "text": [
      "/Users/sahilpunjabi/opt/anaconda3/lib/python3.9/site-packages/seaborn/_decorators.py:36: FutureWarning: Pass the following variable as a keyword arg: x. From version 0.12, the only valid positional argument will be `data`, and passing other arguments without an explicit keyword will result in an error or misinterpretation.\n",
      "  warnings.warn(\n"
     ]
    },
    {
     "data": {
      "text/plain": [
       "<AxesSubplot:xlabel='WarehouseToHome'>"
      ]
     },
     "execution_count": 633,
     "metadata": {},
     "output_type": "execute_result"
    },
    {
     "data": {
      "image/png": "[encoded data removed]",
      "text/plain": [
       "<Figure size 720x432 with 1 Axes>"
      ]
     },
     "metadata": {
      "needs_background": "light"
     },
     "output_type": "display_data"
    }
   ],
   "source": [
    "fig,ax=plt.subplots(figsize=(10,6))\n",
    "sns.boxplot(df.WarehouseToHome)"
   ]
  },
  {
   "cell_type": "code",
   "execution_count": 634,
   "id": "8621ca13",
   "metadata": {},
   "outputs": [
    {
     "name": "stderr",
     "output_type": "stream",
     "text": [
      "/Users/sahilpunjabi/opt/anaconda3/lib/python3.9/site-packages/seaborn/_decorators.py:36: FutureWarning: Pass the following variable as a keyword arg: x. From version 0.12, the only valid positional argument will be `data`, and passing other arguments without an explicit keyword will result in an error or misinterpretation.\n",
      "  warnings.warn(\n"
     ]
    },
    {
     "data": {
      "text/plain": [
       "<AxesSubplot:xlabel='HourSpendOnApp'>"
      ]
     },
     "execution_count": 634,
     "metadata": {},
     "output_type": "execute_result"
    },
    {
     "data": {
      "image/png": "[encoded data removed]",
      "text/plain": [
       "<Figure size 720x432 with 1 Axes>"
      ]
     },
     "metadata": {
      "needs_background": "light"
     },
     "output_type": "display_data"
    }
   ],
   "source": [
    "fig,ax=plt.subplots(figsize=(10,6))\n",
    "sns.boxplot(df.HourSpendOnApp)"
   ]
  },
  {
   "cell_type": "code",
   "execution_count": 635,
   "id": "43db4ea0",
   "metadata": {},
   "outputs": [
    {
     "name": "stderr",
     "output_type": "stream",
     "text": [
      "/Users/sahilpunjabi/opt/anaconda3/lib/python3.9/site-packages/seaborn/_decorators.py:36: FutureWarning: Pass the following variable as a keyword arg: x. From version 0.12, the only valid positional argument will be `data`, and passing other arguments without an explicit keyword will result in an error or misinterpretation.\n",
      "  warnings.warn(\n"
     ]
    },
    {
     "data": {
      "text/plain": [
       "<AxesSubplot:xlabel='OrderAmountHikeFromlastYear'>"
      ]
     },
     "execution_count": 635,
     "metadata": {},
     "output_type": "execute_result"
    },
    {
     "data": {
      "image/png": "[encoded data removed]",
      "text/plain": [
       "<Figure size 720x432 with 1 Axes>"
      ]
     },
     "metadata": {
      "needs_background": "light"
     },
     "output_type": "display_data"
    }
   ],
   "source": [
    "fig,ax=plt.subplots(figsize=(10,6))\n",
    "sns.boxplot(df.OrderAmountHikeFromlastYear)"
   ]
  },
  {
   "cell_type": "code",
   "execution_count": 636,
   "id": "d16adda7",
   "metadata": {},
   "outputs": [
    {
     "name": "stderr",
     "output_type": "stream",
     "text": [
      "/Users/sahilpunjabi/opt/anaconda3/lib/python3.9/site-packages/seaborn/_decorators.py:36: FutureWarning: Pass the following variable as a keyword arg: x. From version 0.12, the only valid positional argument will be `data`, and passing other arguments without an explicit keyword will result in an error or misinterpretation.\n",
      "  warnings.warn(\n"
     ]
    },
    {
     "data": {
      "text/plain": [
       "<AxesSubplot:xlabel='CouponUsed'>"
      ]
     },
     "execution_count": 636,
     "metadata": {},
     "output_type": "execute_result"
    },
    {
     "data": {
      "image/png": "[encoded data removed]",
      "text/plain": [
       "<Figure size 720x432 with 1 Axes>"
      ]
     },
     "metadata": {
      "needs_background": "light"
     },
     "output_type": "display_data"
    }
   ],
   "source": [
    "fig,ax=plt.subplots(figsize=(10,6))\n",
    "sns.boxplot(df.CouponUsed)"
   ]
  },
  {
   "cell_type": "code",
   "execution_count": 637,
   "id": "8cbed33c",
   "metadata": {},
   "outputs": [
    {
     "name": "stderr",
     "output_type": "stream",
     "text": [
      "/Users/sahilpunjabi/opt/anaconda3/lib/python3.9/site-packages/seaborn/_decorators.py:36: FutureWarning: Pass the following variable as a keyword arg: x. From version 0.12, the only valid positional argument will be `data`, and passing other arguments without an explicit keyword will result in an error or misinterpretation.\n",
      "  warnings.warn(\n"
     ]
    },
    {
     "data": {
      "text/plain": [
       "<AxesSubplot:xlabel='OrderCount'>"
      ]
     },
     "execution_count": 637,
     "metadata": {},
     "output_type": "execute_result"
    },
    {
     "data": {
      "image/png": "[encoded data removed]",
      "text/plain": [
       "<Figure size 720x432 with 1 Axes>"
      ]
     },
     "metadata": {
      "needs_background": "light"
     },
     "output_type": "display_data"
    }
   ],
   "source": [
    "fig,ax=plt.subplots(figsize=(10,6))\n",
    "sns.boxplot(df.OrderCount)"
   ]
  },
  {
   "cell_type": "code",
   "execution_count": 638,
   "id": "4e939b54",
   "metadata": {},
   "outputs": [
    {
     "name": "stderr",
     "output_type": "stream",
     "text": [
      "/Users/sahilpunjabi/opt/anaconda3/lib/python3.9/site-packages/seaborn/_decorators.py:36: FutureWarning: Pass the following variable as a keyword arg: x. From version 0.12, the only valid positional argument will be `data`, and passing other arguments without an explicit keyword will result in an error or misinterpretation.\n",
      "  warnings.warn(\n"
     ]
    },
    {
     "data": {
      "text/plain": [
       "<AxesSubplot:xlabel='DaySinceLastOrder'>"
      ]
     },
     "execution_count": 638,
     "metadata": {},
     "output_type": "execute_result"
    },
    {
     "data": {
      "image/png": "[encoded data removed]",
      "text/plain": [
       "<Figure size 720x432 with 1 Axes>"
      ]
     },
     "metadata": {
      "needs_background": "light"
     },
     "output_type": "display_data"
    }
   ],
   "source": [
    "fig,ax=plt.subplots(figsize=(10,6))\n",
    "sns.boxplot(df.DaySinceLastOrder)"
   ]
  },
  {
   "cell_type": "code",
   "execution_count": null,
   "id": "183d133c",
   "metadata": {},
   "outputs": [],
   "source": []
  },
  {
   "cell_type": "code",
   "execution_count": 639,
   "id": "dbc559a7",
   "metadata": {},
   "outputs": [
    {
     "name": "stderr",
     "output_type": "stream",
     "text": [
      "/Users/sahilpunjabi/opt/anaconda3/lib/python3.9/site-packages/seaborn/_decorators.py:36: FutureWarning: Pass the following variable as a keyword arg: x. From version 0.12, the only valid positional argument will be `data`, and passing other arguments without an explicit keyword will result in an error or misinterpretation.\n",
      "  warnings.warn(\n"
     ]
    },
    {
     "data": {
      "text/plain": [
       "<AxesSubplot:xlabel='OrderCount'>"
      ]
     },
     "execution_count": 639,
     "metadata": {},
     "output_type": "execute_result"
    },
    {
     "data": {
      "image/png": "[encoded data removed]",
      "text/plain": [
       "<Figure size 720x432 with 1 Axes>"
      ]
     },
     "metadata": {
      "needs_background": "light"
     },
     "output_type": "display_data"
    }
   ],
   "source": [
    "fig,ax=plt.subplots(figsize=(10,6))\n",
    "sns.boxplot(df.OrderCount)"
   ]
  },
  {
   "cell_type": "code",
   "execution_count": 640,
   "id": "5a24528f",
   "metadata": {},
   "outputs": [
    {
     "name": "stderr",
     "output_type": "stream",
     "text": [
      "/var/folders/6h/0cpc5yvx3s12r82mb6ph4j9m0000gn/T/ipykernel_61113/308181716.py:1: FutureWarning: Dropping of nuisance columns in DataFrame reductions (with 'numeric_only=None') is deprecated; in a future version this will raise TypeError.  Select only valid columns before calling the reduction.\n",
      "  df=df.fillna(df.median())\n"
     ]
    }
   ],
   "source": [
    "df=df.fillna(df.median())"
   ]
  },
  {
   "cell_type": "code",
   "execution_count": 641,
   "id": "c7be20ec",
   "metadata": {},
   "outputs": [],
   "source": [
    "df.drop(['CustomerID'],axis=1, inplace=True)"
   ]
  },
  {
   "cell_type": "code",
   "execution_count": null,
   "id": "753137be",
   "metadata": {},
   "outputs": [],
   "source": []
  },
  {
   "cell_type": "code",
   "execution_count": 642,
   "id": "c9568dee",
   "metadata": {},
   "outputs": [
    {
     "data": {
      "text/html": [
       "<div>\n",
       "<style scoped>\n",
       "    .dataframe tbody tr th:only-of-type {\n",
       "        vertical-align: middle;\n",
       "    }\n",
       "\n",
       "    .dataframe tbody tr th {\n",
       "        vertical-align: top;\n",
       "    }\n",
       "\n",
       "    .dataframe thead th {\n",
       "        text-align: right;\n",
       "    }\n",
       "</style>\n",
       "<table border=\"1\" class=\"dataframe\">\n",
       "  <thead>\n",
       "    <tr style=\"text-align: right;\">\n",
       "      <th></th>\n",
       "      <th>Churn</th>\n",
       "      <th>Tenure</th>\n",
       "      <th>PreferredLoginDevice</th>\n",
       "      <th>CityTier</th>\n",
       "      <th>WarehouseToHome</th>\n",
       "      <th>PreferredPaymentMode</th>\n",
       "      <th>Gender</th>\n",
       "      <th>HourSpendOnApp</th>\n",
       "      <th>NumberOfDeviceRegistered</th>\n",
       "      <th>PreferedOrderCat</th>\n",
       "      <th>SatisfactionScore</th>\n",
       "      <th>MaritalStatus</th>\n",
       "      <th>NumberOfAddress</th>\n",
       "      <th>Complain</th>\n",
       "      <th>OrderAmountHikeFromlastYear</th>\n",
       "      <th>CouponUsed</th>\n",
       "      <th>OrderCount</th>\n",
       "      <th>DaySinceLastOrder</th>\n",
       "      <th>CashbackAmount</th>\n",
       "    </tr>\n",
       "  </thead>\n",
       "  <tbody>\n",
       "    <tr>\n",
       "      <th>0</th>\n",
       "      <td>1</td>\n",
       "      <td>4.0</td>\n",
       "      <td>Mobile Phone</td>\n",
       "      <td>3</td>\n",
       "      <td>6.0</td>\n",
       "      <td>Debit Card</td>\n",
       "      <td>Female</td>\n",
       "      <td>3.0</td>\n",
       "      <td>3</td>\n",
       "      <td>Laptop &amp; Accessory</td>\n",
       "      <td>2</td>\n",
       "      <td>Single</td>\n",
       "      <td>9</td>\n",
       "      <td>1</td>\n",
       "      <td>11.0</td>\n",
       "      <td>1.0</td>\n",
       "      <td>1.0</td>\n",
       "      <td>5.0</td>\n",
       "      <td>159.93</td>\n",
       "    </tr>\n",
       "    <tr>\n",
       "      <th>1</th>\n",
       "      <td>1</td>\n",
       "      <td>9.0</td>\n",
       "      <td>Phone</td>\n",
       "      <td>1</td>\n",
       "      <td>8.0</td>\n",
       "      <td>UPI</td>\n",
       "      <td>Male</td>\n",
       "      <td>3.0</td>\n",
       "      <td>4</td>\n",
       "      <td>Mobile</td>\n",
       "      <td>3</td>\n",
       "      <td>Single</td>\n",
       "      <td>7</td>\n",
       "      <td>1</td>\n",
       "      <td>15.0</td>\n",
       "      <td>0.0</td>\n",
       "      <td>1.0</td>\n",
       "      <td>0.0</td>\n",
       "      <td>120.90</td>\n",
       "    </tr>\n",
       "    <tr>\n",
       "      <th>2</th>\n",
       "      <td>1</td>\n",
       "      <td>9.0</td>\n",
       "      <td>Phone</td>\n",
       "      <td>1</td>\n",
       "      <td>30.0</td>\n",
       "      <td>Debit Card</td>\n",
       "      <td>Male</td>\n",
       "      <td>2.0</td>\n",
       "      <td>4</td>\n",
       "      <td>Mobile</td>\n",
       "      <td>3</td>\n",
       "      <td>Single</td>\n",
       "      <td>6</td>\n",
       "      <td>1</td>\n",
       "      <td>14.0</td>\n",
       "      <td>0.0</td>\n",
       "      <td>1.0</td>\n",
       "      <td>3.0</td>\n",
       "      <td>120.28</td>\n",
       "    </tr>\n",
       "    <tr>\n",
       "      <th>3</th>\n",
       "      <td>1</td>\n",
       "      <td>0.0</td>\n",
       "      <td>Phone</td>\n",
       "      <td>3</td>\n",
       "      <td>15.0</td>\n",
       "      <td>Debit Card</td>\n",
       "      <td>Male</td>\n",
       "      <td>2.0</td>\n",
       "      <td>4</td>\n",
       "      <td>Laptop &amp; Accessory</td>\n",
       "      <td>5</td>\n",
       "      <td>Single</td>\n",
       "      <td>8</td>\n",
       "      <td>0</td>\n",
       "      <td>23.0</td>\n",
       "      <td>0.0</td>\n",
       "      <td>1.0</td>\n",
       "      <td>3.0</td>\n",
       "      <td>134.07</td>\n",
       "    </tr>\n",
       "    <tr>\n",
       "      <th>4</th>\n",
       "      <td>1</td>\n",
       "      <td>0.0</td>\n",
       "      <td>Phone</td>\n",
       "      <td>1</td>\n",
       "      <td>12.0</td>\n",
       "      <td>CC</td>\n",
       "      <td>Male</td>\n",
       "      <td>3.0</td>\n",
       "      <td>3</td>\n",
       "      <td>Mobile</td>\n",
       "      <td>5</td>\n",
       "      <td>Single</td>\n",
       "      <td>3</td>\n",
       "      <td>0</td>\n",
       "      <td>11.0</td>\n",
       "      <td>1.0</td>\n",
       "      <td>1.0</td>\n",
       "      <td>3.0</td>\n",
       "      <td>129.60</td>\n",
       "    </tr>\n",
       "  </tbody>\n",
       "</table>\n",
       "</div>"
      ],
      "text/plain": [
       "   Churn  Tenure PreferredLoginDevice  CityTier  WarehouseToHome  \\\n",
       "0      1     4.0         Mobile Phone         3              6.0   \n",
       "1      1     9.0                Phone         1              8.0   \n",
       "2      1     9.0                Phone         1             30.0   \n",
       "3      1     0.0                Phone         3             15.0   \n",
       "4      1     0.0                Phone         1             12.0   \n",
       "\n",
       "  PreferredPaymentMode  Gender  HourSpendOnApp  NumberOfDeviceRegistered  \\\n",
       "0           Debit Card  Female             3.0                         3   \n",
       "1                  UPI    Male             3.0                         4   \n",
       "2           Debit Card    Male             2.0                         4   \n",
       "3           Debit Card    Male             2.0                         4   \n",
       "4                   CC    Male             3.0                         3   \n",
       "\n",
       "     PreferedOrderCat  SatisfactionScore MaritalStatus  NumberOfAddress  \\\n",
       "0  Laptop & Accessory                  2        Single                9   \n",
       "1              Mobile                  3        Single                7   \n",
       "2              Mobile                  3        Single                6   \n",
       "3  Laptop & Accessory                  5        Single                8   \n",
       "4              Mobile                  5        Single                3   \n",
       "\n",
       "   Complain  OrderAmountHikeFromlastYear  CouponUsed  OrderCount  \\\n",
       "0         1                         11.0         1.0         1.0   \n",
       "1         1                         15.0         0.0         1.0   \n",
       "2         1                         14.0         0.0         1.0   \n",
       "3         0                         23.0         0.0         1.0   \n",
       "4         0                         11.0         1.0         1.0   \n",
       "\n",
       "   DaySinceLastOrder  CashbackAmount  \n",
       "0                5.0          159.93  \n",
       "1                0.0          120.90  \n",
       "2                3.0          120.28  \n",
       "3                3.0          134.07  \n",
       "4                3.0          129.60  "
      ]
     },
     "execution_count": 642,
     "metadata": {},
     "output_type": "execute_result"
    }
   ],
   "source": [
    "df.head()"
   ]
  },
  {
   "cell_type": "code",
   "execution_count": 643,
   "id": "eeb1e009",
   "metadata": {},
   "outputs": [],
   "source": [
    "df['PreferredLoginDevice'] = df['PreferredLoginDevice'].replace(['Mobile Phone'],'Phone')"
   ]
  },
  {
   "cell_type": "code",
   "execution_count": 644,
   "id": "90df433a",
   "metadata": {},
   "outputs": [],
   "source": [
    "df['PreferedOrderCat'] = df['PreferedOrderCat'].replace(['Mobile Phone'],'Mobile')"
   ]
  },
  {
   "cell_type": "code",
   "execution_count": 645,
   "id": "0a0729c1",
   "metadata": {},
   "outputs": [
    {
     "data": {
      "text/html": [
       "<div>\n",
       "<style scoped>\n",
       "    .dataframe tbody tr th:only-of-type {\n",
       "        vertical-align: middle;\n",
       "    }\n",
       "\n",
       "    .dataframe tbody tr th {\n",
       "        vertical-align: top;\n",
       "    }\n",
       "\n",
       "    .dataframe thead th {\n",
       "        text-align: right;\n",
       "    }\n",
       "</style>\n",
       "<table border=\"1\" class=\"dataframe\">\n",
       "  <thead>\n",
       "    <tr style=\"text-align: right;\">\n",
       "      <th></th>\n",
       "      <th>Churn</th>\n",
       "      <th>Tenure</th>\n",
       "      <th>PreferredLoginDevice</th>\n",
       "      <th>CityTier</th>\n",
       "      <th>WarehouseToHome</th>\n",
       "      <th>PreferredPaymentMode</th>\n",
       "      <th>Gender</th>\n",
       "      <th>HourSpendOnApp</th>\n",
       "      <th>NumberOfDeviceRegistered</th>\n",
       "      <th>PreferedOrderCat</th>\n",
       "      <th>SatisfactionScore</th>\n",
       "      <th>MaritalStatus</th>\n",
       "      <th>NumberOfAddress</th>\n",
       "      <th>Complain</th>\n",
       "      <th>OrderAmountHikeFromlastYear</th>\n",
       "      <th>CouponUsed</th>\n",
       "      <th>OrderCount</th>\n",
       "      <th>DaySinceLastOrder</th>\n",
       "      <th>CashbackAmount</th>\n",
       "    </tr>\n",
       "  </thead>\n",
       "  <tbody>\n",
       "    <tr>\n",
       "      <th>0</th>\n",
       "      <td>1</td>\n",
       "      <td>4.0</td>\n",
       "      <td>Phone</td>\n",
       "      <td>3</td>\n",
       "      <td>6.0</td>\n",
       "      <td>Debit Card</td>\n",
       "      <td>Female</td>\n",
       "      <td>3.0</td>\n",
       "      <td>3</td>\n",
       "      <td>Laptop &amp; Accessory</td>\n",
       "      <td>2</td>\n",
       "      <td>Single</td>\n",
       "      <td>9</td>\n",
       "      <td>1</td>\n",
       "      <td>11.0</td>\n",
       "      <td>1.0</td>\n",
       "      <td>1.0</td>\n",
       "      <td>5.0</td>\n",
       "      <td>159.93</td>\n",
       "    </tr>\n",
       "    <tr>\n",
       "      <th>1</th>\n",
       "      <td>1</td>\n",
       "      <td>9.0</td>\n",
       "      <td>Phone</td>\n",
       "      <td>1</td>\n",
       "      <td>8.0</td>\n",
       "      <td>UPI</td>\n",
       "      <td>Male</td>\n",
       "      <td>3.0</td>\n",
       "      <td>4</td>\n",
       "      <td>Mobile</td>\n",
       "      <td>3</td>\n",
       "      <td>Single</td>\n",
       "      <td>7</td>\n",
       "      <td>1</td>\n",
       "      <td>15.0</td>\n",
       "      <td>0.0</td>\n",
       "      <td>1.0</td>\n",
       "      <td>0.0</td>\n",
       "      <td>120.90</td>\n",
       "    </tr>\n",
       "    <tr>\n",
       "      <th>2</th>\n",
       "      <td>1</td>\n",
       "      <td>9.0</td>\n",
       "      <td>Phone</td>\n",
       "      <td>1</td>\n",
       "      <td>30.0</td>\n",
       "      <td>Debit Card</td>\n",
       "      <td>Male</td>\n",
       "      <td>2.0</td>\n",
       "      <td>4</td>\n",
       "      <td>Mobile</td>\n",
       "      <td>3</td>\n",
       "      <td>Single</td>\n",
       "      <td>6</td>\n",
       "      <td>1</td>\n",
       "      <td>14.0</td>\n",
       "      <td>0.0</td>\n",
       "      <td>1.0</td>\n",
       "      <td>3.0</td>\n",
       "      <td>120.28</td>\n",
       "    </tr>\n",
       "    <tr>\n",
       "      <th>3</th>\n",
       "      <td>1</td>\n",
       "      <td>0.0</td>\n",
       "      <td>Phone</td>\n",
       "      <td>3</td>\n",
       "      <td>15.0</td>\n",
       "      <td>Debit Card</td>\n",
       "      <td>Male</td>\n",
       "      <td>2.0</td>\n",
       "      <td>4</td>\n",
       "      <td>Laptop &amp; Accessory</td>\n",
       "      <td>5</td>\n",
       "      <td>Single</td>\n",
       "      <td>8</td>\n",
       "      <td>0</td>\n",
       "      <td>23.0</td>\n",
       "      <td>0.0</td>\n",
       "      <td>1.0</td>\n",
       "      <td>3.0</td>\n",
       "      <td>134.07</td>\n",
       "    </tr>\n",
       "    <tr>\n",
       "      <th>4</th>\n",
       "      <td>1</td>\n",
       "      <td>0.0</td>\n",
       "      <td>Phone</td>\n",
       "      <td>1</td>\n",
       "      <td>12.0</td>\n",
       "      <td>CC</td>\n",
       "      <td>Male</td>\n",
       "      <td>3.0</td>\n",
       "      <td>3</td>\n",
       "      <td>Mobile</td>\n",
       "      <td>5</td>\n",
       "      <td>Single</td>\n",
       "      <td>3</td>\n",
       "      <td>0</td>\n",
       "      <td>11.0</td>\n",
       "      <td>1.0</td>\n",
       "      <td>1.0</td>\n",
       "      <td>3.0</td>\n",
       "      <td>129.60</td>\n",
       "    </tr>\n",
       "  </tbody>\n",
       "</table>\n",
       "</div>"
      ],
      "text/plain": [
       "   Churn  Tenure PreferredLoginDevice  CityTier  WarehouseToHome  \\\n",
       "0      1     4.0                Phone         3              6.0   \n",
       "1      1     9.0                Phone         1              8.0   \n",
       "2      1     9.0                Phone         1             30.0   \n",
       "3      1     0.0                Phone         3             15.0   \n",
       "4      1     0.0                Phone         1             12.0   \n",
       "\n",
       "  PreferredPaymentMode  Gender  HourSpendOnApp  NumberOfDeviceRegistered  \\\n",
       "0           Debit Card  Female             3.0                         3   \n",
       "1                  UPI    Male             3.0                         4   \n",
       "2           Debit Card    Male             2.0                         4   \n",
       "3           Debit Card    Male             2.0                         4   \n",
       "4                   CC    Male             3.0                         3   \n",
       "\n",
       "     PreferedOrderCat  SatisfactionScore MaritalStatus  NumberOfAddress  \\\n",
       "0  Laptop & Accessory                  2        Single                9   \n",
       "1              Mobile                  3        Single                7   \n",
       "2              Mobile                  3        Single                6   \n",
       "3  Laptop & Accessory                  5        Single                8   \n",
       "4              Mobile                  5        Single                3   \n",
       "\n",
       "   Complain  OrderAmountHikeFromlastYear  CouponUsed  OrderCount  \\\n",
       "0         1                         11.0         1.0         1.0   \n",
       "1         1                         15.0         0.0         1.0   \n",
       "2         1                         14.0         0.0         1.0   \n",
       "3         0                         23.0         0.0         1.0   \n",
       "4         0                         11.0         1.0         1.0   \n",
       "\n",
       "   DaySinceLastOrder  CashbackAmount  \n",
       "0                5.0          159.93  \n",
       "1                0.0          120.90  \n",
       "2                3.0          120.28  \n",
       "3                3.0          134.07  \n",
       "4                3.0          129.60  "
      ]
     },
     "execution_count": 645,
     "metadata": {},
     "output_type": "execute_result"
    }
   ],
   "source": [
    "df.head()"
   ]
  },
  {
   "cell_type": "code",
   "execution_count": null,
   "id": "559d393f",
   "metadata": {},
   "outputs": [],
   "source": []
  },
  {
   "cell_type": "code",
   "execution_count": null,
   "id": "4f3add22",
   "metadata": {},
   "outputs": [],
   "source": []
  },
  {
   "cell_type": "code",
   "execution_count": 646,
   "id": "c1fb3d51",
   "metadata": {},
   "outputs": [
    {
     "data": {
      "text/html": [
       "<div>\n",
       "<style scoped>\n",
       "    .dataframe tbody tr th:only-of-type {\n",
       "        vertical-align: middle;\n",
       "    }\n",
       "\n",
       "    .dataframe tbody tr th {\n",
       "        vertical-align: top;\n",
       "    }\n",
       "\n",
       "    .dataframe thead th {\n",
       "        text-align: right;\n",
       "    }\n",
       "</style>\n",
       "<table border=\"1\" class=\"dataframe\">\n",
       "  <thead>\n",
       "    <tr style=\"text-align: right;\">\n",
       "      <th></th>\n",
       "      <th>Churn</th>\n",
       "      <th>Tenure</th>\n",
       "      <th>CityTier</th>\n",
       "      <th>WarehouseToHome</th>\n",
       "      <th>HourSpendOnApp</th>\n",
       "      <th>NumberOfDeviceRegistered</th>\n",
       "      <th>SatisfactionScore</th>\n",
       "      <th>NumberOfAddress</th>\n",
       "      <th>Complain</th>\n",
       "      <th>OrderAmountHikeFromlastYear</th>\n",
       "      <th>CouponUsed</th>\n",
       "      <th>OrderCount</th>\n",
       "      <th>DaySinceLastOrder</th>\n",
       "      <th>CashbackAmount</th>\n",
       "    </tr>\n",
       "  </thead>\n",
       "  <tbody>\n",
       "    <tr>\n",
       "      <th>count</th>\n",
       "      <td>5630.000000</td>\n",
       "      <td>5630.000000</td>\n",
       "      <td>5630.000000</td>\n",
       "      <td>5630.000000</td>\n",
       "      <td>5630.000000</td>\n",
       "      <td>5630.000000</td>\n",
       "      <td>5630.000000</td>\n",
       "      <td>5630.000000</td>\n",
       "      <td>5630.000000</td>\n",
       "      <td>5630.000000</td>\n",
       "      <td>5630.000000</td>\n",
       "      <td>5630.000000</td>\n",
       "      <td>5630.000000</td>\n",
       "      <td>5630.000000</td>\n",
       "    </tr>\n",
       "    <tr>\n",
       "      <th>mean</th>\n",
       "      <td>0.168384</td>\n",
       "      <td>10.134103</td>\n",
       "      <td>1.654707</td>\n",
       "      <td>15.566785</td>\n",
       "      <td>2.934636</td>\n",
       "      <td>3.688988</td>\n",
       "      <td>3.066785</td>\n",
       "      <td>4.214032</td>\n",
       "      <td>0.284902</td>\n",
       "      <td>15.674600</td>\n",
       "      <td>1.716874</td>\n",
       "      <td>2.961812</td>\n",
       "      <td>4.459325</td>\n",
       "      <td>177.223030</td>\n",
       "    </tr>\n",
       "    <tr>\n",
       "      <th>std</th>\n",
       "      <td>0.374240</td>\n",
       "      <td>8.357951</td>\n",
       "      <td>0.915389</td>\n",
       "      <td>8.345961</td>\n",
       "      <td>0.705528</td>\n",
       "      <td>1.023999</td>\n",
       "      <td>1.380194</td>\n",
       "      <td>2.583586</td>\n",
       "      <td>0.451408</td>\n",
       "      <td>3.591058</td>\n",
       "      <td>1.857640</td>\n",
       "      <td>2.879248</td>\n",
       "      <td>3.570626</td>\n",
       "      <td>49.207036</td>\n",
       "    </tr>\n",
       "    <tr>\n",
       "      <th>min</th>\n",
       "      <td>0.000000</td>\n",
       "      <td>0.000000</td>\n",
       "      <td>1.000000</td>\n",
       "      <td>5.000000</td>\n",
       "      <td>0.000000</td>\n",
       "      <td>1.000000</td>\n",
       "      <td>1.000000</td>\n",
       "      <td>1.000000</td>\n",
       "      <td>0.000000</td>\n",
       "      <td>11.000000</td>\n",
       "      <td>0.000000</td>\n",
       "      <td>1.000000</td>\n",
       "      <td>0.000000</td>\n",
       "      <td>0.000000</td>\n",
       "    </tr>\n",
       "    <tr>\n",
       "      <th>25%</th>\n",
       "      <td>0.000000</td>\n",
       "      <td>3.000000</td>\n",
       "      <td>1.000000</td>\n",
       "      <td>9.000000</td>\n",
       "      <td>2.000000</td>\n",
       "      <td>3.000000</td>\n",
       "      <td>2.000000</td>\n",
       "      <td>2.000000</td>\n",
       "      <td>0.000000</td>\n",
       "      <td>13.000000</td>\n",
       "      <td>1.000000</td>\n",
       "      <td>1.000000</td>\n",
       "      <td>2.000000</td>\n",
       "      <td>145.770000</td>\n",
       "    </tr>\n",
       "    <tr>\n",
       "      <th>50%</th>\n",
       "      <td>0.000000</td>\n",
       "      <td>9.000000</td>\n",
       "      <td>1.000000</td>\n",
       "      <td>14.000000</td>\n",
       "      <td>3.000000</td>\n",
       "      <td>4.000000</td>\n",
       "      <td>3.000000</td>\n",
       "      <td>3.000000</td>\n",
       "      <td>0.000000</td>\n",
       "      <td>15.000000</td>\n",
       "      <td>1.000000</td>\n",
       "      <td>2.000000</td>\n",
       "      <td>3.000000</td>\n",
       "      <td>163.280000</td>\n",
       "    </tr>\n",
       "    <tr>\n",
       "      <th>75%</th>\n",
       "      <td>0.000000</td>\n",
       "      <td>15.000000</td>\n",
       "      <td>3.000000</td>\n",
       "      <td>20.000000</td>\n",
       "      <td>3.000000</td>\n",
       "      <td>4.000000</td>\n",
       "      <td>4.000000</td>\n",
       "      <td>6.000000</td>\n",
       "      <td>1.000000</td>\n",
       "      <td>18.000000</td>\n",
       "      <td>2.000000</td>\n",
       "      <td>3.000000</td>\n",
       "      <td>7.000000</td>\n",
       "      <td>196.392500</td>\n",
       "    </tr>\n",
       "    <tr>\n",
       "      <th>max</th>\n",
       "      <td>1.000000</td>\n",
       "      <td>61.000000</td>\n",
       "      <td>3.000000</td>\n",
       "      <td>127.000000</td>\n",
       "      <td>5.000000</td>\n",
       "      <td>6.000000</td>\n",
       "      <td>5.000000</td>\n",
       "      <td>22.000000</td>\n",
       "      <td>1.000000</td>\n",
       "      <td>26.000000</td>\n",
       "      <td>16.000000</td>\n",
       "      <td>16.000000</td>\n",
       "      <td>46.000000</td>\n",
       "      <td>324.990000</td>\n",
       "    </tr>\n",
       "  </tbody>\n",
       "</table>\n",
       "</div>"
      ],
      "text/plain": [
       "             Churn       Tenure     CityTier  WarehouseToHome  HourSpendOnApp  \\\n",
       "count  5630.000000  5630.000000  5630.000000      5630.000000     5630.000000   \n",
       "mean      0.168384    10.134103     1.654707        15.566785        2.934636   \n",
       "std       0.374240     8.357951     0.915389         8.345961        0.705528   \n",
       "min       0.000000     0.000000     1.000000         5.000000        0.000000   \n",
       "25%       0.000000     3.000000     1.000000         9.000000        2.000000   \n",
       "50%       0.000000     9.000000     1.000000        14.000000        3.000000   \n",
       "75%       0.000000    15.000000     3.000000        20.000000        3.000000   \n",
       "max       1.000000    61.000000     3.000000       127.000000        5.000000   \n",
       "\n",
       "       NumberOfDeviceRegistered  SatisfactionScore  NumberOfAddress  \\\n",
       "count               5630.000000        5630.000000      5630.000000   \n",
       "mean                   3.688988           3.066785         4.214032   \n",
       "std                    1.023999           1.380194         2.583586   \n",
       "min                    1.000000           1.000000         1.000000   \n",
       "25%                    3.000000           2.000000         2.000000   \n",
       "50%                    4.000000           3.000000         3.000000   \n",
       "75%                    4.000000           4.000000         6.000000   \n",
       "max                    6.000000           5.000000        22.000000   \n",
       "\n",
       "          Complain  OrderAmountHikeFromlastYear   CouponUsed   OrderCount  \\\n",
       "count  5630.000000                  5630.000000  5630.000000  5630.000000   \n",
       "mean      0.284902                    15.674600     1.716874     2.961812   \n",
       "std       0.451408                     3.591058     1.857640     2.879248   \n",
       "min       0.000000                    11.000000     0.000000     1.000000   \n",
       "25%       0.000000                    13.000000     1.000000     1.000000   \n",
       "50%       0.000000                    15.000000     1.000000     2.000000   \n",
       "75%       1.000000                    18.000000     2.000000     3.000000   \n",
       "max       1.000000                    26.000000    16.000000    16.000000   \n",
       "\n",
       "       DaySinceLastOrder  CashbackAmount  \n",
       "count        5630.000000     5630.000000  \n",
       "mean            4.459325      177.223030  \n",
       "std             3.570626       49.207036  \n",
       "min             0.000000        0.000000  \n",
       "25%             2.000000      145.770000  \n",
       "50%             3.000000      163.280000  \n",
       "75%             7.000000      196.392500  \n",
       "max            46.000000      324.990000  "
      ]
     },
     "execution_count": 646,
     "metadata": {},
     "output_type": "execute_result"
    }
   ],
   "source": [
    "df.describe()"
   ]
  },
  {
   "cell_type": "code",
   "execution_count": 647,
   "id": "c8cd4891",
   "metadata": {},
   "outputs": [
    {
     "data": {
      "text/html": [
       "<div>\n",
       "<style scoped>\n",
       "    .dataframe tbody tr th:only-of-type {\n",
       "        vertical-align: middle;\n",
       "    }\n",
       "\n",
       "    .dataframe tbody tr th {\n",
       "        vertical-align: top;\n",
       "    }\n",
       "\n",
       "    .dataframe thead th {\n",
       "        text-align: right;\n",
       "    }\n",
       "</style>\n",
       "<table border=\"1\" class=\"dataframe\">\n",
       "  <thead>\n",
       "    <tr style=\"text-align: right;\">\n",
       "      <th></th>\n",
       "      <th>Churn</th>\n",
       "      <th>Tenure</th>\n",
       "      <th>PreferredLoginDevice</th>\n",
       "      <th>CityTier</th>\n",
       "      <th>WarehouseToHome</th>\n",
       "      <th>PreferredPaymentMode</th>\n",
       "      <th>Gender</th>\n",
       "      <th>HourSpendOnApp</th>\n",
       "      <th>NumberOfDeviceRegistered</th>\n",
       "      <th>PreferedOrderCat</th>\n",
       "      <th>SatisfactionScore</th>\n",
       "      <th>MaritalStatus</th>\n",
       "      <th>NumberOfAddress</th>\n",
       "      <th>Complain</th>\n",
       "      <th>OrderAmountHikeFromlastYear</th>\n",
       "      <th>CouponUsed</th>\n",
       "      <th>OrderCount</th>\n",
       "      <th>DaySinceLastOrder</th>\n",
       "      <th>CashbackAmount</th>\n",
       "    </tr>\n",
       "  </thead>\n",
       "  <tbody>\n",
       "    <tr>\n",
       "      <th>0</th>\n",
       "      <td>1</td>\n",
       "      <td>4.0</td>\n",
       "      <td>Phone</td>\n",
       "      <td>3</td>\n",
       "      <td>6.0</td>\n",
       "      <td>Debit Card</td>\n",
       "      <td>Female</td>\n",
       "      <td>3.0</td>\n",
       "      <td>3</td>\n",
       "      <td>Laptop &amp; Accessory</td>\n",
       "      <td>2</td>\n",
       "      <td>Single</td>\n",
       "      <td>9</td>\n",
       "      <td>1</td>\n",
       "      <td>11.0</td>\n",
       "      <td>1.0</td>\n",
       "      <td>1.0</td>\n",
       "      <td>5.0</td>\n",
       "      <td>159.93</td>\n",
       "    </tr>\n",
       "    <tr>\n",
       "      <th>1</th>\n",
       "      <td>1</td>\n",
       "      <td>9.0</td>\n",
       "      <td>Phone</td>\n",
       "      <td>1</td>\n",
       "      <td>8.0</td>\n",
       "      <td>UPI</td>\n",
       "      <td>Male</td>\n",
       "      <td>3.0</td>\n",
       "      <td>4</td>\n",
       "      <td>Mobile</td>\n",
       "      <td>3</td>\n",
       "      <td>Single</td>\n",
       "      <td>7</td>\n",
       "      <td>1</td>\n",
       "      <td>15.0</td>\n",
       "      <td>0.0</td>\n",
       "      <td>1.0</td>\n",
       "      <td>0.0</td>\n",
       "      <td>120.90</td>\n",
       "    </tr>\n",
       "    <tr>\n",
       "      <th>2</th>\n",
       "      <td>1</td>\n",
       "      <td>9.0</td>\n",
       "      <td>Phone</td>\n",
       "      <td>1</td>\n",
       "      <td>30.0</td>\n",
       "      <td>Debit Card</td>\n",
       "      <td>Male</td>\n",
       "      <td>2.0</td>\n",
       "      <td>4</td>\n",
       "      <td>Mobile</td>\n",
       "      <td>3</td>\n",
       "      <td>Single</td>\n",
       "      <td>6</td>\n",
       "      <td>1</td>\n",
       "      <td>14.0</td>\n",
       "      <td>0.0</td>\n",
       "      <td>1.0</td>\n",
       "      <td>3.0</td>\n",
       "      <td>120.28</td>\n",
       "    </tr>\n",
       "    <tr>\n",
       "      <th>3</th>\n",
       "      <td>1</td>\n",
       "      <td>0.0</td>\n",
       "      <td>Phone</td>\n",
       "      <td>3</td>\n",
       "      <td>15.0</td>\n",
       "      <td>Debit Card</td>\n",
       "      <td>Male</td>\n",
       "      <td>2.0</td>\n",
       "      <td>4</td>\n",
       "      <td>Laptop &amp; Accessory</td>\n",
       "      <td>5</td>\n",
       "      <td>Single</td>\n",
       "      <td>8</td>\n",
       "      <td>0</td>\n",
       "      <td>23.0</td>\n",
       "      <td>0.0</td>\n",
       "      <td>1.0</td>\n",
       "      <td>3.0</td>\n",
       "      <td>134.07</td>\n",
       "    </tr>\n",
       "    <tr>\n",
       "      <th>4</th>\n",
       "      <td>1</td>\n",
       "      <td>0.0</td>\n",
       "      <td>Phone</td>\n",
       "      <td>1</td>\n",
       "      <td>12.0</td>\n",
       "      <td>CC</td>\n",
       "      <td>Male</td>\n",
       "      <td>3.0</td>\n",
       "      <td>3</td>\n",
       "      <td>Mobile</td>\n",
       "      <td>5</td>\n",
       "      <td>Single</td>\n",
       "      <td>3</td>\n",
       "      <td>0</td>\n",
       "      <td>11.0</td>\n",
       "      <td>1.0</td>\n",
       "      <td>1.0</td>\n",
       "      <td>3.0</td>\n",
       "      <td>129.60</td>\n",
       "    </tr>\n",
       "    <tr>\n",
       "      <th>5</th>\n",
       "      <td>1</td>\n",
       "      <td>0.0</td>\n",
       "      <td>Computer</td>\n",
       "      <td>1</td>\n",
       "      <td>22.0</td>\n",
       "      <td>Debit Card</td>\n",
       "      <td>Female</td>\n",
       "      <td>3.0</td>\n",
       "      <td>5</td>\n",
       "      <td>Mobile</td>\n",
       "      <td>5</td>\n",
       "      <td>Single</td>\n",
       "      <td>2</td>\n",
       "      <td>1</td>\n",
       "      <td>22.0</td>\n",
       "      <td>4.0</td>\n",
       "      <td>6.0</td>\n",
       "      <td>7.0</td>\n",
       "      <td>139.19</td>\n",
       "    </tr>\n",
       "    <tr>\n",
       "      <th>6</th>\n",
       "      <td>1</td>\n",
       "      <td>9.0</td>\n",
       "      <td>Phone</td>\n",
       "      <td>3</td>\n",
       "      <td>11.0</td>\n",
       "      <td>Cash on Delivery</td>\n",
       "      <td>Male</td>\n",
       "      <td>2.0</td>\n",
       "      <td>3</td>\n",
       "      <td>Laptop &amp; Accessory</td>\n",
       "      <td>2</td>\n",
       "      <td>Divorced</td>\n",
       "      <td>4</td>\n",
       "      <td>0</td>\n",
       "      <td>14.0</td>\n",
       "      <td>0.0</td>\n",
       "      <td>1.0</td>\n",
       "      <td>0.0</td>\n",
       "      <td>120.86</td>\n",
       "    </tr>\n",
       "    <tr>\n",
       "      <th>7</th>\n",
       "      <td>1</td>\n",
       "      <td>9.0</td>\n",
       "      <td>Phone</td>\n",
       "      <td>1</td>\n",
       "      <td>6.0</td>\n",
       "      <td>CC</td>\n",
       "      <td>Male</td>\n",
       "      <td>3.0</td>\n",
       "      <td>3</td>\n",
       "      <td>Mobile</td>\n",
       "      <td>2</td>\n",
       "      <td>Divorced</td>\n",
       "      <td>3</td>\n",
       "      <td>1</td>\n",
       "      <td>16.0</td>\n",
       "      <td>2.0</td>\n",
       "      <td>2.0</td>\n",
       "      <td>0.0</td>\n",
       "      <td>122.93</td>\n",
       "    </tr>\n",
       "    <tr>\n",
       "      <th>8</th>\n",
       "      <td>1</td>\n",
       "      <td>13.0</td>\n",
       "      <td>Phone</td>\n",
       "      <td>3</td>\n",
       "      <td>9.0</td>\n",
       "      <td>E wallet</td>\n",
       "      <td>Male</td>\n",
       "      <td>3.0</td>\n",
       "      <td>4</td>\n",
       "      <td>Mobile</td>\n",
       "      <td>3</td>\n",
       "      <td>Divorced</td>\n",
       "      <td>2</td>\n",
       "      <td>1</td>\n",
       "      <td>14.0</td>\n",
       "      <td>0.0</td>\n",
       "      <td>1.0</td>\n",
       "      <td>2.0</td>\n",
       "      <td>126.83</td>\n",
       "    </tr>\n",
       "    <tr>\n",
       "      <th>9</th>\n",
       "      <td>1</td>\n",
       "      <td>9.0</td>\n",
       "      <td>Phone</td>\n",
       "      <td>1</td>\n",
       "      <td>31.0</td>\n",
       "      <td>Debit Card</td>\n",
       "      <td>Male</td>\n",
       "      <td>2.0</td>\n",
       "      <td>5</td>\n",
       "      <td>Mobile</td>\n",
       "      <td>3</td>\n",
       "      <td>Single</td>\n",
       "      <td>2</td>\n",
       "      <td>0</td>\n",
       "      <td>12.0</td>\n",
       "      <td>1.0</td>\n",
       "      <td>1.0</td>\n",
       "      <td>1.0</td>\n",
       "      <td>122.93</td>\n",
       "    </tr>\n",
       "    <tr>\n",
       "      <th>10</th>\n",
       "      <td>1</td>\n",
       "      <td>4.0</td>\n",
       "      <td>Phone</td>\n",
       "      <td>1</td>\n",
       "      <td>18.0</td>\n",
       "      <td>Cash on Delivery</td>\n",
       "      <td>Female</td>\n",
       "      <td>2.0</td>\n",
       "      <td>3</td>\n",
       "      <td>Others</td>\n",
       "      <td>3</td>\n",
       "      <td>Divorced</td>\n",
       "      <td>2</td>\n",
       "      <td>0</td>\n",
       "      <td>15.0</td>\n",
       "      <td>9.0</td>\n",
       "      <td>15.0</td>\n",
       "      <td>8.0</td>\n",
       "      <td>295.45</td>\n",
       "    </tr>\n",
       "    <tr>\n",
       "      <th>11</th>\n",
       "      <td>1</td>\n",
       "      <td>11.0</td>\n",
       "      <td>Phone</td>\n",
       "      <td>1</td>\n",
       "      <td>6.0</td>\n",
       "      <td>Debit Card</td>\n",
       "      <td>Male</td>\n",
       "      <td>3.0</td>\n",
       "      <td>4</td>\n",
       "      <td>Fashion</td>\n",
       "      <td>3</td>\n",
       "      <td>Single</td>\n",
       "      <td>10</td>\n",
       "      <td>1</td>\n",
       "      <td>13.0</td>\n",
       "      <td>0.0</td>\n",
       "      <td>1.0</td>\n",
       "      <td>0.0</td>\n",
       "      <td>153.81</td>\n",
       "    </tr>\n",
       "    <tr>\n",
       "      <th>12</th>\n",
       "      <td>1</td>\n",
       "      <td>0.0</td>\n",
       "      <td>Phone</td>\n",
       "      <td>1</td>\n",
       "      <td>11.0</td>\n",
       "      <td>COD</td>\n",
       "      <td>Male</td>\n",
       "      <td>2.0</td>\n",
       "      <td>3</td>\n",
       "      <td>Mobile</td>\n",
       "      <td>3</td>\n",
       "      <td>Single</td>\n",
       "      <td>2</td>\n",
       "      <td>1</td>\n",
       "      <td>13.0</td>\n",
       "      <td>2.0</td>\n",
       "      <td>2.0</td>\n",
       "      <td>2.0</td>\n",
       "      <td>134.41</td>\n",
       "    </tr>\n",
       "    <tr>\n",
       "      <th>13</th>\n",
       "      <td>1</td>\n",
       "      <td>0.0</td>\n",
       "      <td>Phone</td>\n",
       "      <td>1</td>\n",
       "      <td>15.0</td>\n",
       "      <td>CC</td>\n",
       "      <td>Male</td>\n",
       "      <td>3.0</td>\n",
       "      <td>4</td>\n",
       "      <td>Mobile</td>\n",
       "      <td>3</td>\n",
       "      <td>Divorced</td>\n",
       "      <td>1</td>\n",
       "      <td>1</td>\n",
       "      <td>17.0</td>\n",
       "      <td>0.0</td>\n",
       "      <td>1.0</td>\n",
       "      <td>0.0</td>\n",
       "      <td>133.88</td>\n",
       "    </tr>\n",
       "    <tr>\n",
       "      <th>14</th>\n",
       "      <td>1</td>\n",
       "      <td>9.0</td>\n",
       "      <td>Phone</td>\n",
       "      <td>3</td>\n",
       "      <td>15.0</td>\n",
       "      <td>Credit Card</td>\n",
       "      <td>Male</td>\n",
       "      <td>3.0</td>\n",
       "      <td>4</td>\n",
       "      <td>Fashion</td>\n",
       "      <td>2</td>\n",
       "      <td>Single</td>\n",
       "      <td>2</td>\n",
       "      <td>0</td>\n",
       "      <td>16.0</td>\n",
       "      <td>0.0</td>\n",
       "      <td>4.0</td>\n",
       "      <td>7.0</td>\n",
       "      <td>196.19</td>\n",
       "    </tr>\n",
       "  </tbody>\n",
       "</table>\n",
       "</div>"
      ],
      "text/plain": [
       "    Churn  Tenure PreferredLoginDevice  CityTier  WarehouseToHome  \\\n",
       "0       1     4.0                Phone         3              6.0   \n",
       "1       1     9.0                Phone         1              8.0   \n",
       "2       1     9.0                Phone         1             30.0   \n",
       "3       1     0.0                Phone         3             15.0   \n",
       "4       1     0.0                Phone         1             12.0   \n",
       "5       1     0.0             Computer         1             22.0   \n",
       "6       1     9.0                Phone         3             11.0   \n",
       "7       1     9.0                Phone         1              6.0   \n",
       "8       1    13.0                Phone         3              9.0   \n",
       "9       1     9.0                Phone         1             31.0   \n",
       "10      1     4.0                Phone         1             18.0   \n",
       "11      1    11.0                Phone         1              6.0   \n",
       "12      1     0.0                Phone         1             11.0   \n",
       "13      1     0.0                Phone         1             15.0   \n",
       "14      1     9.0                Phone         3             15.0   \n",
       "\n",
       "   PreferredPaymentMode  Gender  HourSpendOnApp  NumberOfDeviceRegistered  \\\n",
       "0            Debit Card  Female             3.0                         3   \n",
       "1                   UPI    Male             3.0                         4   \n",
       "2            Debit Card    Male             2.0                         4   \n",
       "3            Debit Card    Male             2.0                         4   \n",
       "4                    CC    Male             3.0                         3   \n",
       "5            Debit Card  Female             3.0                         5   \n",
       "6      Cash on Delivery    Male             2.0                         3   \n",
       "7                    CC    Male             3.0                         3   \n",
       "8              E wallet    Male             3.0                         4   \n",
       "9            Debit Card    Male             2.0                         5   \n",
       "10     Cash on Delivery  Female             2.0                         3   \n",
       "11           Debit Card    Male             3.0                         4   \n",
       "12                  COD    Male             2.0                         3   \n",
       "13                   CC    Male             3.0                         4   \n",
       "14          Credit Card    Male             3.0                         4   \n",
       "\n",
       "      PreferedOrderCat  SatisfactionScore MaritalStatus  NumberOfAddress  \\\n",
       "0   Laptop & Accessory                  2        Single                9   \n",
       "1               Mobile                  3        Single                7   \n",
       "2               Mobile                  3        Single                6   \n",
       "3   Laptop & Accessory                  5        Single                8   \n",
       "4               Mobile                  5        Single                3   \n",
       "5               Mobile                  5        Single                2   \n",
       "6   Laptop & Accessory                  2      Divorced                4   \n",
       "7               Mobile                  2      Divorced                3   \n",
       "8               Mobile                  3      Divorced                2   \n",
       "9               Mobile                  3        Single                2   \n",
       "10              Others                  3      Divorced                2   \n",
       "11             Fashion                  3        Single               10   \n",
       "12              Mobile                  3        Single                2   \n",
       "13              Mobile                  3      Divorced                1   \n",
       "14             Fashion                  2        Single                2   \n",
       "\n",
       "    Complain  OrderAmountHikeFromlastYear  CouponUsed  OrderCount  \\\n",
       "0          1                         11.0         1.0         1.0   \n",
       "1          1                         15.0         0.0         1.0   \n",
       "2          1                         14.0         0.0         1.0   \n",
       "3          0                         23.0         0.0         1.0   \n",
       "4          0                         11.0         1.0         1.0   \n",
       "5          1                         22.0         4.0         6.0   \n",
       "6          0                         14.0         0.0         1.0   \n",
       "7          1                         16.0         2.0         2.0   \n",
       "8          1                         14.0         0.0         1.0   \n",
       "9          0                         12.0         1.0         1.0   \n",
       "10         0                         15.0         9.0        15.0   \n",
       "11         1                         13.0         0.0         1.0   \n",
       "12         1                         13.0         2.0         2.0   \n",
       "13         1                         17.0         0.0         1.0   \n",
       "14         0                         16.0         0.0         4.0   \n",
       "\n",
       "    DaySinceLastOrder  CashbackAmount  \n",
       "0                 5.0          159.93  \n",
       "1                 0.0          120.90  \n",
       "2                 3.0          120.28  \n",
       "3                 3.0          134.07  \n",
       "4                 3.0          129.60  \n",
       "5                 7.0          139.19  \n",
       "6                 0.0          120.86  \n",
       "7                 0.0          122.93  \n",
       "8                 2.0          126.83  \n",
       "9                 1.0          122.93  \n",
       "10                8.0          295.45  \n",
       "11                0.0          153.81  \n",
       "12                2.0          134.41  \n",
       "13                0.0          133.88  \n",
       "14                7.0          196.19  "
      ]
     },
     "execution_count": 647,
     "metadata": {},
     "output_type": "execute_result"
    }
   ],
   "source": [
    "df.head(15)"
   ]
  },
  {
   "cell_type": "code",
   "execution_count": 648,
   "id": "79bc7a07",
   "metadata": {
    "scrolled": true
   },
   "outputs": [
    {
     "data": {
      "text/html": [
       "<div>\n",
       "<style scoped>\n",
       "    .dataframe tbody tr th:only-of-type {\n",
       "        vertical-align: middle;\n",
       "    }\n",
       "\n",
       "    .dataframe tbody tr th {\n",
       "        vertical-align: top;\n",
       "    }\n",
       "\n",
       "    .dataframe thead th {\n",
       "        text-align: right;\n",
       "    }\n",
       "</style>\n",
       "<table border=\"1\" class=\"dataframe\">\n",
       "  <thead>\n",
       "    <tr style=\"text-align: right;\">\n",
       "      <th></th>\n",
       "      <th>Churn</th>\n",
       "      <th>Tenure</th>\n",
       "      <th>CityTier</th>\n",
       "      <th>WarehouseToHome</th>\n",
       "      <th>HourSpendOnApp</th>\n",
       "      <th>NumberOfDeviceRegistered</th>\n",
       "      <th>SatisfactionScore</th>\n",
       "      <th>NumberOfAddress</th>\n",
       "      <th>Complain</th>\n",
       "      <th>OrderAmountHikeFromlastYear</th>\n",
       "      <th>CouponUsed</th>\n",
       "      <th>OrderCount</th>\n",
       "      <th>DaySinceLastOrder</th>\n",
       "      <th>CashbackAmount</th>\n",
       "    </tr>\n",
       "  </thead>\n",
       "  <tbody>\n",
       "    <tr>\n",
       "      <th>Churn</th>\n",
       "      <td>1.000000</td>\n",
       "      <td>-0.337831</td>\n",
       "      <td>0.084703</td>\n",
       "      <td>0.069544</td>\n",
       "      <td>0.018816</td>\n",
       "      <td>0.107939</td>\n",
       "      <td>0.105481</td>\n",
       "      <td>0.043931</td>\n",
       "      <td>0.250188</td>\n",
       "      <td>-0.007075</td>\n",
       "      <td>-0.001430</td>\n",
       "      <td>-0.024038</td>\n",
       "      <td>-0.155871</td>\n",
       "      <td>-0.154118</td>\n",
       "    </tr>\n",
       "    <tr>\n",
       "      <th>Tenure</th>\n",
       "      <td>-0.337831</td>\n",
       "      <td>1.000000</td>\n",
       "      <td>-0.057895</td>\n",
       "      <td>-0.012191</td>\n",
       "      <td>-0.017282</td>\n",
       "      <td>-0.020657</td>\n",
       "      <td>-0.014452</td>\n",
       "      <td>0.235076</td>\n",
       "      <td>-0.020535</td>\n",
       "      <td>-0.005542</td>\n",
       "      <td>0.101535</td>\n",
       "      <td>0.165339</td>\n",
       "      <td>0.174378</td>\n",
       "      <td>0.467986</td>\n",
       "    </tr>\n",
       "    <tr>\n",
       "      <th>CityTier</th>\n",
       "      <td>0.084703</td>\n",
       "      <td>-0.057895</td>\n",
       "      <td>1.000000</td>\n",
       "      <td>0.013576</td>\n",
       "      <td>-0.009921</td>\n",
       "      <td>0.027934</td>\n",
       "      <td>-0.011554</td>\n",
       "      <td>-0.029440</td>\n",
       "      <td>0.003375</td>\n",
       "      <td>-0.028890</td>\n",
       "      <td>0.022629</td>\n",
       "      <td>0.033551</td>\n",
       "      <td>0.010214</td>\n",
       "      <td>0.055746</td>\n",
       "    </tr>\n",
       "    <tr>\n",
       "      <th>WarehouseToHome</th>\n",
       "      <td>0.069544</td>\n",
       "      <td>-0.012191</td>\n",
       "      <td>0.013576</td>\n",
       "      <td>1.000000</td>\n",
       "      <td>0.064069</td>\n",
       "      <td>0.023020</td>\n",
       "      <td>0.007524</td>\n",
       "      <td>-0.008305</td>\n",
       "      <td>0.026825</td>\n",
       "      <td>0.038311</td>\n",
       "      <td>0.002675</td>\n",
       "      <td>0.000354</td>\n",
       "      <td>0.020253</td>\n",
       "      <td>0.000415</td>\n",
       "    </tr>\n",
       "    <tr>\n",
       "      <th>HourSpendOnApp</th>\n",
       "      <td>0.018816</td>\n",
       "      <td>-0.017282</td>\n",
       "      <td>-0.009921</td>\n",
       "      <td>0.064069</td>\n",
       "      <td>1.000000</td>\n",
       "      <td>0.305048</td>\n",
       "      <td>0.030937</td>\n",
       "      <td>0.139541</td>\n",
       "      <td>0.006607</td>\n",
       "      <td>0.099305</td>\n",
       "      <td>0.187166</td>\n",
       "      <td>0.102053</td>\n",
       "      <td>0.061213</td>\n",
       "      <td>0.114286</td>\n",
       "    </tr>\n",
       "    <tr>\n",
       "      <th>NumberOfDeviceRegistered</th>\n",
       "      <td>0.107939</td>\n",
       "      <td>-0.020657</td>\n",
       "      <td>0.027934</td>\n",
       "      <td>0.023020</td>\n",
       "      <td>0.305048</td>\n",
       "      <td>1.000000</td>\n",
       "      <td>-0.017228</td>\n",
       "      <td>0.084997</td>\n",
       "      <td>0.003407</td>\n",
       "      <td>0.065714</td>\n",
       "      <td>0.152065</td>\n",
       "      <td>0.099790</td>\n",
       "      <td>0.007350</td>\n",
       "      <td>0.137183</td>\n",
       "    </tr>\n",
       "    <tr>\n",
       "      <th>SatisfactionScore</th>\n",
       "      <td>0.105481</td>\n",
       "      <td>-0.014452</td>\n",
       "      <td>-0.011554</td>\n",
       "      <td>0.007524</td>\n",
       "      <td>0.030937</td>\n",
       "      <td>-0.017228</td>\n",
       "      <td>1.000000</td>\n",
       "      <td>0.053583</td>\n",
       "      <td>-0.031115</td>\n",
       "      <td>-0.027121</td>\n",
       "      <td>0.017423</td>\n",
       "      <td>0.018166</td>\n",
       "      <td>0.031985</td>\n",
       "      <td>0.003473</td>\n",
       "    </tr>\n",
       "    <tr>\n",
       "      <th>NumberOfAddress</th>\n",
       "      <td>0.043931</td>\n",
       "      <td>0.235076</td>\n",
       "      <td>-0.029440</td>\n",
       "      <td>-0.008305</td>\n",
       "      <td>0.139541</td>\n",
       "      <td>0.084997</td>\n",
       "      <td>0.053583</td>\n",
       "      <td>1.000000</td>\n",
       "      <td>-0.026399</td>\n",
       "      <td>0.012161</td>\n",
       "      <td>0.036985</td>\n",
       "      <td>-0.013970</td>\n",
       "      <td>-0.067180</td>\n",
       "      <td>0.186688</td>\n",
       "    </tr>\n",
       "    <tr>\n",
       "      <th>Complain</th>\n",
       "      <td>0.250188</td>\n",
       "      <td>-0.020535</td>\n",
       "      <td>0.003375</td>\n",
       "      <td>0.026825</td>\n",
       "      <td>0.006607</td>\n",
       "      <td>0.003407</td>\n",
       "      <td>-0.031115</td>\n",
       "      <td>-0.026399</td>\n",
       "      <td>1.000000</td>\n",
       "      <td>-0.003842</td>\n",
       "      <td>-0.007810</td>\n",
       "      <td>-0.021288</td>\n",
       "      <td>-0.041415</td>\n",
       "      <td>0.000525</td>\n",
       "    </tr>\n",
       "    <tr>\n",
       "      <th>OrderAmountHikeFromlastYear</th>\n",
       "      <td>-0.007075</td>\n",
       "      <td>-0.005542</td>\n",
       "      <td>-0.028890</td>\n",
       "      <td>0.038311</td>\n",
       "      <td>0.099305</td>\n",
       "      <td>0.065714</td>\n",
       "      <td>-0.027121</td>\n",
       "      <td>0.012161</td>\n",
       "      <td>-0.003842</td>\n",
       "      <td>1.000000</td>\n",
       "      <td>0.024482</td>\n",
       "      <td>0.010567</td>\n",
       "      <td>-0.004621</td>\n",
       "      <td>-0.009620</td>\n",
       "    </tr>\n",
       "    <tr>\n",
       "      <th>CouponUsed</th>\n",
       "      <td>-0.001430</td>\n",
       "      <td>0.101535</td>\n",
       "      <td>0.022629</td>\n",
       "      <td>0.002675</td>\n",
       "      <td>0.187166</td>\n",
       "      <td>0.152065</td>\n",
       "      <td>0.017423</td>\n",
       "      <td>0.036985</td>\n",
       "      <td>-0.007810</td>\n",
       "      <td>0.024482</td>\n",
       "      <td>1.000000</td>\n",
       "      <td>0.641178</td>\n",
       "      <td>0.296816</td>\n",
       "      <td>0.219394</td>\n",
       "    </tr>\n",
       "    <tr>\n",
       "      <th>OrderCount</th>\n",
       "      <td>-0.024038</td>\n",
       "      <td>0.165339</td>\n",
       "      <td>0.033551</td>\n",
       "      <td>0.000354</td>\n",
       "      <td>0.102053</td>\n",
       "      <td>0.099790</td>\n",
       "      <td>0.018166</td>\n",
       "      <td>-0.013970</td>\n",
       "      <td>-0.021288</td>\n",
       "      <td>0.010567</td>\n",
       "      <td>0.641178</td>\n",
       "      <td>1.000000</td>\n",
       "      <td>0.421629</td>\n",
       "      <td>0.322313</td>\n",
       "    </tr>\n",
       "    <tr>\n",
       "      <th>DaySinceLastOrder</th>\n",
       "      <td>-0.155871</td>\n",
       "      <td>0.174378</td>\n",
       "      <td>0.010214</td>\n",
       "      <td>0.020253</td>\n",
       "      <td>0.061213</td>\n",
       "      <td>0.007350</td>\n",
       "      <td>0.031985</td>\n",
       "      <td>-0.067180</td>\n",
       "      <td>-0.041415</td>\n",
       "      <td>-0.004621</td>\n",
       "      <td>0.296816</td>\n",
       "      <td>0.421629</td>\n",
       "      <td>1.000000</td>\n",
       "      <td>0.316568</td>\n",
       "    </tr>\n",
       "    <tr>\n",
       "      <th>CashbackAmount</th>\n",
       "      <td>-0.154118</td>\n",
       "      <td>0.467986</td>\n",
       "      <td>0.055746</td>\n",
       "      <td>0.000415</td>\n",
       "      <td>0.114286</td>\n",
       "      <td>0.137183</td>\n",
       "      <td>0.003473</td>\n",
       "      <td>0.186688</td>\n",
       "      <td>0.000525</td>\n",
       "      <td>-0.009620</td>\n",
       "      <td>0.219394</td>\n",
       "      <td>0.322313</td>\n",
       "      <td>0.316568</td>\n",
       "      <td>1.000000</td>\n",
       "    </tr>\n",
       "  </tbody>\n",
       "</table>\n",
       "</div>"
      ],
      "text/plain": [
       "                                Churn    Tenure  CityTier  WarehouseToHome  \\\n",
       "Churn                        1.000000 -0.337831  0.084703         0.069544   \n",
       "Tenure                      -0.337831  1.000000 -0.057895        -0.012191   \n",
       "CityTier                     0.084703 -0.057895  1.000000         0.013576   \n",
       "WarehouseToHome              0.069544 -0.012191  0.013576         1.000000   \n",
       "HourSpendOnApp               0.018816 -0.017282 -0.009921         0.064069   \n",
       "NumberOfDeviceRegistered     0.107939 -0.020657  0.027934         0.023020   \n",
       "SatisfactionScore            0.105481 -0.014452 -0.011554         0.007524   \n",
       "NumberOfAddress              0.043931  0.235076 -0.029440        -0.008305   \n",
       "Complain                     0.250188 -0.020535  0.003375         0.026825   \n",
       "OrderAmountHikeFromlastYear -0.007075 -0.005542 -0.028890         0.038311   \n",
       "CouponUsed                  -0.001430  0.101535  0.022629         0.002675   \n",
       "OrderCount                  -0.024038  0.165339  0.033551         0.000354   \n",
       "DaySinceLastOrder           -0.155871  0.174378  0.010214         0.020253   \n",
       "CashbackAmount              -0.154118  0.467986  0.055746         0.000415   \n",
       "\n",
       "                             HourSpendOnApp  NumberOfDeviceRegistered  \\\n",
       "Churn                              0.018816                  0.107939   \n",
       "Tenure                            -0.017282                 -0.020657   \n",
       "CityTier                          -0.009921                  0.027934   \n",
       "WarehouseToHome                    0.064069                  0.023020   \n",
       "HourSpendOnApp                     1.000000                  0.305048   \n",
       "NumberOfDeviceRegistered           0.305048                  1.000000   \n",
       "SatisfactionScore                  0.030937                 -0.017228   \n",
       "NumberOfAddress                    0.139541                  0.084997   \n",
       "Complain                           0.006607                  0.003407   \n",
       "OrderAmountHikeFromlastYear        0.099305                  0.065714   \n",
       "CouponUsed                         0.187166                  0.152065   \n",
       "OrderCount                         0.102053                  0.099790   \n",
       "DaySinceLastOrder                  0.061213                  0.007350   \n",
       "CashbackAmount                     0.114286                  0.137183   \n",
       "\n",
       "                             SatisfactionScore  NumberOfAddress  Complain  \\\n",
       "Churn                                 0.105481         0.043931  0.250188   \n",
       "Tenure                               -0.014452         0.235076 -0.020535   \n",
       "CityTier                             -0.011554        -0.029440  0.003375   \n",
       "WarehouseToHome                       0.007524        -0.008305  0.026825   \n",
       "HourSpendOnApp                        0.030937         0.139541  0.006607   \n",
       "NumberOfDeviceRegistered             -0.017228         0.084997  0.003407   \n",
       "SatisfactionScore                     1.000000         0.053583 -0.031115   \n",
       "NumberOfAddress                       0.053583         1.000000 -0.026399   \n",
       "Complain                             -0.031115        -0.026399  1.000000   \n",
       "OrderAmountHikeFromlastYear          -0.027121         0.012161 -0.003842   \n",
       "CouponUsed                            0.017423         0.036985 -0.007810   \n",
       "OrderCount                            0.018166        -0.013970 -0.021288   \n",
       "DaySinceLastOrder                     0.031985        -0.067180 -0.041415   \n",
       "CashbackAmount                        0.003473         0.186688  0.000525   \n",
       "\n",
       "                             OrderAmountHikeFromlastYear  CouponUsed  \\\n",
       "Churn                                          -0.007075   -0.001430   \n",
       "Tenure                                         -0.005542    0.101535   \n",
       "CityTier                                       -0.028890    0.022629   \n",
       "WarehouseToHome                                 0.038311    0.002675   \n",
       "HourSpendOnApp                                  0.099305    0.187166   \n",
       "NumberOfDeviceRegistered                        0.065714    0.152065   \n",
       "SatisfactionScore                              -0.027121    0.017423   \n",
       "NumberOfAddress                                 0.012161    0.036985   \n",
       "Complain                                       -0.003842   -0.007810   \n",
       "OrderAmountHikeFromlastYear                     1.000000    0.024482   \n",
       "CouponUsed                                      0.024482    1.000000   \n",
       "OrderCount                                      0.010567    0.641178   \n",
       "DaySinceLastOrder                              -0.004621    0.296816   \n",
       "CashbackAmount                                 -0.009620    0.219394   \n",
       "\n",
       "                             OrderCount  DaySinceLastOrder  CashbackAmount  \n",
       "Churn                         -0.024038          -0.155871       -0.154118  \n",
       "Tenure                         0.165339           0.174378        0.467986  \n",
       "CityTier                       0.033551           0.010214        0.055746  \n",
       "WarehouseToHome                0.000354           0.020253        0.000415  \n",
       "HourSpendOnApp                 0.102053           0.061213        0.114286  \n",
       "NumberOfDeviceRegistered       0.099790           0.007350        0.137183  \n",
       "SatisfactionScore              0.018166           0.031985        0.003473  \n",
       "NumberOfAddress               -0.013970          -0.067180        0.186688  \n",
       "Complain                      -0.021288          -0.041415        0.000525  \n",
       "OrderAmountHikeFromlastYear    0.010567          -0.004621       -0.009620  \n",
       "CouponUsed                     0.641178           0.296816        0.219394  \n",
       "OrderCount                     1.000000           0.421629        0.322313  \n",
       "DaySinceLastOrder              0.421629           1.000000        0.316568  \n",
       "CashbackAmount                 0.322313           0.316568        1.000000  "
      ]
     },
     "execution_count": 648,
     "metadata": {},
     "output_type": "execute_result"
    }
   ],
   "source": [
    "cor = df.corr()\n",
    "cor"
   ]
  },
  {
   "cell_type": "code",
   "execution_count": 649,
   "id": "d5b75030",
   "metadata": {},
   "outputs": [],
   "source": [
    "import numpy as np"
   ]
  },
  {
   "cell_type": "code",
   "execution_count": 650,
   "id": "871a2a1e",
   "metadata": {},
   "outputs": [],
   "source": [
    "df.drop('Churn',axis=1,inplace=True)\n"
   ]
  },
  {
   "cell_type": "code",
   "execution_count": 651,
   "id": "6326ddc6",
   "metadata": {},
   "outputs": [],
   "source": [
    "def remove_outlier(col):\n",
    "    sorted(col)\n",
    "    Q1,Q3=np.percentile(col,[25,75])\n",
    "    IQR=Q3-Q1\n",
    "    lr= Q1-(1.5 * IQR)\n",
    "    ur= Q3+(1.5 * IQR)\n",
    "    return lr, ur"
   ]
  },
  {
   "cell_type": "code",
   "execution_count": null,
   "id": "061f8928",
   "metadata": {},
   "outputs": [],
   "source": []
  },
  {
   "cell_type": "code",
   "execution_count": 652,
   "id": "fb3ceff4",
   "metadata": {},
   "outputs": [],
   "source": [
    "for column in df.columns:\n",
    "    if df[column].dtype != 'object': \n",
    "        lr,ur=remove_outlier(df[column])\n",
    "        df[column]=np.where(df[column]>ur,ur,df[column])\n",
    "        df[column]=np.where(df[column]<lr,lr,df[column])"
   ]
  },
  {
   "cell_type": "code",
   "execution_count": null,
   "id": "ff0c594c",
   "metadata": {},
   "outputs": [],
   "source": []
  },
  {
   "cell_type": "code",
   "execution_count": 654,
   "id": "673a150d",
   "metadata": {},
   "outputs": [
    {
     "data": {
      "text/plain": [
       "Text(0, 0.5, 'Values')"
      ]
     },
     "execution_count": 654,
     "metadata": {},
     "output_type": "execute_result"
    },
    {
     "data": {
      "image/png": "[encoded data removed]",
      "text/plain": [
       "<Figure size 3600x720 with 1 Axes>"
      ]
     },
     "metadata": {
      "needs_background": "light"
     },
     "output_type": "display_data"
    }
   ],
   "source": [
    "\n",
    "plt.figure(figsize=(50,10))\n",
    "sns.boxplot(data=df)\n",
    "plt.title('Boxplot')\n",
    "plt.xlabel('Variables')\n",
    "plt.ylabel('Values')"
   ]
  },
  {
   "cell_type": "code",
   "execution_count": null,
   "id": "6fe9397a",
   "metadata": {},
   "outputs": [],
   "source": []
  },
  {
   "cell_type": "code",
   "execution_count": 655,
   "id": "222d05e6",
   "metadata": {},
   "outputs": [
    {
     "data": {
      "text/html": [
       "<div>\n",
       "<style scoped>\n",
       "    .dataframe tbody tr th:only-of-type {\n",
       "        vertical-align: middle;\n",
       "    }\n",
       "\n",
       "    .dataframe tbody tr th {\n",
       "        vertical-align: top;\n",
       "    }\n",
       "\n",
       "    .dataframe thead th {\n",
       "        text-align: right;\n",
       "    }\n",
       "</style>\n",
       "<table border=\"1\" class=\"dataframe\">\n",
       "  <thead>\n",
       "    <tr style=\"text-align: right;\">\n",
       "      <th></th>\n",
       "      <th>Tenure</th>\n",
       "      <th>PreferredLoginDevice</th>\n",
       "      <th>CityTier</th>\n",
       "      <th>WarehouseToHome</th>\n",
       "      <th>PreferredPaymentMode</th>\n",
       "      <th>Gender</th>\n",
       "      <th>HourSpendOnApp</th>\n",
       "      <th>NumberOfDeviceRegistered</th>\n",
       "      <th>PreferedOrderCat</th>\n",
       "      <th>SatisfactionScore</th>\n",
       "      <th>MaritalStatus</th>\n",
       "      <th>NumberOfAddress</th>\n",
       "      <th>Complain</th>\n",
       "      <th>OrderAmountHikeFromlastYear</th>\n",
       "      <th>CouponUsed</th>\n",
       "      <th>OrderCount</th>\n",
       "      <th>DaySinceLastOrder</th>\n",
       "      <th>CashbackAmount</th>\n",
       "    </tr>\n",
       "  </thead>\n",
       "  <tbody>\n",
       "    <tr>\n",
       "      <th>0</th>\n",
       "      <td>4.0</td>\n",
       "      <td>Phone</td>\n",
       "      <td>3.0</td>\n",
       "      <td>6.0</td>\n",
       "      <td>Debit Card</td>\n",
       "      <td>Female</td>\n",
       "      <td>3.0</td>\n",
       "      <td>3.0</td>\n",
       "      <td>Laptop &amp; Accessory</td>\n",
       "      <td>2.0</td>\n",
       "      <td>Single</td>\n",
       "      <td>9.0</td>\n",
       "      <td>1.0</td>\n",
       "      <td>11.0</td>\n",
       "      <td>1.0</td>\n",
       "      <td>1.0</td>\n",
       "      <td>5.0</td>\n",
       "      <td>159.93</td>\n",
       "    </tr>\n",
       "    <tr>\n",
       "      <th>1</th>\n",
       "      <td>9.0</td>\n",
       "      <td>Phone</td>\n",
       "      <td>1.0</td>\n",
       "      <td>8.0</td>\n",
       "      <td>UPI</td>\n",
       "      <td>Male</td>\n",
       "      <td>3.0</td>\n",
       "      <td>4.0</td>\n",
       "      <td>Mobile</td>\n",
       "      <td>3.0</td>\n",
       "      <td>Single</td>\n",
       "      <td>7.0</td>\n",
       "      <td>1.0</td>\n",
       "      <td>15.0</td>\n",
       "      <td>0.0</td>\n",
       "      <td>1.0</td>\n",
       "      <td>0.0</td>\n",
       "      <td>120.90</td>\n",
       "    </tr>\n",
       "    <tr>\n",
       "      <th>2</th>\n",
       "      <td>9.0</td>\n",
       "      <td>Phone</td>\n",
       "      <td>1.0</td>\n",
       "      <td>30.0</td>\n",
       "      <td>Debit Card</td>\n",
       "      <td>Male</td>\n",
       "      <td>2.0</td>\n",
       "      <td>4.0</td>\n",
       "      <td>Mobile</td>\n",
       "      <td>3.0</td>\n",
       "      <td>Single</td>\n",
       "      <td>6.0</td>\n",
       "      <td>1.0</td>\n",
       "      <td>14.0</td>\n",
       "      <td>0.0</td>\n",
       "      <td>1.0</td>\n",
       "      <td>3.0</td>\n",
       "      <td>120.28</td>\n",
       "    </tr>\n",
       "    <tr>\n",
       "      <th>3</th>\n",
       "      <td>0.0</td>\n",
       "      <td>Phone</td>\n",
       "      <td>3.0</td>\n",
       "      <td>15.0</td>\n",
       "      <td>Debit Card</td>\n",
       "      <td>Male</td>\n",
       "      <td>2.0</td>\n",
       "      <td>4.0</td>\n",
       "      <td>Laptop &amp; Accessory</td>\n",
       "      <td>5.0</td>\n",
       "      <td>Single</td>\n",
       "      <td>8.0</td>\n",
       "      <td>0.0</td>\n",
       "      <td>23.0</td>\n",
       "      <td>0.0</td>\n",
       "      <td>1.0</td>\n",
       "      <td>3.0</td>\n",
       "      <td>134.07</td>\n",
       "    </tr>\n",
       "    <tr>\n",
       "      <th>4</th>\n",
       "      <td>0.0</td>\n",
       "      <td>Phone</td>\n",
       "      <td>1.0</td>\n",
       "      <td>12.0</td>\n",
       "      <td>CC</td>\n",
       "      <td>Male</td>\n",
       "      <td>3.0</td>\n",
       "      <td>3.0</td>\n",
       "      <td>Mobile</td>\n",
       "      <td>5.0</td>\n",
       "      <td>Single</td>\n",
       "      <td>3.0</td>\n",
       "      <td>0.0</td>\n",
       "      <td>11.0</td>\n",
       "      <td>1.0</td>\n",
       "      <td>1.0</td>\n",
       "      <td>3.0</td>\n",
       "      <td>129.60</td>\n",
       "    </tr>\n",
       "  </tbody>\n",
       "</table>\n",
       "</div>"
      ],
      "text/plain": [
       "   Tenure PreferredLoginDevice  CityTier  WarehouseToHome  \\\n",
       "0     4.0                Phone       3.0              6.0   \n",
       "1     9.0                Phone       1.0              8.0   \n",
       "2     9.0                Phone       1.0             30.0   \n",
       "3     0.0                Phone       3.0             15.0   \n",
       "4     0.0                Phone       1.0             12.0   \n",
       "\n",
       "  PreferredPaymentMode  Gender  HourSpendOnApp  NumberOfDeviceRegistered  \\\n",
       "0           Debit Card  Female             3.0                       3.0   \n",
       "1                  UPI    Male             3.0                       4.0   \n",
       "2           Debit Card    Male             2.0                       4.0   \n",
       "3           Debit Card    Male             2.0                       4.0   \n",
       "4                   CC    Male             3.0                       3.0   \n",
       "\n",
       "     PreferedOrderCat  SatisfactionScore MaritalStatus  NumberOfAddress  \\\n",
       "0  Laptop & Accessory                2.0        Single              9.0   \n",
       "1              Mobile                3.0        Single              7.0   \n",
       "2              Mobile                3.0        Single              6.0   \n",
       "3  Laptop & Accessory                5.0        Single              8.0   \n",
       "4              Mobile                5.0        Single              3.0   \n",
       "\n",
       "   Complain  OrderAmountHikeFromlastYear  CouponUsed  OrderCount  \\\n",
       "0       1.0                         11.0         1.0         1.0   \n",
       "1       1.0                         15.0         0.0         1.0   \n",
       "2       1.0                         14.0         0.0         1.0   \n",
       "3       0.0                         23.0         0.0         1.0   \n",
       "4       0.0                         11.0         1.0         1.0   \n",
       "\n",
       "   DaySinceLastOrder  CashbackAmount  \n",
       "0                5.0          159.93  \n",
       "1                0.0          120.90  \n",
       "2                3.0          120.28  \n",
       "3                3.0          134.07  \n",
       "4                3.0          129.60  "
      ]
     },
     "execution_count": 655,
     "metadata": {},
     "output_type": "execute_result"
    }
   ],
   "source": [
    "df.head()"
   ]
  },
  {
   "cell_type": "code",
   "execution_count": 656,
   "id": "8c7b30e5",
   "metadata": {},
   "outputs": [
    {
     "data": {
      "text/plain": [
       "Index(['Tenure', 'PreferredLoginDevice', 'CityTier', 'WarehouseToHome',\n",
       "       'PreferredPaymentMode', 'Gender', 'HourSpendOnApp',\n",
       "       'NumberOfDeviceRegistered', 'PreferedOrderCat', 'SatisfactionScore',\n",
       "       'MaritalStatus', 'NumberOfAddress', 'Complain',\n",
       "       'OrderAmountHikeFromlastYear', 'CouponUsed', 'OrderCount',\n",
       "       'DaySinceLastOrder', 'CashbackAmount'],\n",
       "      dtype='object')"
      ]
     },
     "execution_count": 656,
     "metadata": {},
     "output_type": "execute_result"
    }
   ],
   "source": [
    "df.columns"
   ]
  },
  {
   "cell_type": "markdown",
   "id": "928f60ce",
   "metadata": {},
   "source": [
    "### Exploratory Data Analysis"
   ]
  },
  {
   "cell_type": "code",
   "execution_count": 657,
   "id": "1c7a3251",
   "metadata": {},
   "outputs": [
    {
     "name": "stdout",
     "output_type": "stream",
     "text": [
      "0    4682\n",
      "1     948\n",
      "Name: Churn, dtype: int64\n"
     ]
    }
   ],
   "source": [
    "print(Churn['Churn'].value_counts())"
   ]
  },
  {
   "cell_type": "code",
   "execution_count": 658,
   "id": "8d967ace",
   "metadata": {},
   "outputs": [
    {
     "data": {
      "image/png": "[encoded data removed]",
      "text/plain": [
       "<Figure size 720x576 with 1 Axes>"
      ]
     },
     "metadata": {},
     "output_type": "display_data"
    }
   ],
   "source": [
    "labels = 'Churned', 'Not Chunred'\n",
    "sizes = [Churn.Churn[Churn['Churn']==1].count(),Churn.Churn[Churn['Churn']==0].count()]\n",
    "explode = (0, 0.1)\n",
    "fig1, ax1 = plt.subplots(figsize=(10, 8))\n",
    "ax1.pie(sizes, explode=explode, labels=labels, autopct='%1.1f%%',\n",
    "        shadow=True, startangle=90)\n",
    "ax1.axis('equal')\n",
    "plt.title(\"Customer Churn Percentage\", size = 20)\n",
    "plt.show()"
   ]
  },
  {
   "cell_type": "code",
   "execution_count": 659,
   "id": "b37b097c",
   "metadata": {},
   "outputs": [
    {
     "data": {
      "image/png": "[encoded data removed]",
      "text/plain": [
       "<Figure size 432x288 with 1 Axes>"
      ]
     },
     "metadata": {
      "needs_background": "light"
     },
     "output_type": "display_data"
    }
   ],
   "source": [
    "plt.barh(df1['PreferredPaymentMode'].unique(), df1['PreferredPaymentMode'].value_counts())\n",
    "plt.title(\"Preferred mode of payment\", fontsize=15)\n",
    "plt.show()"
   ]
  },
  {
   "cell_type": "code",
   "execution_count": 660,
   "id": "c7aa4d4f",
   "metadata": {},
   "outputs": [
    {
     "data": {
      "image/png": "[encoded data removed]",
      "text/plain": [
       "<Figure size 432x288 with 1 Axes>"
      ]
     },
     "metadata": {
      "needs_background": "light"
     },
     "output_type": "display_data"
    },
    {
     "data": {
      "image/png": "[encoded data removed]",
      "text/plain": [
       "<Figure size 432x288 with 1 Axes>"
      ]
     },
     "metadata": {
      "needs_background": "light"
     },
     "output_type": "display_data"
    }
   ],
   "source": [
    "plt.bar(df1['SatisfactionScore'].unique(), df1['SatisfactionScore'].value_counts())\n",
    "plt.title(\"Satisfactionn score given by the customer\", fontsize=15)\n",
    "plt.show()\n",
    "\n",
    "plt.plot(df1['SatisfactionScore'].unique(), df1['SatisfactionScore'].value_counts(), 'ro')\n",
    "plt.show()"
   ]
  },
  {
   "cell_type": "code",
   "execution_count": 661,
   "id": "4c21e0bd",
   "metadata": {},
   "outputs": [
    {
     "data": {
      "image/png": "[encoded data removed]",
      "text/plain": [
       "<Figure size 432x288 with 1 Axes>"
      ]
     },
     "metadata": {
      "needs_background": "light"
     },
     "output_type": "display_data"
    }
   ],
   "source": [
    "df4=df1.groupby(['Gender','Churn']).agg({'CustomerID':'nunique'}).reset_index()\n",
    "sns.barplot(x='Gender', y ='CustomerID', hue='Churn', data=df4);"
   ]
  },
  {
   "cell_type": "code",
   "execution_count": 662,
   "id": "23631abc",
   "metadata": {},
   "outputs": [
    {
     "data": {
      "image/png": "[encoded data removed]",
      "text/plain": [
       "<Figure size 432x288 with 1 Axes>"
      ]
     },
     "metadata": {
      "needs_background": "light"
     },
     "output_type": "display_data"
    }
   ],
   "source": [
    "df6=df1.groupby(['PreferedOrderCat','Churn']).agg({'CustomerID':'nunique'}).reset_index()\n",
    "sns.barplot(x='PreferedOrderCat', y ='CustomerID', hue='Churn', data=df6);"
   ]
  },
  {
   "cell_type": "code",
   "execution_count": 663,
   "id": "6d7e2bf6",
   "metadata": {},
   "outputs": [
    {
     "data": {
      "image/png": "[encoded data removed]",
      "text/plain": [
       "<Figure size 432x288 with 1 Axes>"
      ]
     },
     "metadata": {
      "needs_background": "light"
     },
     "output_type": "display_data"
    }
   ],
   "source": [
    "df7=df1.groupby(['MaritalStatus','Churn']).agg({'CustomerID':'nunique'}).reset_index()\n",
    "sns.barplot(x='MaritalStatus', y ='CustomerID', hue='Churn', data=df7);"
   ]
  },
  {
   "cell_type": "code",
   "execution_count": 664,
   "id": "a66000b5",
   "metadata": {},
   "outputs": [
    {
     "data": {
      "image/png": "[encoded data removed]",
      "text/plain": [
       "<Figure size 432x288 with 1 Axes>"
      ]
     },
     "metadata": {
      "needs_background": "light"
     },
     "output_type": "display_data"
    }
   ],
   "source": [
    "churn_tenure = pd.crosstab(df1[\"Tenure\"], df1[\"Churn\"])\n",
    "churn_tenure.plot(kind = 'bar', stacked = 'true', title = \"Churn by Tenure\")\n",
    "churn_tenure\n",
    "plt.xlabel('Tenure')\n",
    "plt.ylabel('Customers')\n",
    "plt.show()"
   ]
  },
  {
   "cell_type": "code",
   "execution_count": 665,
   "id": "d47c7766",
   "metadata": {},
   "outputs": [
    {
     "data": {
      "image/png": "[encoded data removed]",
      "text/plain": [
       "<Figure size 432x288 with 1 Axes>"
      ]
     },
     "metadata": {
      "needs_background": "light"
     },
     "output_type": "display_data"
    }
   ],
   "source": [
    "Churn_hour = pd.crosstab(df1[\"HourSpendOnApp\"], df1[\"Churn\"])\n",
    "Churn_hour.plot(kind = 'bar', stacked = 'true', title = \"Churn by hours spent on app \")\n",
    "plt.xlabel('HourSpendOnApp')\n",
    "plt.ylabel('Customers')\n",
    "plt.show()"
   ]
  },
  {
   "cell_type": "code",
   "execution_count": 668,
   "id": "5b5edf3a",
   "metadata": {},
   "outputs": [
    {
     "data": {
      "image/png": "[encoded data removed]",
      "text/plain": [
       "<Figure size 432x288 with 1 Axes>"
      ]
     },
     "metadata": {
      "needs_background": "light"
     },
     "output_type": "display_data"
    }
   ],
   "source": [
    "sns.countplot(x='SatisfactionScore', hue='Churn', data=df1)\n",
    "plt.title(\"Satisfaction Score by Churn\")\n",
    "plt.show()"
   ]
  },
  {
   "cell_type": "code",
   "execution_count": 669,
   "id": "9c1cf6c3",
   "metadata": {},
   "outputs": [
    {
     "data": {
      "image/png": "[encoded data removed]",
      "text/plain": [
       "<Figure size 1080x576 with 2 Axes>"
      ]
     },
     "metadata": {
      "needs_background": "light"
     },
     "output_type": "display_data"
    }
   ],
   "source": [
    "plt.figure(figsize=(15,8))\n",
    "sns.heatmap(df1.drop('CustomerID',axis=1).corr(), annot=True)\n",
    "plt.title(\"Correlation Matrix\")\n",
    "plt.show()"
   ]
  },
  {
   "cell_type": "markdown",
   "id": "c57a0929",
   "metadata": {},
   "source": [
    "### Data Scaling"
   ]
  },
  {
   "cell_type": "code",
   "execution_count": null,
   "id": "5fa19d7d",
   "metadata": {},
   "outputs": [],
   "source": []
  },
  {
   "cell_type": "code",
   "execution_count": 670,
   "id": "96202f29",
   "metadata": {},
   "outputs": [],
   "source": [
    "import numpy as np\n",
    "import pandas as pd\n",
    "import matplotlib.pyplot as plt\n",
    "import seaborn as sns\n",
    "from statsmodels.formula.api import ols\n",
    "from statsmodels.stats.anova import _get_covariance, anova_lm\n",
    "from statsmodels.stats.multicomp import pairwise_tukeyhsd\n",
    "from statsmodels.stats.multicomp import MultiComparison\n",
    "\n",
    "%matplotlib inline"
   ]
  },
  {
   "cell_type": "code",
   "execution_count": 671,
   "id": "1da532e5",
   "metadata": {},
   "outputs": [],
   "source": [
    "from sklearn.preprocessing import StandardScaler"
   ]
  },
  {
   "cell_type": "code",
   "execution_count": 672,
   "id": "faea7b57",
   "metadata": {},
   "outputs": [],
   "source": [
    "df=pd.get_dummies(df)"
   ]
  },
  {
   "cell_type": "code",
   "execution_count": 673,
   "id": "d57f0353",
   "metadata": {},
   "outputs": [],
   "source": [
    "from sklearn.preprocessing import MinMaxScaler\n",
    "scaler = MinMaxScaler()\n",
    "data_rescaled = scaler.fit_transform(df)"
   ]
  },
  {
   "cell_type": "code",
   "execution_count": 674,
   "id": "83bd09af",
   "metadata": {},
   "outputs": [
    {
     "data": {
      "text/html": [
       "<div>\n",
       "<style scoped>\n",
       "    .dataframe tbody tr th:only-of-type {\n",
       "        vertical-align: middle;\n",
       "    }\n",
       "\n",
       "    .dataframe tbody tr th {\n",
       "        vertical-align: top;\n",
       "    }\n",
       "\n",
       "    .dataframe thead th {\n",
       "        text-align: right;\n",
       "    }\n",
       "</style>\n",
       "<table border=\"1\" class=\"dataframe\">\n",
       "  <thead>\n",
       "    <tr style=\"text-align: right;\">\n",
       "      <th></th>\n",
       "      <th>Tenure</th>\n",
       "      <th>CityTier</th>\n",
       "      <th>WarehouseToHome</th>\n",
       "      <th>HourSpendOnApp</th>\n",
       "      <th>NumberOfDeviceRegistered</th>\n",
       "      <th>SatisfactionScore</th>\n",
       "      <th>NumberOfAddress</th>\n",
       "      <th>Complain</th>\n",
       "      <th>OrderAmountHikeFromlastYear</th>\n",
       "      <th>CouponUsed</th>\n",
       "      <th>...</th>\n",
       "      <th>Gender_Female</th>\n",
       "      <th>Gender_Male</th>\n",
       "      <th>PreferedOrderCat_Fashion</th>\n",
       "      <th>PreferedOrderCat_Grocery</th>\n",
       "      <th>PreferedOrderCat_Laptop &amp; Accessory</th>\n",
       "      <th>PreferedOrderCat_Mobile</th>\n",
       "      <th>PreferedOrderCat_Others</th>\n",
       "      <th>MaritalStatus_Divorced</th>\n",
       "      <th>MaritalStatus_Married</th>\n",
       "      <th>MaritalStatus_Single</th>\n",
       "    </tr>\n",
       "  </thead>\n",
       "  <tbody>\n",
       "    <tr>\n",
       "      <th>0</th>\n",
       "      <td>4.0</td>\n",
       "      <td>3.0</td>\n",
       "      <td>6.0</td>\n",
       "      <td>3.0</td>\n",
       "      <td>3.0</td>\n",
       "      <td>2.0</td>\n",
       "      <td>9.0</td>\n",
       "      <td>1.0</td>\n",
       "      <td>11.0</td>\n",
       "      <td>1.0</td>\n",
       "      <td>...</td>\n",
       "      <td>1</td>\n",
       "      <td>0</td>\n",
       "      <td>0</td>\n",
       "      <td>0</td>\n",
       "      <td>1</td>\n",
       "      <td>0</td>\n",
       "      <td>0</td>\n",
       "      <td>0</td>\n",
       "      <td>0</td>\n",
       "      <td>1</td>\n",
       "    </tr>\n",
       "    <tr>\n",
       "      <th>1</th>\n",
       "      <td>9.0</td>\n",
       "      <td>1.0</td>\n",
       "      <td>8.0</td>\n",
       "      <td>3.0</td>\n",
       "      <td>4.0</td>\n",
       "      <td>3.0</td>\n",
       "      <td>7.0</td>\n",
       "      <td>1.0</td>\n",
       "      <td>15.0</td>\n",
       "      <td>0.0</td>\n",
       "      <td>...</td>\n",
       "      <td>0</td>\n",
       "      <td>1</td>\n",
       "      <td>0</td>\n",
       "      <td>0</td>\n",
       "      <td>0</td>\n",
       "      <td>1</td>\n",
       "      <td>0</td>\n",
       "      <td>0</td>\n",
       "      <td>0</td>\n",
       "      <td>1</td>\n",
       "    </tr>\n",
       "    <tr>\n",
       "      <th>2</th>\n",
       "      <td>9.0</td>\n",
       "      <td>1.0</td>\n",
       "      <td>30.0</td>\n",
       "      <td>2.0</td>\n",
       "      <td>4.0</td>\n",
       "      <td>3.0</td>\n",
       "      <td>6.0</td>\n",
       "      <td>1.0</td>\n",
       "      <td>14.0</td>\n",
       "      <td>0.0</td>\n",
       "      <td>...</td>\n",
       "      <td>0</td>\n",
       "      <td>1</td>\n",
       "      <td>0</td>\n",
       "      <td>0</td>\n",
       "      <td>0</td>\n",
       "      <td>1</td>\n",
       "      <td>0</td>\n",
       "      <td>0</td>\n",
       "      <td>0</td>\n",
       "      <td>1</td>\n",
       "    </tr>\n",
       "    <tr>\n",
       "      <th>3</th>\n",
       "      <td>0.0</td>\n",
       "      <td>3.0</td>\n",
       "      <td>15.0</td>\n",
       "      <td>2.0</td>\n",
       "      <td>4.0</td>\n",
       "      <td>5.0</td>\n",
       "      <td>8.0</td>\n",
       "      <td>0.0</td>\n",
       "      <td>23.0</td>\n",
       "      <td>0.0</td>\n",
       "      <td>...</td>\n",
       "      <td>0</td>\n",
       "      <td>1</td>\n",
       "      <td>0</td>\n",
       "      <td>0</td>\n",
       "      <td>1</td>\n",
       "      <td>0</td>\n",
       "      <td>0</td>\n",
       "      <td>0</td>\n",
       "      <td>0</td>\n",
       "      <td>1</td>\n",
       "    </tr>\n",
       "    <tr>\n",
       "      <th>4</th>\n",
       "      <td>0.0</td>\n",
       "      <td>1.0</td>\n",
       "      <td>12.0</td>\n",
       "      <td>3.0</td>\n",
       "      <td>3.0</td>\n",
       "      <td>5.0</td>\n",
       "      <td>3.0</td>\n",
       "      <td>0.0</td>\n",
       "      <td>11.0</td>\n",
       "      <td>1.0</td>\n",
       "      <td>...</td>\n",
       "      <td>0</td>\n",
       "      <td>1</td>\n",
       "      <td>0</td>\n",
       "      <td>0</td>\n",
       "      <td>0</td>\n",
       "      <td>1</td>\n",
       "      <td>0</td>\n",
       "      <td>0</td>\n",
       "      <td>0</td>\n",
       "      <td>1</td>\n",
       "    </tr>\n",
       "  </tbody>\n",
       "</table>\n",
       "<p>5 rows × 32 columns</p>\n",
       "</div>"
      ],
      "text/plain": [
       "   Tenure  CityTier  WarehouseToHome  HourSpendOnApp  \\\n",
       "0     4.0       3.0              6.0             3.0   \n",
       "1     9.0       1.0              8.0             3.0   \n",
       "2     9.0       1.0             30.0             2.0   \n",
       "3     0.0       3.0             15.0             2.0   \n",
       "4     0.0       1.0             12.0             3.0   \n",
       "\n",
       "   NumberOfDeviceRegistered  SatisfactionScore  NumberOfAddress  Complain  \\\n",
       "0                       3.0                2.0              9.0       1.0   \n",
       "1                       4.0                3.0              7.0       1.0   \n",
       "2                       4.0                3.0              6.0       1.0   \n",
       "3                       4.0                5.0              8.0       0.0   \n",
       "4                       3.0                5.0              3.0       0.0   \n",
       "\n",
       "   OrderAmountHikeFromlastYear  CouponUsed  ...  Gender_Female  Gender_Male  \\\n",
       "0                         11.0         1.0  ...              1            0   \n",
       "1                         15.0         0.0  ...              0            1   \n",
       "2                         14.0         0.0  ...              0            1   \n",
       "3                         23.0         0.0  ...              0            1   \n",
       "4                         11.0         1.0  ...              0            1   \n",
       "\n",
       "   PreferedOrderCat_Fashion  PreferedOrderCat_Grocery  \\\n",
       "0                         0                         0   \n",
       "1                         0                         0   \n",
       "2                         0                         0   \n",
       "3                         0                         0   \n",
       "4                         0                         0   \n",
       "\n",
       "   PreferedOrderCat_Laptop & Accessory  PreferedOrderCat_Mobile  \\\n",
       "0                                    1                        0   \n",
       "1                                    0                        1   \n",
       "2                                    0                        1   \n",
       "3                                    1                        0   \n",
       "4                                    0                        1   \n",
       "\n",
       "   PreferedOrderCat_Others  MaritalStatus_Divorced  MaritalStatus_Married  \\\n",
       "0                        0                       0                      0   \n",
       "1                        0                       0                      0   \n",
       "2                        0                       0                      0   \n",
       "3                        0                       0                      0   \n",
       "4                        0                       0                      0   \n",
       "\n",
       "   MaritalStatus_Single  \n",
       "0                     1  \n",
       "1                     1  \n",
       "2                     1  \n",
       "3                     1  \n",
       "4                     1  \n",
       "\n",
       "[5 rows x 32 columns]"
      ]
     },
     "execution_count": 674,
     "metadata": {},
     "output_type": "execute_result"
    }
   ],
   "source": [
    "df.head()"
   ]
  },
  {
   "cell_type": "code",
   "execution_count": 675,
   "id": "399dc250",
   "metadata": {},
   "outputs": [],
   "source": [
    "from sklearn.decomposition import PCA\n",
    "pca = PCA(n_components = 0.95)\n",
    "pca.fit(data_rescaled)\n",
    "reduced = pca.transform(data_rescaled)"
   ]
  },
  {
   "cell_type": "code",
   "execution_count": 676,
   "id": "78ffec5e",
   "metadata": {},
   "outputs": [
    {
     "data": {
      "text/html": [
       "<div>\n",
       "<style scoped>\n",
       "    .dataframe tbody tr th:only-of-type {\n",
       "        vertical-align: middle;\n",
       "    }\n",
       "\n",
       "    .dataframe tbody tr th {\n",
       "        vertical-align: top;\n",
       "    }\n",
       "\n",
       "    .dataframe thead th {\n",
       "        text-align: right;\n",
       "    }\n",
       "</style>\n",
       "<table border=\"1\" class=\"dataframe\">\n",
       "  <thead>\n",
       "    <tr style=\"text-align: right;\">\n",
       "      <th></th>\n",
       "      <th>0</th>\n",
       "      <th>1</th>\n",
       "      <th>2</th>\n",
       "      <th>3</th>\n",
       "      <th>4</th>\n",
       "      <th>5</th>\n",
       "      <th>6</th>\n",
       "      <th>7</th>\n",
       "      <th>8</th>\n",
       "      <th>9</th>\n",
       "      <th>10</th>\n",
       "      <th>11</th>\n",
       "      <th>12</th>\n",
       "      <th>13</th>\n",
       "      <th>14</th>\n",
       "      <th>15</th>\n",
       "      <th>16</th>\n",
       "      <th>17</th>\n",
       "      <th>18</th>\n",
       "      <th>19</th>\n",
       "    </tr>\n",
       "  </thead>\n",
       "  <tbody>\n",
       "    <tr>\n",
       "      <th>0</th>\n",
       "      <td>1.070095</td>\n",
       "      <td>0.334491</td>\n",
       "      <td>0.046670</td>\n",
       "      <td>0.903382</td>\n",
       "      <td>-0.833573</td>\n",
       "      <td>-0.468227</td>\n",
       "      <td>-0.121247</td>\n",
       "      <td>0.696152</td>\n",
       "      <td>-0.327017</td>\n",
       "      <td>-0.108302</td>\n",
       "      <td>-0.317628</td>\n",
       "      <td>-0.035962</td>\n",
       "      <td>0.044812</td>\n",
       "      <td>-0.038336</td>\n",
       "      <td>0.380924</td>\n",
       "      <td>-0.291132</td>\n",
       "      <td>0.190302</td>\n",
       "      <td>-0.211203</td>\n",
       "      <td>-0.236611</td>\n",
       "      <td>0.159115</td>\n",
       "    </tr>\n",
       "    <tr>\n",
       "      <th>1</th>\n",
       "      <td>-0.739578</td>\n",
       "      <td>1.102837</td>\n",
       "      <td>-0.355086</td>\n",
       "      <td>0.367495</td>\n",
       "      <td>0.302539</td>\n",
       "      <td>-0.434446</td>\n",
       "      <td>0.065121</td>\n",
       "      <td>0.697155</td>\n",
       "      <td>-0.253635</td>\n",
       "      <td>-0.157227</td>\n",
       "      <td>0.543588</td>\n",
       "      <td>0.361237</td>\n",
       "      <td>0.033909</td>\n",
       "      <td>0.577451</td>\n",
       "      <td>0.506444</td>\n",
       "      <td>-0.030960</td>\n",
       "      <td>-0.136516</td>\n",
       "      <td>-0.099544</td>\n",
       "      <td>-0.167547</td>\n",
       "      <td>-0.044444</td>\n",
       "    </tr>\n",
       "    <tr>\n",
       "      <th>2</th>\n",
       "      <td>-0.755677</td>\n",
       "      <td>1.192324</td>\n",
       "      <td>-0.245622</td>\n",
       "      <td>0.294854</td>\n",
       "      <td>-0.490618</td>\n",
       "      <td>-0.131393</td>\n",
       "      <td>-0.111866</td>\n",
       "      <td>0.745693</td>\n",
       "      <td>-0.275621</td>\n",
       "      <td>-0.190092</td>\n",
       "      <td>-0.037964</td>\n",
       "      <td>-0.134068</td>\n",
       "      <td>0.104839</td>\n",
       "      <td>0.075639</td>\n",
       "      <td>-0.310408</td>\n",
       "      <td>0.196189</td>\n",
       "      <td>-0.015641</td>\n",
       "      <td>-0.301964</td>\n",
       "      <td>0.040639</td>\n",
       "      <td>0.173381</td>\n",
       "    </tr>\n",
       "    <tr>\n",
       "      <th>3</th>\n",
       "      <td>-0.299744</td>\n",
       "      <td>0.072508</td>\n",
       "      <td>-0.007706</td>\n",
       "      <td>1.289456</td>\n",
       "      <td>-0.785914</td>\n",
       "      <td>-0.461946</td>\n",
       "      <td>-0.287196</td>\n",
       "      <td>-0.249679</td>\n",
       "      <td>-0.212697</td>\n",
       "      <td>-0.261737</td>\n",
       "      <td>-0.011725</td>\n",
       "      <td>-0.661824</td>\n",
       "      <td>0.099451</td>\n",
       "      <td>0.332159</td>\n",
       "      <td>0.090812</td>\n",
       "      <td>0.050259</td>\n",
       "      <td>0.178397</td>\n",
       "      <td>0.413192</td>\n",
       "      <td>0.007918</td>\n",
       "      <td>0.178243</td>\n",
       "    </tr>\n",
       "    <tr>\n",
       "      <th>4</th>\n",
       "      <td>-0.773960</td>\n",
       "      <td>1.140790</td>\n",
       "      <td>-0.352816</td>\n",
       "      <td>0.366622</td>\n",
       "      <td>0.311118</td>\n",
       "      <td>-0.378058</td>\n",
       "      <td>-0.046848</td>\n",
       "      <td>-0.337253</td>\n",
       "      <td>-0.142652</td>\n",
       "      <td>-0.061704</td>\n",
       "      <td>0.595309</td>\n",
       "      <td>-0.146138</td>\n",
       "      <td>0.078219</td>\n",
       "      <td>-0.425977</td>\n",
       "      <td>0.056854</td>\n",
       "      <td>0.065430</td>\n",
       "      <td>-0.229410</td>\n",
       "      <td>-0.108723</td>\n",
       "      <td>-0.310660</td>\n",
       "      <td>0.101653</td>\n",
       "    </tr>\n",
       "  </tbody>\n",
       "</table>\n",
       "</div>"
      ],
      "text/plain": [
       "         0         1         2         3         4         5         6   \\\n",
       "0  1.070095  0.334491  0.046670  0.903382 -0.833573 -0.468227 -0.121247   \n",
       "1 -0.739578  1.102837 -0.355086  0.367495  0.302539 -0.434446  0.065121   \n",
       "2 -0.755677  1.192324 -0.245622  0.294854 -0.490618 -0.131393 -0.111866   \n",
       "3 -0.299744  0.072508 -0.007706  1.289456 -0.785914 -0.461946 -0.287196   \n",
       "4 -0.773960  1.140790 -0.352816  0.366622  0.311118 -0.378058 -0.046848   \n",
       "\n",
       "         7         8         9         10        11        12        13  \\\n",
       "0  0.696152 -0.327017 -0.108302 -0.317628 -0.035962  0.044812 -0.038336   \n",
       "1  0.697155 -0.253635 -0.157227  0.543588  0.361237  0.033909  0.577451   \n",
       "2  0.745693 -0.275621 -0.190092 -0.037964 -0.134068  0.104839  0.075639   \n",
       "3 -0.249679 -0.212697 -0.261737 -0.011725 -0.661824  0.099451  0.332159   \n",
       "4 -0.337253 -0.142652 -0.061704  0.595309 -0.146138  0.078219 -0.425977   \n",
       "\n",
       "         14        15        16        17        18        19  \n",
       "0  0.380924 -0.291132  0.190302 -0.211203 -0.236611  0.159115  \n",
       "1  0.506444 -0.030960 -0.136516 -0.099544 -0.167547 -0.044444  \n",
       "2 -0.310408  0.196189 -0.015641 -0.301964  0.040639  0.173381  \n",
       "3  0.090812  0.050259  0.178397  0.413192  0.007918  0.178243  \n",
       "4  0.056854  0.065430 -0.229410 -0.108723 -0.310660  0.101653  "
      ]
     },
     "execution_count": 676,
     "metadata": {},
     "output_type": "execute_result"
    }
   ],
   "source": [
    "rs=pd.DataFrame(reduced)\n",
    "rs.head()"
   ]
  },
  {
   "cell_type": "code",
   "execution_count": 677,
   "id": "7e6e5cb0",
   "metadata": {},
   "outputs": [
    {
     "data": {
      "text/plain": [
       "(5630, 32)"
      ]
     },
     "execution_count": 677,
     "metadata": {},
     "output_type": "execute_result"
    }
   ],
   "source": [
    "data_rescaled.shape"
   ]
  },
  {
   "cell_type": "code",
   "execution_count": 678,
   "id": "6f315255",
   "metadata": {},
   "outputs": [
    {
     "data": {
      "text/plain": [
       "(5630, 20)"
      ]
     },
     "execution_count": 678,
     "metadata": {},
     "output_type": "execute_result"
    }
   ],
   "source": [
    "reduced.shape"
   ]
  },
  {
   "cell_type": "code",
   "execution_count": 679,
   "id": "9d7dacbd",
   "metadata": {},
   "outputs": [
    {
     "data": {
      "text/plain": [
       "Text(0, 0.5, 'Data loss')"
      ]
     },
     "execution_count": 679,
     "metadata": {},
     "output_type": "execute_result"
    },
    {
     "data": {
      "image/png": "[encoded data removed]",
      "text/plain": [
       "<Figure size 576x432 with 1 Axes>"
      ]
     },
     "metadata": {
      "needs_background": "light"
     },
     "output_type": "display_data"
    }
   ],
   "source": [
    "plt.figure(figsize=(8,6))\n",
    "plt.scatter(reduced[:,0],reduced[:,1],c=df1['Churn'])\n",
    "plt.xlabel('Actual Data')\n",
    "plt.ylabel('Data loss')"
   ]
  },
  {
   "cell_type": "code",
   "execution_count": null,
   "id": "ddb7f2ae",
   "metadata": {},
   "outputs": [],
   "source": []
  },
  {
   "cell_type": "markdown",
   "id": "89e6f2af",
   "metadata": {},
   "source": [
    "### K-Means"
   ]
  },
  {
   "cell_type": "code",
   "execution_count": 680,
   "id": "5023bab0",
   "metadata": {},
   "outputs": [],
   "source": [
    "df2=df.copy()"
   ]
  },
  {
   "cell_type": "code",
   "execution_count": 681,
   "id": "a81da687",
   "metadata": {},
   "outputs": [
    {
     "data": {
      "text/html": [
       "<div>\n",
       "<style scoped>\n",
       "    .dataframe tbody tr th:only-of-type {\n",
       "        vertical-align: middle;\n",
       "    }\n",
       "\n",
       "    .dataframe tbody tr th {\n",
       "        vertical-align: top;\n",
       "    }\n",
       "\n",
       "    .dataframe thead th {\n",
       "        text-align: right;\n",
       "    }\n",
       "</style>\n",
       "<table border=\"1\" class=\"dataframe\">\n",
       "  <thead>\n",
       "    <tr style=\"text-align: right;\">\n",
       "      <th></th>\n",
       "      <th>Tenure</th>\n",
       "      <th>CityTier</th>\n",
       "      <th>WarehouseToHome</th>\n",
       "      <th>HourSpendOnApp</th>\n",
       "      <th>NumberOfDeviceRegistered</th>\n",
       "      <th>SatisfactionScore</th>\n",
       "      <th>NumberOfAddress</th>\n",
       "      <th>Complain</th>\n",
       "      <th>OrderAmountHikeFromlastYear</th>\n",
       "      <th>CouponUsed</th>\n",
       "      <th>...</th>\n",
       "      <th>Gender_Female</th>\n",
       "      <th>Gender_Male</th>\n",
       "      <th>PreferedOrderCat_Fashion</th>\n",
       "      <th>PreferedOrderCat_Grocery</th>\n",
       "      <th>PreferedOrderCat_Laptop &amp; Accessory</th>\n",
       "      <th>PreferedOrderCat_Mobile</th>\n",
       "      <th>PreferedOrderCat_Others</th>\n",
       "      <th>MaritalStatus_Divorced</th>\n",
       "      <th>MaritalStatus_Married</th>\n",
       "      <th>MaritalStatus_Single</th>\n",
       "    </tr>\n",
       "  </thead>\n",
       "  <tbody>\n",
       "    <tr>\n",
       "      <th>0</th>\n",
       "      <td>4.0</td>\n",
       "      <td>3.0</td>\n",
       "      <td>6.0</td>\n",
       "      <td>3.0</td>\n",
       "      <td>3.0</td>\n",
       "      <td>2.0</td>\n",
       "      <td>9.0</td>\n",
       "      <td>1.0</td>\n",
       "      <td>11.0</td>\n",
       "      <td>1.0</td>\n",
       "      <td>...</td>\n",
       "      <td>1</td>\n",
       "      <td>0</td>\n",
       "      <td>0</td>\n",
       "      <td>0</td>\n",
       "      <td>1</td>\n",
       "      <td>0</td>\n",
       "      <td>0</td>\n",
       "      <td>0</td>\n",
       "      <td>0</td>\n",
       "      <td>1</td>\n",
       "    </tr>\n",
       "    <tr>\n",
       "      <th>1</th>\n",
       "      <td>9.0</td>\n",
       "      <td>1.0</td>\n",
       "      <td>8.0</td>\n",
       "      <td>3.0</td>\n",
       "      <td>4.0</td>\n",
       "      <td>3.0</td>\n",
       "      <td>7.0</td>\n",
       "      <td>1.0</td>\n",
       "      <td>15.0</td>\n",
       "      <td>0.0</td>\n",
       "      <td>...</td>\n",
       "      <td>0</td>\n",
       "      <td>1</td>\n",
       "      <td>0</td>\n",
       "      <td>0</td>\n",
       "      <td>0</td>\n",
       "      <td>1</td>\n",
       "      <td>0</td>\n",
       "      <td>0</td>\n",
       "      <td>0</td>\n",
       "      <td>1</td>\n",
       "    </tr>\n",
       "    <tr>\n",
       "      <th>2</th>\n",
       "      <td>9.0</td>\n",
       "      <td>1.0</td>\n",
       "      <td>30.0</td>\n",
       "      <td>2.0</td>\n",
       "      <td>4.0</td>\n",
       "      <td>3.0</td>\n",
       "      <td>6.0</td>\n",
       "      <td>1.0</td>\n",
       "      <td>14.0</td>\n",
       "      <td>0.0</td>\n",
       "      <td>...</td>\n",
       "      <td>0</td>\n",
       "      <td>1</td>\n",
       "      <td>0</td>\n",
       "      <td>0</td>\n",
       "      <td>0</td>\n",
       "      <td>1</td>\n",
       "      <td>0</td>\n",
       "      <td>0</td>\n",
       "      <td>0</td>\n",
       "      <td>1</td>\n",
       "    </tr>\n",
       "    <tr>\n",
       "      <th>3</th>\n",
       "      <td>0.0</td>\n",
       "      <td>3.0</td>\n",
       "      <td>15.0</td>\n",
       "      <td>2.0</td>\n",
       "      <td>4.0</td>\n",
       "      <td>5.0</td>\n",
       "      <td>8.0</td>\n",
       "      <td>0.0</td>\n",
       "      <td>23.0</td>\n",
       "      <td>0.0</td>\n",
       "      <td>...</td>\n",
       "      <td>0</td>\n",
       "      <td>1</td>\n",
       "      <td>0</td>\n",
       "      <td>0</td>\n",
       "      <td>1</td>\n",
       "      <td>0</td>\n",
       "      <td>0</td>\n",
       "      <td>0</td>\n",
       "      <td>0</td>\n",
       "      <td>1</td>\n",
       "    </tr>\n",
       "    <tr>\n",
       "      <th>4</th>\n",
       "      <td>0.0</td>\n",
       "      <td>1.0</td>\n",
       "      <td>12.0</td>\n",
       "      <td>3.0</td>\n",
       "      <td>3.0</td>\n",
       "      <td>5.0</td>\n",
       "      <td>3.0</td>\n",
       "      <td>0.0</td>\n",
       "      <td>11.0</td>\n",
       "      <td>1.0</td>\n",
       "      <td>...</td>\n",
       "      <td>0</td>\n",
       "      <td>1</td>\n",
       "      <td>0</td>\n",
       "      <td>0</td>\n",
       "      <td>0</td>\n",
       "      <td>1</td>\n",
       "      <td>0</td>\n",
       "      <td>0</td>\n",
       "      <td>0</td>\n",
       "      <td>1</td>\n",
       "    </tr>\n",
       "  </tbody>\n",
       "</table>\n",
       "<p>5 rows × 32 columns</p>\n",
       "</div>"
      ],
      "text/plain": [
       "   Tenure  CityTier  WarehouseToHome  HourSpendOnApp  \\\n",
       "0     4.0       3.0              6.0             3.0   \n",
       "1     9.0       1.0              8.0             3.0   \n",
       "2     9.0       1.0             30.0             2.0   \n",
       "3     0.0       3.0             15.0             2.0   \n",
       "4     0.0       1.0             12.0             3.0   \n",
       "\n",
       "   NumberOfDeviceRegistered  SatisfactionScore  NumberOfAddress  Complain  \\\n",
       "0                       3.0                2.0              9.0       1.0   \n",
       "1                       4.0                3.0              7.0       1.0   \n",
       "2                       4.0                3.0              6.0       1.0   \n",
       "3                       4.0                5.0              8.0       0.0   \n",
       "4                       3.0                5.0              3.0       0.0   \n",
       "\n",
       "   OrderAmountHikeFromlastYear  CouponUsed  ...  Gender_Female  Gender_Male  \\\n",
       "0                         11.0         1.0  ...              1            0   \n",
       "1                         15.0         0.0  ...              0            1   \n",
       "2                         14.0         0.0  ...              0            1   \n",
       "3                         23.0         0.0  ...              0            1   \n",
       "4                         11.0         1.0  ...              0            1   \n",
       "\n",
       "   PreferedOrderCat_Fashion  PreferedOrderCat_Grocery  \\\n",
       "0                         0                         0   \n",
       "1                         0                         0   \n",
       "2                         0                         0   \n",
       "3                         0                         0   \n",
       "4                         0                         0   \n",
       "\n",
       "   PreferedOrderCat_Laptop & Accessory  PreferedOrderCat_Mobile  \\\n",
       "0                                    1                        0   \n",
       "1                                    0                        1   \n",
       "2                                    0                        1   \n",
       "3                                    1                        0   \n",
       "4                                    0                        1   \n",
       "\n",
       "   PreferedOrderCat_Others  MaritalStatus_Divorced  MaritalStatus_Married  \\\n",
       "0                        0                       0                      0   \n",
       "1                        0                       0                      0   \n",
       "2                        0                       0                      0   \n",
       "3                        0                       0                      0   \n",
       "4                        0                       0                      0   \n",
       "\n",
       "   MaritalStatus_Single  \n",
       "0                     1  \n",
       "1                     1  \n",
       "2                     1  \n",
       "3                     1  \n",
       "4                     1  \n",
       "\n",
       "[5 rows x 32 columns]"
      ]
     },
     "execution_count": 681,
     "metadata": {},
     "output_type": "execute_result"
    }
   ],
   "source": [
    "df2.head()"
   ]
  },
  {
   "cell_type": "code",
   "execution_count": 682,
   "id": "7605eab6",
   "metadata": {},
   "outputs": [],
   "source": [
    "from sklearn.cluster import KMeans"
   ]
  },
  {
   "cell_type": "code",
   "execution_count": 683,
   "id": "89a55ab0",
   "metadata": {},
   "outputs": [
    {
     "data": {
      "image/png": "[encoded data removed]",
      "text/plain": [
       "<Figure size 432x288 with 1 Axes>"
      ]
     },
     "metadata": {
      "needs_background": "light"
     },
     "output_type": "display_data"
    }
   ],
   "source": [
    "elbow = []\n",
    "for i in range(1, 11):\n",
    "    kmeans = KMeans(n_clusters=i, init='k-means++', max_iter=300, n_init=10, random_state=0)\n",
    "    kmeans.fit(df2)\n",
    "    elbow.append(kmeans.inertia_)\n",
    "plt.plot(range(1, 11), elbow)\n",
    "plt.title('Elbow Method')\n",
    "plt.xlabel('Number of clusters')\n",
    "plt.ylabel('Inertia')\n",
    "plt.show()"
   ]
  },
  {
   "cell_type": "code",
   "execution_count": 684,
   "id": "46b61577",
   "metadata": {},
   "outputs": [],
   "source": [
    "from scipy.cluster.hierarchy import fcluster"
   ]
  },
  {
   "cell_type": "code",
   "execution_count": 685,
   "id": "f2947c68",
   "metadata": {},
   "outputs": [
    {
     "data": {
      "text/plain": [
       "0       0\n",
       "1       0\n",
       "2       0\n",
       "3       0\n",
       "4       0\n",
       "       ..\n",
       "5625    0\n",
       "5626    1\n",
       "5627    2\n",
       "5628    2\n",
       "5629    2\n",
       "Length: 5630, dtype: int32"
      ]
     },
     "execution_count": 685,
     "metadata": {},
     "output_type": "execute_result"
    }
   ],
   "source": [
    "kmeans = KMeans(n_clusters = 3, init = 'k-means++', random_state = 42)\n",
    "y_kmeans = pd.Series(kmeans.fit_predict(df2))\n",
    "y_kmeans"
   ]
  },
  {
   "cell_type": "code",
   "execution_count": 686,
   "id": "6b5269f1",
   "metadata": {},
   "outputs": [
    {
     "data": {
      "text/plain": [
       "0    2783\n",
       "2    1860\n",
       "1     987\n",
       "dtype: int64"
      ]
     },
     "execution_count": 686,
     "metadata": {},
     "output_type": "execute_result"
    }
   ],
   "source": [
    "y_kmeans.value_counts()"
   ]
  },
  {
   "cell_type": "code",
   "execution_count": 687,
   "id": "0de8e6f7",
   "metadata": {},
   "outputs": [
    {
     "data": {
      "text/html": [
       "<div>\n",
       "<style scoped>\n",
       "    .dataframe tbody tr th:only-of-type {\n",
       "        vertical-align: middle;\n",
       "    }\n",
       "\n",
       "    .dataframe tbody tr th {\n",
       "        vertical-align: top;\n",
       "    }\n",
       "\n",
       "    .dataframe thead th {\n",
       "        text-align: right;\n",
       "    }\n",
       "</style>\n",
       "<table border=\"1\" class=\"dataframe\">\n",
       "  <thead>\n",
       "    <tr style=\"text-align: right;\">\n",
       "      <th></th>\n",
       "      <th>Tenure</th>\n",
       "      <th>CityTier</th>\n",
       "      <th>WarehouseToHome</th>\n",
       "      <th>HourSpendOnApp</th>\n",
       "      <th>NumberOfDeviceRegistered</th>\n",
       "      <th>SatisfactionScore</th>\n",
       "      <th>NumberOfAddress</th>\n",
       "      <th>Complain</th>\n",
       "      <th>OrderAmountHikeFromlastYear</th>\n",
       "      <th>CouponUsed</th>\n",
       "      <th>...</th>\n",
       "      <th>Gender_Male</th>\n",
       "      <th>PreferedOrderCat_Fashion</th>\n",
       "      <th>PreferedOrderCat_Grocery</th>\n",
       "      <th>PreferedOrderCat_Laptop &amp; Accessory</th>\n",
       "      <th>PreferedOrderCat_Mobile</th>\n",
       "      <th>PreferedOrderCat_Others</th>\n",
       "      <th>MaritalStatus_Divorced</th>\n",
       "      <th>MaritalStatus_Married</th>\n",
       "      <th>MaritalStatus_Single</th>\n",
       "      <th>Cluster</th>\n",
       "    </tr>\n",
       "  </thead>\n",
       "  <tbody>\n",
       "    <tr>\n",
       "      <th>0</th>\n",
       "      <td>4.0</td>\n",
       "      <td>3.0</td>\n",
       "      <td>6.0</td>\n",
       "      <td>3.0</td>\n",
       "      <td>3.0</td>\n",
       "      <td>2.0</td>\n",
       "      <td>9.0</td>\n",
       "      <td>1.0</td>\n",
       "      <td>11.0</td>\n",
       "      <td>1.0</td>\n",
       "      <td>...</td>\n",
       "      <td>0</td>\n",
       "      <td>0</td>\n",
       "      <td>0</td>\n",
       "      <td>1</td>\n",
       "      <td>0</td>\n",
       "      <td>0</td>\n",
       "      <td>0</td>\n",
       "      <td>0</td>\n",
       "      <td>1</td>\n",
       "      <td>0</td>\n",
       "    </tr>\n",
       "    <tr>\n",
       "      <th>1</th>\n",
       "      <td>9.0</td>\n",
       "      <td>1.0</td>\n",
       "      <td>8.0</td>\n",
       "      <td>3.0</td>\n",
       "      <td>4.0</td>\n",
       "      <td>3.0</td>\n",
       "      <td>7.0</td>\n",
       "      <td>1.0</td>\n",
       "      <td>15.0</td>\n",
       "      <td>0.0</td>\n",
       "      <td>...</td>\n",
       "      <td>1</td>\n",
       "      <td>0</td>\n",
       "      <td>0</td>\n",
       "      <td>0</td>\n",
       "      <td>1</td>\n",
       "      <td>0</td>\n",
       "      <td>0</td>\n",
       "      <td>0</td>\n",
       "      <td>1</td>\n",
       "      <td>0</td>\n",
       "    </tr>\n",
       "    <tr>\n",
       "      <th>2</th>\n",
       "      <td>9.0</td>\n",
       "      <td>1.0</td>\n",
       "      <td>30.0</td>\n",
       "      <td>2.0</td>\n",
       "      <td>4.0</td>\n",
       "      <td>3.0</td>\n",
       "      <td>6.0</td>\n",
       "      <td>1.0</td>\n",
       "      <td>14.0</td>\n",
       "      <td>0.0</td>\n",
       "      <td>...</td>\n",
       "      <td>1</td>\n",
       "      <td>0</td>\n",
       "      <td>0</td>\n",
       "      <td>0</td>\n",
       "      <td>1</td>\n",
       "      <td>0</td>\n",
       "      <td>0</td>\n",
       "      <td>0</td>\n",
       "      <td>1</td>\n",
       "      <td>0</td>\n",
       "    </tr>\n",
       "    <tr>\n",
       "      <th>3</th>\n",
       "      <td>0.0</td>\n",
       "      <td>3.0</td>\n",
       "      <td>15.0</td>\n",
       "      <td>2.0</td>\n",
       "      <td>4.0</td>\n",
       "      <td>5.0</td>\n",
       "      <td>8.0</td>\n",
       "      <td>0.0</td>\n",
       "      <td>23.0</td>\n",
       "      <td>0.0</td>\n",
       "      <td>...</td>\n",
       "      <td>1</td>\n",
       "      <td>0</td>\n",
       "      <td>0</td>\n",
       "      <td>1</td>\n",
       "      <td>0</td>\n",
       "      <td>0</td>\n",
       "      <td>0</td>\n",
       "      <td>0</td>\n",
       "      <td>1</td>\n",
       "      <td>0</td>\n",
       "    </tr>\n",
       "    <tr>\n",
       "      <th>4</th>\n",
       "      <td>0.0</td>\n",
       "      <td>1.0</td>\n",
       "      <td>12.0</td>\n",
       "      <td>3.0</td>\n",
       "      <td>3.0</td>\n",
       "      <td>5.0</td>\n",
       "      <td>3.0</td>\n",
       "      <td>0.0</td>\n",
       "      <td>11.0</td>\n",
       "      <td>1.0</td>\n",
       "      <td>...</td>\n",
       "      <td>1</td>\n",
       "      <td>0</td>\n",
       "      <td>0</td>\n",
       "      <td>0</td>\n",
       "      <td>1</td>\n",
       "      <td>0</td>\n",
       "      <td>0</td>\n",
       "      <td>0</td>\n",
       "      <td>1</td>\n",
       "      <td>0</td>\n",
       "    </tr>\n",
       "  </tbody>\n",
       "</table>\n",
       "<p>5 rows × 33 columns</p>\n",
       "</div>"
      ],
      "text/plain": [
       "   Tenure  CityTier  WarehouseToHome  HourSpendOnApp  \\\n",
       "0     4.0       3.0              6.0             3.0   \n",
       "1     9.0       1.0              8.0             3.0   \n",
       "2     9.0       1.0             30.0             2.0   \n",
       "3     0.0       3.0             15.0             2.0   \n",
       "4     0.0       1.0             12.0             3.0   \n",
       "\n",
       "   NumberOfDeviceRegistered  SatisfactionScore  NumberOfAddress  Complain  \\\n",
       "0                       3.0                2.0              9.0       1.0   \n",
       "1                       4.0                3.0              7.0       1.0   \n",
       "2                       4.0                3.0              6.0       1.0   \n",
       "3                       4.0                5.0              8.0       0.0   \n",
       "4                       3.0                5.0              3.0       0.0   \n",
       "\n",
       "   OrderAmountHikeFromlastYear  CouponUsed  ...  Gender_Male  \\\n",
       "0                         11.0         1.0  ...            0   \n",
       "1                         15.0         0.0  ...            1   \n",
       "2                         14.0         0.0  ...            1   \n",
       "3                         23.0         0.0  ...            1   \n",
       "4                         11.0         1.0  ...            1   \n",
       "\n",
       "   PreferedOrderCat_Fashion  PreferedOrderCat_Grocery  \\\n",
       "0                         0                         0   \n",
       "1                         0                         0   \n",
       "2                         0                         0   \n",
       "3                         0                         0   \n",
       "4                         0                         0   \n",
       "\n",
       "   PreferedOrderCat_Laptop & Accessory  PreferedOrderCat_Mobile  \\\n",
       "0                                    1                        0   \n",
       "1                                    0                        1   \n",
       "2                                    0                        1   \n",
       "3                                    1                        0   \n",
       "4                                    0                        1   \n",
       "\n",
       "   PreferedOrderCat_Others  MaritalStatus_Divorced  MaritalStatus_Married  \\\n",
       "0                        0                       0                      0   \n",
       "1                        0                       0                      0   \n",
       "2                        0                       0                      0   \n",
       "3                        0                       0                      0   \n",
       "4                        0                       0                      0   \n",
       "\n",
       "   MaritalStatus_Single  Cluster  \n",
       "0                     1        0  \n",
       "1                     1        0  \n",
       "2                     1        0  \n",
       "3                     1        0  \n",
       "4                     1        0  \n",
       "\n",
       "[5 rows x 33 columns]"
      ]
     },
     "execution_count": 687,
     "metadata": {},
     "output_type": "execute_result"
    }
   ],
   "source": [
    "df2[\"Cluster\"] = y_kmeans\n",
    "df2.head()"
   ]
  },
  {
   "cell_type": "code",
   "execution_count": 688,
   "id": "022e6908",
   "metadata": {},
   "outputs": [
    {
     "data": {
      "text/html": [
       "<div>\n",
       "<style scoped>\n",
       "    .dataframe tbody tr th:only-of-type {\n",
       "        vertical-align: middle;\n",
       "    }\n",
       "\n",
       "    .dataframe tbody tr th {\n",
       "        vertical-align: top;\n",
       "    }\n",
       "\n",
       "    .dataframe thead th {\n",
       "        text-align: right;\n",
       "    }\n",
       "</style>\n",
       "<table border=\"1\" class=\"dataframe\">\n",
       "  <thead>\n",
       "    <tr style=\"text-align: right;\">\n",
       "      <th></th>\n",
       "      <th>Tenure</th>\n",
       "      <th>CityTier</th>\n",
       "      <th>WarehouseToHome</th>\n",
       "      <th>HourSpendOnApp</th>\n",
       "      <th>NumberOfDeviceRegistered</th>\n",
       "      <th>SatisfactionScore</th>\n",
       "      <th>NumberOfAddress</th>\n",
       "      <th>Complain</th>\n",
       "      <th>OrderAmountHikeFromlastYear</th>\n",
       "      <th>CouponUsed</th>\n",
       "      <th>...</th>\n",
       "      <th>Gender_Male</th>\n",
       "      <th>PreferedOrderCat_Fashion</th>\n",
       "      <th>PreferedOrderCat_Grocery</th>\n",
       "      <th>PreferedOrderCat_Laptop &amp; Accessory</th>\n",
       "      <th>PreferedOrderCat_Mobile</th>\n",
       "      <th>PreferedOrderCat_Others</th>\n",
       "      <th>MaritalStatus_Divorced</th>\n",
       "      <th>MaritalStatus_Married</th>\n",
       "      <th>MaritalStatus_Single</th>\n",
       "      <th>freq</th>\n",
       "    </tr>\n",
       "    <tr>\n",
       "      <th>Cluster</th>\n",
       "      <th></th>\n",
       "      <th></th>\n",
       "      <th></th>\n",
       "      <th></th>\n",
       "      <th></th>\n",
       "      <th></th>\n",
       "      <th></th>\n",
       "      <th></th>\n",
       "      <th></th>\n",
       "      <th></th>\n",
       "      <th></th>\n",
       "      <th></th>\n",
       "      <th></th>\n",
       "      <th></th>\n",
       "      <th></th>\n",
       "      <th></th>\n",
       "      <th></th>\n",
       "      <th></th>\n",
       "      <th></th>\n",
       "      <th></th>\n",
       "      <th></th>\n",
       "    </tr>\n",
       "  </thead>\n",
       "  <tbody>\n",
       "    <tr>\n",
       "      <th>0</th>\n",
       "      <td>7.358606</td>\n",
       "      <td>1.504851</td>\n",
       "      <td>15.214517</td>\n",
       "      <td>2.822673</td>\n",
       "      <td>3.536292</td>\n",
       "      <td>3.070428</td>\n",
       "      <td>3.747036</td>\n",
       "      <td>0.287460</td>\n",
       "      <td>15.631153</td>\n",
       "      <td>1.180381</td>\n",
       "      <td>...</td>\n",
       "      <td>0.619116</td>\n",
       "      <td>0.001797</td>\n",
       "      <td>0.000719</td>\n",
       "      <td>0.292849</td>\n",
       "      <td>0.704635</td>\n",
       "      <td>0.000000</td>\n",
       "      <td>0.140496</td>\n",
       "      <td>0.508085</td>\n",
       "      <td>0.351419</td>\n",
       "      <td>2783</td>\n",
       "    </tr>\n",
       "    <tr>\n",
       "      <th>1</th>\n",
       "      <td>17.997974</td>\n",
       "      <td>1.613982</td>\n",
       "      <td>15.467072</td>\n",
       "      <td>2.982270</td>\n",
       "      <td>3.830800</td>\n",
       "      <td>3.091185</td>\n",
       "      <td>5.013171</td>\n",
       "      <td>0.293820</td>\n",
       "      <td>15.536981</td>\n",
       "      <td>1.728977</td>\n",
       "      <td>...</td>\n",
       "      <td>0.572442</td>\n",
       "      <td>0.292806</td>\n",
       "      <td>0.409321</td>\n",
       "      <td>0.030395</td>\n",
       "      <td>0.000000</td>\n",
       "      <td>0.267477</td>\n",
       "      <td>0.182371</td>\n",
       "      <td>0.586626</td>\n",
       "      <td>0.231003</td>\n",
       "      <td>987</td>\n",
       "    </tr>\n",
       "    <tr>\n",
       "      <th>2</th>\n",
       "      <td>10.065591</td>\n",
       "      <td>1.900538</td>\n",
       "      <td>16.050000</td>\n",
       "      <td>3.076882</td>\n",
       "      <td>3.861828</td>\n",
       "      <td>3.048387</td>\n",
       "      <td>4.470430</td>\n",
       "      <td>0.276344</td>\n",
       "      <td>15.803763</td>\n",
       "      <td>1.676344</td>\n",
       "      <td>...</td>\n",
       "      <td>0.589247</td>\n",
       "      <td>0.286022</td>\n",
       "      <td>0.002151</td>\n",
       "      <td>0.647849</td>\n",
       "      <td>0.063978</td>\n",
       "      <td>0.000000</td>\n",
       "      <td>0.148925</td>\n",
       "      <td>0.533871</td>\n",
       "      <td>0.317204</td>\n",
       "      <td>1860</td>\n",
       "    </tr>\n",
       "  </tbody>\n",
       "</table>\n",
       "<p>3 rows × 33 columns</p>\n",
       "</div>"
      ],
      "text/plain": [
       "            Tenure  CityTier  WarehouseToHome  HourSpendOnApp  \\\n",
       "Cluster                                                         \n",
       "0         7.358606  1.504851        15.214517        2.822673   \n",
       "1        17.997974  1.613982        15.467072        2.982270   \n",
       "2        10.065591  1.900538        16.050000        3.076882   \n",
       "\n",
       "         NumberOfDeviceRegistered  SatisfactionScore  NumberOfAddress  \\\n",
       "Cluster                                                                 \n",
       "0                        3.536292           3.070428         3.747036   \n",
       "1                        3.830800           3.091185         5.013171   \n",
       "2                        3.861828           3.048387         4.470430   \n",
       "\n",
       "         Complain  OrderAmountHikeFromlastYear  CouponUsed  ...  Gender_Male  \\\n",
       "Cluster                                                     ...                \n",
       "0        0.287460                    15.631153    1.180381  ...     0.619116   \n",
       "1        0.293820                    15.536981    1.728977  ...     0.572442   \n",
       "2        0.276344                    15.803763    1.676344  ...     0.589247   \n",
       "\n",
       "         PreferedOrderCat_Fashion  PreferedOrderCat_Grocery  \\\n",
       "Cluster                                                       \n",
       "0                        0.001797                  0.000719   \n",
       "1                        0.292806                  0.409321   \n",
       "2                        0.286022                  0.002151   \n",
       "\n",
       "         PreferedOrderCat_Laptop & Accessory  PreferedOrderCat_Mobile  \\\n",
       "Cluster                                                                 \n",
       "0                                   0.292849                 0.704635   \n",
       "1                                   0.030395                 0.000000   \n",
       "2                                   0.647849                 0.063978   \n",
       "\n",
       "         PreferedOrderCat_Others  MaritalStatus_Divorced  \\\n",
       "Cluster                                                    \n",
       "0                       0.000000                0.140496   \n",
       "1                       0.267477                0.182371   \n",
       "2                       0.000000                0.148925   \n",
       "\n",
       "         MaritalStatus_Married  MaritalStatus_Single  freq  \n",
       "Cluster                                                     \n",
       "0                     0.508085              0.351419  2783  \n",
       "1                     0.586626              0.231003   987  \n",
       "2                     0.533871              0.317204  1860  \n",
       "\n",
       "[3 rows x 33 columns]"
      ]
     },
     "execution_count": 688,
     "metadata": {},
     "output_type": "execute_result"
    }
   ],
   "source": [
    "k_data = df2.iloc[:,:].groupby('Cluster').mean()\n",
    "k_data['freq'] = df2.Cluster.value_counts().sort_index()\n",
    "k_data"
   ]
  },
  {
   "cell_type": "code",
   "execution_count": 689,
   "id": "4cebb8c0",
   "metadata": {},
   "outputs": [
    {
     "data": {
      "text/plain": [
       "Cluster\n",
       "0    3.436400\n",
       "1    6.013678\n",
       "2    5.073656\n",
       "Name: DaySinceLastOrder, dtype: float64"
      ]
     },
     "execution_count": 689,
     "metadata": {},
     "output_type": "execute_result"
    }
   ],
   "source": [
    "k_data['DaySinceLastOrder']"
   ]
  },
  {
   "cell_type": "code",
   "execution_count": 690,
   "id": "f637578a",
   "metadata": {},
   "outputs": [
    {
     "data": {
      "text/plain": [
       "Cluster\n",
       "0    0.380884\n",
       "1    0.427558\n",
       "2    0.410753\n",
       "Name: Gender_Female, dtype: float64"
      ]
     },
     "execution_count": 690,
     "metadata": {},
     "output_type": "execute_result"
    }
   ],
   "source": [
    "k_data['Gender_Female']"
   ]
  },
  {
   "cell_type": "markdown",
   "id": "d3e07093",
   "metadata": {},
   "source": [
    "### Train and Test\n"
   ]
  },
  {
   "cell_type": "code",
   "execution_count": 691,
   "id": "1453aca9",
   "metadata": {},
   "outputs": [],
   "source": [
    "rs['Churn']=Churn['Churn']"
   ]
  },
  {
   "cell_type": "code",
   "execution_count": 692,
   "id": "8237368d",
   "metadata": {},
   "outputs": [],
   "source": [
    "y=rs['Churn']\n",
    "x=rs.drop(Churn,axis=1)"
   ]
  },
  {
   "cell_type": "code",
   "execution_count": 693,
   "id": "7fa3c918",
   "metadata": {},
   "outputs": [
    {
     "data": {
      "text/html": [
       "<div>\n",
       "<style scoped>\n",
       "    .dataframe tbody tr th:only-of-type {\n",
       "        vertical-align: middle;\n",
       "    }\n",
       "\n",
       "    .dataframe tbody tr th {\n",
       "        vertical-align: top;\n",
       "    }\n",
       "\n",
       "    .dataframe thead th {\n",
       "        text-align: right;\n",
       "    }\n",
       "</style>\n",
       "<table border=\"1\" class=\"dataframe\">\n",
       "  <thead>\n",
       "    <tr style=\"text-align: right;\">\n",
       "      <th></th>\n",
       "      <th>0</th>\n",
       "      <th>1</th>\n",
       "      <th>2</th>\n",
       "      <th>3</th>\n",
       "      <th>4</th>\n",
       "      <th>5</th>\n",
       "      <th>6</th>\n",
       "      <th>7</th>\n",
       "      <th>8</th>\n",
       "      <th>9</th>\n",
       "      <th>...</th>\n",
       "      <th>11</th>\n",
       "      <th>12</th>\n",
       "      <th>13</th>\n",
       "      <th>14</th>\n",
       "      <th>15</th>\n",
       "      <th>16</th>\n",
       "      <th>17</th>\n",
       "      <th>18</th>\n",
       "      <th>19</th>\n",
       "      <th>Churn</th>\n",
       "    </tr>\n",
       "  </thead>\n",
       "  <tbody>\n",
       "    <tr>\n",
       "      <th>0</th>\n",
       "      <td>1.070095</td>\n",
       "      <td>0.334491</td>\n",
       "      <td>0.046670</td>\n",
       "      <td>0.903382</td>\n",
       "      <td>-0.833573</td>\n",
       "      <td>-0.468227</td>\n",
       "      <td>-0.121247</td>\n",
       "      <td>0.696152</td>\n",
       "      <td>-0.327017</td>\n",
       "      <td>-0.108302</td>\n",
       "      <td>...</td>\n",
       "      <td>-0.035962</td>\n",
       "      <td>0.044812</td>\n",
       "      <td>-0.038336</td>\n",
       "      <td>0.380924</td>\n",
       "      <td>-0.291132</td>\n",
       "      <td>0.190302</td>\n",
       "      <td>-0.211203</td>\n",
       "      <td>-0.236611</td>\n",
       "      <td>0.159115</td>\n",
       "      <td>1</td>\n",
       "    </tr>\n",
       "    <tr>\n",
       "      <th>1</th>\n",
       "      <td>-0.739578</td>\n",
       "      <td>1.102837</td>\n",
       "      <td>-0.355086</td>\n",
       "      <td>0.367495</td>\n",
       "      <td>0.302539</td>\n",
       "      <td>-0.434446</td>\n",
       "      <td>0.065121</td>\n",
       "      <td>0.697155</td>\n",
       "      <td>-0.253635</td>\n",
       "      <td>-0.157227</td>\n",
       "      <td>...</td>\n",
       "      <td>0.361237</td>\n",
       "      <td>0.033909</td>\n",
       "      <td>0.577451</td>\n",
       "      <td>0.506444</td>\n",
       "      <td>-0.030960</td>\n",
       "      <td>-0.136516</td>\n",
       "      <td>-0.099544</td>\n",
       "      <td>-0.167547</td>\n",
       "      <td>-0.044444</td>\n",
       "      <td>1</td>\n",
       "    </tr>\n",
       "    <tr>\n",
       "      <th>2</th>\n",
       "      <td>-0.755677</td>\n",
       "      <td>1.192324</td>\n",
       "      <td>-0.245622</td>\n",
       "      <td>0.294854</td>\n",
       "      <td>-0.490618</td>\n",
       "      <td>-0.131393</td>\n",
       "      <td>-0.111866</td>\n",
       "      <td>0.745693</td>\n",
       "      <td>-0.275621</td>\n",
       "      <td>-0.190092</td>\n",
       "      <td>...</td>\n",
       "      <td>-0.134068</td>\n",
       "      <td>0.104839</td>\n",
       "      <td>0.075639</td>\n",
       "      <td>-0.310408</td>\n",
       "      <td>0.196189</td>\n",
       "      <td>-0.015641</td>\n",
       "      <td>-0.301964</td>\n",
       "      <td>0.040639</td>\n",
       "      <td>0.173381</td>\n",
       "      <td>1</td>\n",
       "    </tr>\n",
       "    <tr>\n",
       "      <th>3</th>\n",
       "      <td>-0.299744</td>\n",
       "      <td>0.072508</td>\n",
       "      <td>-0.007706</td>\n",
       "      <td>1.289456</td>\n",
       "      <td>-0.785914</td>\n",
       "      <td>-0.461946</td>\n",
       "      <td>-0.287196</td>\n",
       "      <td>-0.249679</td>\n",
       "      <td>-0.212697</td>\n",
       "      <td>-0.261737</td>\n",
       "      <td>...</td>\n",
       "      <td>-0.661824</td>\n",
       "      <td>0.099451</td>\n",
       "      <td>0.332159</td>\n",
       "      <td>0.090812</td>\n",
       "      <td>0.050259</td>\n",
       "      <td>0.178397</td>\n",
       "      <td>0.413192</td>\n",
       "      <td>0.007918</td>\n",
       "      <td>0.178243</td>\n",
       "      <td>1</td>\n",
       "    </tr>\n",
       "    <tr>\n",
       "      <th>4</th>\n",
       "      <td>-0.773960</td>\n",
       "      <td>1.140790</td>\n",
       "      <td>-0.352816</td>\n",
       "      <td>0.366622</td>\n",
       "      <td>0.311118</td>\n",
       "      <td>-0.378058</td>\n",
       "      <td>-0.046848</td>\n",
       "      <td>-0.337253</td>\n",
       "      <td>-0.142652</td>\n",
       "      <td>-0.061704</td>\n",
       "      <td>...</td>\n",
       "      <td>-0.146138</td>\n",
       "      <td>0.078219</td>\n",
       "      <td>-0.425977</td>\n",
       "      <td>0.056854</td>\n",
       "      <td>0.065430</td>\n",
       "      <td>-0.229410</td>\n",
       "      <td>-0.108723</td>\n",
       "      <td>-0.310660</td>\n",
       "      <td>0.101653</td>\n",
       "      <td>1</td>\n",
       "    </tr>\n",
       "  </tbody>\n",
       "</table>\n",
       "<p>5 rows × 21 columns</p>\n",
       "</div>"
      ],
      "text/plain": [
       "          0         1         2         3         4         5         6  \\\n",
       "0  1.070095  0.334491  0.046670  0.903382 -0.833573 -0.468227 -0.121247   \n",
       "1 -0.739578  1.102837 -0.355086  0.367495  0.302539 -0.434446  0.065121   \n",
       "2 -0.755677  1.192324 -0.245622  0.294854 -0.490618 -0.131393 -0.111866   \n",
       "3 -0.299744  0.072508 -0.007706  1.289456 -0.785914 -0.461946 -0.287196   \n",
       "4 -0.773960  1.140790 -0.352816  0.366622  0.311118 -0.378058 -0.046848   \n",
       "\n",
       "          7         8         9  ...        11        12        13        14  \\\n",
       "0  0.696152 -0.327017 -0.108302  ... -0.035962  0.044812 -0.038336  0.380924   \n",
       "1  0.697155 -0.253635 -0.157227  ...  0.361237  0.033909  0.577451  0.506444   \n",
       "2  0.745693 -0.275621 -0.190092  ... -0.134068  0.104839  0.075639 -0.310408   \n",
       "3 -0.249679 -0.212697 -0.261737  ... -0.661824  0.099451  0.332159  0.090812   \n",
       "4 -0.337253 -0.142652 -0.061704  ... -0.146138  0.078219 -0.425977  0.056854   \n",
       "\n",
       "         15        16        17        18        19  Churn  \n",
       "0 -0.291132  0.190302 -0.211203 -0.236611  0.159115      1  \n",
       "1 -0.030960 -0.136516 -0.099544 -0.167547 -0.044444      1  \n",
       "2  0.196189 -0.015641 -0.301964  0.040639  0.173381      1  \n",
       "3  0.050259  0.178397  0.413192  0.007918  0.178243      1  \n",
       "4  0.065430 -0.229410 -0.108723 -0.310660  0.101653      1  \n",
       "\n",
       "[5 rows x 21 columns]"
      ]
     },
     "execution_count": 693,
     "metadata": {},
     "output_type": "execute_result"
    }
   ],
   "source": [
    "rs.head()"
   ]
  },
  {
   "cell_type": "code",
   "execution_count": 694,
   "id": "727863cc",
   "metadata": {},
   "outputs": [
    {
     "data": {
      "text/html": [
       "<div>\n",
       "<style scoped>\n",
       "    .dataframe tbody tr th:only-of-type {\n",
       "        vertical-align: middle;\n",
       "    }\n",
       "\n",
       "    .dataframe tbody tr th {\n",
       "        vertical-align: top;\n",
       "    }\n",
       "\n",
       "    .dataframe thead th {\n",
       "        text-align: right;\n",
       "    }\n",
       "</style>\n",
       "<table border=\"1\" class=\"dataframe\">\n",
       "  <thead>\n",
       "    <tr style=\"text-align: right;\">\n",
       "      <th></th>\n",
       "      <th>0</th>\n",
       "      <th>1</th>\n",
       "      <th>2</th>\n",
       "      <th>3</th>\n",
       "      <th>4</th>\n",
       "      <th>5</th>\n",
       "      <th>6</th>\n",
       "      <th>7</th>\n",
       "      <th>8</th>\n",
       "      <th>9</th>\n",
       "      <th>10</th>\n",
       "      <th>11</th>\n",
       "      <th>12</th>\n",
       "      <th>13</th>\n",
       "      <th>14</th>\n",
       "      <th>15</th>\n",
       "      <th>16</th>\n",
       "      <th>17</th>\n",
       "      <th>18</th>\n",
       "      <th>19</th>\n",
       "    </tr>\n",
       "  </thead>\n",
       "  <tbody>\n",
       "    <tr>\n",
       "      <th>0</th>\n",
       "      <td>1.070095</td>\n",
       "      <td>0.334491</td>\n",
       "      <td>0.046670</td>\n",
       "      <td>0.903382</td>\n",
       "      <td>-0.833573</td>\n",
       "      <td>-0.468227</td>\n",
       "      <td>-0.121247</td>\n",
       "      <td>0.696152</td>\n",
       "      <td>-0.327017</td>\n",
       "      <td>-0.108302</td>\n",
       "      <td>-0.317628</td>\n",
       "      <td>-0.035962</td>\n",
       "      <td>0.044812</td>\n",
       "      <td>-0.038336</td>\n",
       "      <td>0.380924</td>\n",
       "      <td>-0.291132</td>\n",
       "      <td>0.190302</td>\n",
       "      <td>-0.211203</td>\n",
       "      <td>-0.236611</td>\n",
       "      <td>0.159115</td>\n",
       "    </tr>\n",
       "    <tr>\n",
       "      <th>1</th>\n",
       "      <td>-0.739578</td>\n",
       "      <td>1.102837</td>\n",
       "      <td>-0.355086</td>\n",
       "      <td>0.367495</td>\n",
       "      <td>0.302539</td>\n",
       "      <td>-0.434446</td>\n",
       "      <td>0.065121</td>\n",
       "      <td>0.697155</td>\n",
       "      <td>-0.253635</td>\n",
       "      <td>-0.157227</td>\n",
       "      <td>0.543588</td>\n",
       "      <td>0.361237</td>\n",
       "      <td>0.033909</td>\n",
       "      <td>0.577451</td>\n",
       "      <td>0.506444</td>\n",
       "      <td>-0.030960</td>\n",
       "      <td>-0.136516</td>\n",
       "      <td>-0.099544</td>\n",
       "      <td>-0.167547</td>\n",
       "      <td>-0.044444</td>\n",
       "    </tr>\n",
       "    <tr>\n",
       "      <th>2</th>\n",
       "      <td>-0.755677</td>\n",
       "      <td>1.192324</td>\n",
       "      <td>-0.245622</td>\n",
       "      <td>0.294854</td>\n",
       "      <td>-0.490618</td>\n",
       "      <td>-0.131393</td>\n",
       "      <td>-0.111866</td>\n",
       "      <td>0.745693</td>\n",
       "      <td>-0.275621</td>\n",
       "      <td>-0.190092</td>\n",
       "      <td>-0.037964</td>\n",
       "      <td>-0.134068</td>\n",
       "      <td>0.104839</td>\n",
       "      <td>0.075639</td>\n",
       "      <td>-0.310408</td>\n",
       "      <td>0.196189</td>\n",
       "      <td>-0.015641</td>\n",
       "      <td>-0.301964</td>\n",
       "      <td>0.040639</td>\n",
       "      <td>0.173381</td>\n",
       "    </tr>\n",
       "    <tr>\n",
       "      <th>3</th>\n",
       "      <td>-0.299744</td>\n",
       "      <td>0.072508</td>\n",
       "      <td>-0.007706</td>\n",
       "      <td>1.289456</td>\n",
       "      <td>-0.785914</td>\n",
       "      <td>-0.461946</td>\n",
       "      <td>-0.287196</td>\n",
       "      <td>-0.249679</td>\n",
       "      <td>-0.212697</td>\n",
       "      <td>-0.261737</td>\n",
       "      <td>-0.011725</td>\n",
       "      <td>-0.661824</td>\n",
       "      <td>0.099451</td>\n",
       "      <td>0.332159</td>\n",
       "      <td>0.090812</td>\n",
       "      <td>0.050259</td>\n",
       "      <td>0.178397</td>\n",
       "      <td>0.413192</td>\n",
       "      <td>0.007918</td>\n",
       "      <td>0.178243</td>\n",
       "    </tr>\n",
       "    <tr>\n",
       "      <th>4</th>\n",
       "      <td>-0.773960</td>\n",
       "      <td>1.140790</td>\n",
       "      <td>-0.352816</td>\n",
       "      <td>0.366622</td>\n",
       "      <td>0.311118</td>\n",
       "      <td>-0.378058</td>\n",
       "      <td>-0.046848</td>\n",
       "      <td>-0.337253</td>\n",
       "      <td>-0.142652</td>\n",
       "      <td>-0.061704</td>\n",
       "      <td>0.595309</td>\n",
       "      <td>-0.146138</td>\n",
       "      <td>0.078219</td>\n",
       "      <td>-0.425977</td>\n",
       "      <td>0.056854</td>\n",
       "      <td>0.065430</td>\n",
       "      <td>-0.229410</td>\n",
       "      <td>-0.108723</td>\n",
       "      <td>-0.310660</td>\n",
       "      <td>0.101653</td>\n",
       "    </tr>\n",
       "    <tr>\n",
       "      <th>...</th>\n",
       "      <td>...</td>\n",
       "      <td>...</td>\n",
       "      <td>...</td>\n",
       "      <td>...</td>\n",
       "      <td>...</td>\n",
       "      <td>...</td>\n",
       "      <td>...</td>\n",
       "      <td>...</td>\n",
       "      <td>...</td>\n",
       "      <td>...</td>\n",
       "      <td>...</td>\n",
       "      <td>...</td>\n",
       "      <td>...</td>\n",
       "      <td>...</td>\n",
       "      <td>...</td>\n",
       "      <td>...</td>\n",
       "      <td>...</td>\n",
       "      <td>...</td>\n",
       "      <td>...</td>\n",
       "      <td>...</td>\n",
       "    </tr>\n",
       "    <tr>\n",
       "      <th>5625</th>\n",
       "      <td>-0.504952</td>\n",
       "      <td>-0.985588</td>\n",
       "      <td>0.865207</td>\n",
       "      <td>-0.240635</td>\n",
       "      <td>0.697435</td>\n",
       "      <td>-0.173107</td>\n",
       "      <td>-0.811601</td>\n",
       "      <td>-0.095598</td>\n",
       "      <td>-0.053918</td>\n",
       "      <td>-0.220945</td>\n",
       "      <td>-0.351426</td>\n",
       "      <td>0.278238</td>\n",
       "      <td>-0.176900</td>\n",
       "      <td>-0.022075</td>\n",
       "      <td>-0.302509</td>\n",
       "      <td>0.301098</td>\n",
       "      <td>-0.029550</td>\n",
       "      <td>-0.004201</td>\n",
       "      <td>-0.102555</td>\n",
       "      <td>0.347819</td>\n",
       "    </tr>\n",
       "    <tr>\n",
       "      <th>5626</th>\n",
       "      <td>-0.445585</td>\n",
       "      <td>-0.583512</td>\n",
       "      <td>-0.696373</td>\n",
       "      <td>-0.228097</td>\n",
       "      <td>0.739300</td>\n",
       "      <td>0.625863</td>\n",
       "      <td>-0.071045</td>\n",
       "      <td>-0.228663</td>\n",
       "      <td>-0.209032</td>\n",
       "      <td>-0.679564</td>\n",
       "      <td>0.171548</td>\n",
       "      <td>-0.574990</td>\n",
       "      <td>-0.350089</td>\n",
       "      <td>0.174719</td>\n",
       "      <td>-0.049327</td>\n",
       "      <td>-0.225444</td>\n",
       "      <td>0.007027</td>\n",
       "      <td>-0.015298</td>\n",
       "      <td>-0.021170</td>\n",
       "      <td>-0.195806</td>\n",
       "    </tr>\n",
       "    <tr>\n",
       "      <th>5627</th>\n",
       "      <td>-0.455631</td>\n",
       "      <td>-0.622426</td>\n",
       "      <td>-0.365477</td>\n",
       "      <td>-0.054839</td>\n",
       "      <td>-0.798054</td>\n",
       "      <td>-0.219562</td>\n",
       "      <td>-0.563338</td>\n",
       "      <td>0.823468</td>\n",
       "      <td>-0.052830</td>\n",
       "      <td>-0.023992</td>\n",
       "      <td>0.209551</td>\n",
       "      <td>-0.284807</td>\n",
       "      <td>-0.060433</td>\n",
       "      <td>-0.153962</td>\n",
       "      <td>0.035503</td>\n",
       "      <td>0.087295</td>\n",
       "      <td>-0.110559</td>\n",
       "      <td>0.477561</td>\n",
       "      <td>0.021372</td>\n",
       "      <td>-0.012763</td>\n",
       "    </tr>\n",
       "    <tr>\n",
       "      <th>5628</th>\n",
       "      <td>-0.313342</td>\n",
       "      <td>-1.287601</td>\n",
       "      <td>0.878984</td>\n",
       "      <td>0.091822</td>\n",
       "      <td>0.672939</td>\n",
       "      <td>-0.174420</td>\n",
       "      <td>-0.147671</td>\n",
       "      <td>-0.273456</td>\n",
       "      <td>-0.042537</td>\n",
       "      <td>0.121380</td>\n",
       "      <td>-0.287360</td>\n",
       "      <td>-0.438852</td>\n",
       "      <td>0.241908</td>\n",
       "      <td>0.179420</td>\n",
       "      <td>0.223704</td>\n",
       "      <td>-0.262064</td>\n",
       "      <td>0.130933</td>\n",
       "      <td>-0.013803</td>\n",
       "      <td>0.062622</td>\n",
       "      <td>-0.026470</td>\n",
       "    </tr>\n",
       "    <tr>\n",
       "      <th>5629</th>\n",
       "      <td>-0.379674</td>\n",
       "      <td>-0.881618</td>\n",
       "      <td>-0.502746</td>\n",
       "      <td>0.081822</td>\n",
       "      <td>0.537167</td>\n",
       "      <td>-0.157477</td>\n",
       "      <td>-0.868265</td>\n",
       "      <td>-0.130307</td>\n",
       "      <td>-0.047852</td>\n",
       "      <td>-0.032836</td>\n",
       "      <td>-0.090162</td>\n",
       "      <td>-0.080329</td>\n",
       "      <td>-0.101064</td>\n",
       "      <td>-0.244905</td>\n",
       "      <td>0.052740</td>\n",
       "      <td>0.030210</td>\n",
       "      <td>-0.068824</td>\n",
       "      <td>-0.103791</td>\n",
       "      <td>-0.198772</td>\n",
       "      <td>0.044905</td>\n",
       "    </tr>\n",
       "  </tbody>\n",
       "</table>\n",
       "<p>5630 rows × 20 columns</p>\n",
       "</div>"
      ],
      "text/plain": [
       "             0         1         2         3         4         5         6  \\\n",
       "0     1.070095  0.334491  0.046670  0.903382 -0.833573 -0.468227 -0.121247   \n",
       "1    -0.739578  1.102837 -0.355086  0.367495  0.302539 -0.434446  0.065121   \n",
       "2    -0.755677  1.192324 -0.245622  0.294854 -0.490618 -0.131393 -0.111866   \n",
       "3    -0.299744  0.072508 -0.007706  1.289456 -0.785914 -0.461946 -0.287196   \n",
       "4    -0.773960  1.140790 -0.352816  0.366622  0.311118 -0.378058 -0.046848   \n",
       "...        ...       ...       ...       ...       ...       ...       ...   \n",
       "5625 -0.504952 -0.985588  0.865207 -0.240635  0.697435 -0.173107 -0.811601   \n",
       "5626 -0.445585 -0.583512 -0.696373 -0.228097  0.739300  0.625863 -0.071045   \n",
       "5627 -0.455631 -0.622426 -0.365477 -0.054839 -0.798054 -0.219562 -0.563338   \n",
       "5628 -0.313342 -1.287601  0.878984  0.091822  0.672939 -0.174420 -0.147671   \n",
       "5629 -0.379674 -0.881618 -0.502746  0.081822  0.537167 -0.157477 -0.868265   \n",
       "\n",
       "             7         8         9        10        11        12        13  \\\n",
       "0     0.696152 -0.327017 -0.108302 -0.317628 -0.035962  0.044812 -0.038336   \n",
       "1     0.697155 -0.253635 -0.157227  0.543588  0.361237  0.033909  0.577451   \n",
       "2     0.745693 -0.275621 -0.190092 -0.037964 -0.134068  0.104839  0.075639   \n",
       "3    -0.249679 -0.212697 -0.261737 -0.011725 -0.661824  0.099451  0.332159   \n",
       "4    -0.337253 -0.142652 -0.061704  0.595309 -0.146138  0.078219 -0.425977   \n",
       "...        ...       ...       ...       ...       ...       ...       ...   \n",
       "5625 -0.095598 -0.053918 -0.220945 -0.351426  0.278238 -0.176900 -0.022075   \n",
       "5626 -0.228663 -0.209032 -0.679564  0.171548 -0.574990 -0.350089  0.174719   \n",
       "5627  0.823468 -0.052830 -0.023992  0.209551 -0.284807 -0.060433 -0.153962   \n",
       "5628 -0.273456 -0.042537  0.121380 -0.287360 -0.438852  0.241908  0.179420   \n",
       "5629 -0.130307 -0.047852 -0.032836 -0.090162 -0.080329 -0.101064 -0.244905   \n",
       "\n",
       "            14        15        16        17        18        19  \n",
       "0     0.380924 -0.291132  0.190302 -0.211203 -0.236611  0.159115  \n",
       "1     0.506444 -0.030960 -0.136516 -0.099544 -0.167547 -0.044444  \n",
       "2    -0.310408  0.196189 -0.015641 -0.301964  0.040639  0.173381  \n",
       "3     0.090812  0.050259  0.178397  0.413192  0.007918  0.178243  \n",
       "4     0.056854  0.065430 -0.229410 -0.108723 -0.310660  0.101653  \n",
       "...        ...       ...       ...       ...       ...       ...  \n",
       "5625 -0.302509  0.301098 -0.029550 -0.004201 -0.102555  0.347819  \n",
       "5626 -0.049327 -0.225444  0.007027 -0.015298 -0.021170 -0.195806  \n",
       "5627  0.035503  0.087295 -0.110559  0.477561  0.021372 -0.012763  \n",
       "5628  0.223704 -0.262064  0.130933 -0.013803  0.062622 -0.026470  \n",
       "5629  0.052740  0.030210 -0.068824 -0.103791 -0.198772  0.044905  \n",
       "\n",
       "[5630 rows x 20 columns]"
      ]
     },
     "execution_count": 694,
     "metadata": {},
     "output_type": "execute_result"
    }
   ],
   "source": [
    "x"
   ]
  },
  {
   "cell_type": "code",
   "execution_count": 695,
   "id": "8f78d981",
   "metadata": {},
   "outputs": [
    {
     "data": {
      "text/plain": [
       "0       1\n",
       "1       1\n",
       "2       1\n",
       "3       1\n",
       "4       1\n",
       "       ..\n",
       "5625    0\n",
       "5626    0\n",
       "5627    0\n",
       "5628    0\n",
       "5629    0\n",
       "Name: Churn, Length: 5630, dtype: int64"
      ]
     },
     "execution_count": 695,
     "metadata": {},
     "output_type": "execute_result"
    }
   ],
   "source": [
    "y"
   ]
  },
  {
   "cell_type": "code",
   "execution_count": 696,
   "id": "7c6ea4f1",
   "metadata": {},
   "outputs": [
    {
     "data": {
      "text/html": [
       "<div>\n",
       "<style scoped>\n",
       "    .dataframe tbody tr th:only-of-type {\n",
       "        vertical-align: middle;\n",
       "    }\n",
       "\n",
       "    .dataframe tbody tr th {\n",
       "        vertical-align: top;\n",
       "    }\n",
       "\n",
       "    .dataframe thead th {\n",
       "        text-align: right;\n",
       "    }\n",
       "</style>\n",
       "<table border=\"1\" class=\"dataframe\">\n",
       "  <thead>\n",
       "    <tr style=\"text-align: right;\">\n",
       "      <th></th>\n",
       "      <th>0</th>\n",
       "      <th>1</th>\n",
       "      <th>2</th>\n",
       "      <th>3</th>\n",
       "      <th>4</th>\n",
       "      <th>5</th>\n",
       "      <th>6</th>\n",
       "      <th>7</th>\n",
       "      <th>8</th>\n",
       "      <th>9</th>\n",
       "      <th>10</th>\n",
       "      <th>11</th>\n",
       "      <th>12</th>\n",
       "      <th>13</th>\n",
       "      <th>14</th>\n",
       "      <th>15</th>\n",
       "      <th>16</th>\n",
       "      <th>17</th>\n",
       "      <th>18</th>\n",
       "      <th>19</th>\n",
       "    </tr>\n",
       "  </thead>\n",
       "  <tbody>\n",
       "    <tr>\n",
       "      <th>1863</th>\n",
       "      <td>1.130494</td>\n",
       "      <td>0.083493</td>\n",
       "      <td>-0.026231</td>\n",
       "      <td>1.158457</td>\n",
       "      <td>-0.068694</td>\n",
       "      <td>-0.845618</td>\n",
       "      <td>0.238812</td>\n",
       "      <td>-0.357315</td>\n",
       "      <td>-0.314199</td>\n",
       "      <td>-0.086173</td>\n",
       "      <td>-0.210249</td>\n",
       "      <td>0.529278</td>\n",
       "      <td>-0.072177</td>\n",
       "      <td>-0.062315</td>\n",
       "      <td>-0.270715</td>\n",
       "      <td>-0.028962</td>\n",
       "      <td>-0.379422</td>\n",
       "      <td>0.343786</td>\n",
       "      <td>0.156098</td>\n",
       "      <td>-0.170759</td>\n",
       "    </tr>\n",
       "    <tr>\n",
       "      <th>2097</th>\n",
       "      <td>0.641145</td>\n",
       "      <td>1.251519</td>\n",
       "      <td>-0.200323</td>\n",
       "      <td>-0.000489</td>\n",
       "      <td>-0.464926</td>\n",
       "      <td>0.481037</td>\n",
       "      <td>-0.098667</td>\n",
       "      <td>-0.395925</td>\n",
       "      <td>-0.234630</td>\n",
       "      <td>0.928166</td>\n",
       "      <td>0.287658</td>\n",
       "      <td>-0.396342</td>\n",
       "      <td>0.018762</td>\n",
       "      <td>-0.543590</td>\n",
       "      <td>0.025444</td>\n",
       "      <td>0.550585</td>\n",
       "      <td>-0.174370</td>\n",
       "      <td>0.094182</td>\n",
       "      <td>0.057867</td>\n",
       "      <td>0.216992</td>\n",
       "    </tr>\n",
       "    <tr>\n",
       "      <th>2961</th>\n",
       "      <td>-0.500370</td>\n",
       "      <td>-0.077150</td>\n",
       "      <td>0.945199</td>\n",
       "      <td>0.009011</td>\n",
       "      <td>-0.361754</td>\n",
       "      <td>1.214594</td>\n",
       "      <td>0.509870</td>\n",
       "      <td>0.803351</td>\n",
       "      <td>0.844008</td>\n",
       "      <td>-0.240200</td>\n",
       "      <td>0.275430</td>\n",
       "      <td>-0.288654</td>\n",
       "      <td>-0.541007</td>\n",
       "      <td>0.022655</td>\n",
       "      <td>-0.380428</td>\n",
       "      <td>0.342257</td>\n",
       "      <td>0.016302</td>\n",
       "      <td>-0.370265</td>\n",
       "      <td>0.153999</td>\n",
       "      <td>0.032044</td>\n",
       "    </tr>\n",
       "    <tr>\n",
       "      <th>855</th>\n",
       "      <td>0.516806</td>\n",
       "      <td>1.191205</td>\n",
       "      <td>1.211904</td>\n",
       "      <td>-0.069549</td>\n",
       "      <td>-0.426789</td>\n",
       "      <td>-0.491453</td>\n",
       "      <td>0.403798</td>\n",
       "      <td>-0.417776</td>\n",
       "      <td>-0.252898</td>\n",
       "      <td>-0.216866</td>\n",
       "      <td>-0.597650</td>\n",
       "      <td>-0.125503</td>\n",
       "      <td>0.108490</td>\n",
       "      <td>0.212585</td>\n",
       "      <td>0.296297</td>\n",
       "      <td>-0.236576</td>\n",
       "      <td>0.175535</td>\n",
       "      <td>-0.159732</td>\n",
       "      <td>-0.107332</td>\n",
       "      <td>0.091784</td>\n",
       "    </tr>\n",
       "    <tr>\n",
       "      <th>4750</th>\n",
       "      <td>-0.445718</td>\n",
       "      <td>-0.629119</td>\n",
       "      <td>-0.676000</td>\n",
       "      <td>-0.212657</td>\n",
       "      <td>0.719809</td>\n",
       "      <td>0.707024</td>\n",
       "      <td>-0.034849</td>\n",
       "      <td>-0.204773</td>\n",
       "      <td>-0.273564</td>\n",
       "      <td>-0.483154</td>\n",
       "      <td>-0.071530</td>\n",
       "      <td>-0.176641</td>\n",
       "      <td>-0.520931</td>\n",
       "      <td>-0.209598</td>\n",
       "      <td>0.061052</td>\n",
       "      <td>0.006580</td>\n",
       "      <td>-0.030705</td>\n",
       "      <td>-0.186122</td>\n",
       "      <td>0.104463</td>\n",
       "      <td>-0.320270</td>\n",
       "    </tr>\n",
       "  </tbody>\n",
       "</table>\n",
       "</div>"
      ],
      "text/plain": [
       "             0         1         2         3         4         5         6  \\\n",
       "1863  1.130494  0.083493 -0.026231  1.158457 -0.068694 -0.845618  0.238812   \n",
       "2097  0.641145  1.251519 -0.200323 -0.000489 -0.464926  0.481037 -0.098667   \n",
       "2961 -0.500370 -0.077150  0.945199  0.009011 -0.361754  1.214594  0.509870   \n",
       "855   0.516806  1.191205  1.211904 -0.069549 -0.426789 -0.491453  0.403798   \n",
       "4750 -0.445718 -0.629119 -0.676000 -0.212657  0.719809  0.707024 -0.034849   \n",
       "\n",
       "             7         8         9        10        11        12        13  \\\n",
       "1863 -0.357315 -0.314199 -0.086173 -0.210249  0.529278 -0.072177 -0.062315   \n",
       "2097 -0.395925 -0.234630  0.928166  0.287658 -0.396342  0.018762 -0.543590   \n",
       "2961  0.803351  0.844008 -0.240200  0.275430 -0.288654 -0.541007  0.022655   \n",
       "855  -0.417776 -0.252898 -0.216866 -0.597650 -0.125503  0.108490  0.212585   \n",
       "4750 -0.204773 -0.273564 -0.483154 -0.071530 -0.176641 -0.520931 -0.209598   \n",
       "\n",
       "            14        15        16        17        18        19  \n",
       "1863 -0.270715 -0.028962 -0.379422  0.343786  0.156098 -0.170759  \n",
       "2097  0.025444  0.550585 -0.174370  0.094182  0.057867  0.216992  \n",
       "2961 -0.380428  0.342257  0.016302 -0.370265  0.153999  0.032044  \n",
       "855   0.296297 -0.236576  0.175535 -0.159732 -0.107332  0.091784  \n",
       "4750  0.061052  0.006580 -0.030705 -0.186122  0.104463 -0.320270  "
      ]
     },
     "execution_count": 696,
     "metadata": {},
     "output_type": "execute_result"
    }
   ],
   "source": [
    "from sklearn.model_selection import train_test_split\n",
    "x_train,x_test,y_train,y_test=train_test_split(x,y,test_size=0.2)\n",
    "x_train.head()"
   ]
  },
  {
   "cell_type": "code",
   "execution_count": 697,
   "id": "30a26da3",
   "metadata": {},
   "outputs": [
    {
     "data": {
      "text/plain": [
       "(4504, 20)"
      ]
     },
     "execution_count": 697,
     "metadata": {},
     "output_type": "execute_result"
    }
   ],
   "source": [
    "x_train.shape"
   ]
  },
  {
   "cell_type": "code",
   "execution_count": 698,
   "id": "62386735",
   "metadata": {},
   "outputs": [
    {
     "data": {
      "text/plain": [
       "1863    0\n",
       "2097    1\n",
       "2961    1\n",
       "855     1\n",
       "4750    0\n",
       "       ..\n",
       "5127    0\n",
       "4360    0\n",
       "2667    0\n",
       "1360    0\n",
       "2107    1\n",
       "Name: Churn, Length: 4504, dtype: int64"
      ]
     },
     "execution_count": 698,
     "metadata": {},
     "output_type": "execute_result"
    }
   ],
   "source": [
    "y_train"
   ]
  },
  {
   "cell_type": "markdown",
   "id": "02a85bf2",
   "metadata": {},
   "source": [
    "### Logistic Regression"
   ]
  },
  {
   "cell_type": "code",
   "execution_count": 699,
   "id": "b36eb27a",
   "metadata": {},
   "outputs": [],
   "source": [
    "from sklearn.linear_model import LogisticRegression\n",
    "from sklearn import metrics"
   ]
  },
  {
   "cell_type": "code",
   "execution_count": 700,
   "id": "9867ce01",
   "metadata": {
    "scrolled": true
   },
   "outputs": [
    {
     "data": {
      "text/plain": [
       "LogisticRegression()"
      ]
     },
     "execution_count": 700,
     "metadata": {},
     "output_type": "execute_result"
    }
   ],
   "source": [
    "logreg = LogisticRegression()\n",
    "logreg.fit(x_train,y_train)"
   ]
  },
  {
   "cell_type": "code",
   "execution_count": 701,
   "id": "da7b3959",
   "metadata": {},
   "outputs": [
    {
     "name": "stdout",
     "output_type": "stream",
     "text": [
      "Accuracy of logistic regression classifier on test set: 0.86\n"
     ]
    }
   ],
   "source": [
    "y_pred = logreg.predict(x_test) \n",
    "print('Accuracy of logistic regression classifier on test set: {:.2f}'.format(logreg.score(x_test, y_test)))"
   ]
  },
  {
   "cell_type": "code",
   "execution_count": 702,
   "id": "6fa873b0",
   "metadata": {},
   "outputs": [
    {
     "name": "stdout",
     "output_type": "stream",
     "text": [
      "[[900  27]\n",
      " [129  70]]\n"
     ]
    }
   ],
   "source": [
    "from sklearn.metrics import confusion_matrix\n",
    "cgm = confusion_matrix(y_test, y_pred)\n",
    "print(cgm)"
   ]
  },
  {
   "cell_type": "code",
   "execution_count": 703,
   "id": "f87e6963",
   "metadata": {},
   "outputs": [
    {
     "name": "stdout",
     "output_type": "stream",
     "text": [
      "              precision    recall  f1-score   support\n",
      "\n",
      "           0       0.87      0.97      0.92       927\n",
      "           1       0.72      0.35      0.47       199\n",
      "\n",
      "    accuracy                           0.86      1126\n",
      "   macro avg       0.80      0.66      0.70      1126\n",
      "weighted avg       0.85      0.86      0.84      1126\n",
      "\n"
     ]
    }
   ],
   "source": [
    "from sklearn.metrics import classification_report\n",
    "print(classification_report(y_test, y_pred))"
   ]
  },
  {
   "cell_type": "code",
   "execution_count": 755,
   "id": "c9ce5e7f",
   "metadata": {},
   "outputs": [
    {
     "data": {
      "image/png": "[encoded data removed]",
      "text/plain": [
       "<Figure size 432x288 with 1 Axes>"
      ]
     },
     "metadata": {
      "needs_background": "light"
     },
     "output_type": "display_data"
    }
   ],
   "source": [
    "from sklearn.metrics import roc_auc_score\n",
    "from sklearn.metrics import roc_curve\n",
    "logit_roc_auc = roc_auc_score(y_test, logreg.predict(x_test))\n",
    "fpr, tpr, thresholds = roc_curve(y_test, logreg.predict_proba(x_test)[:,1])\n",
    "plt.figure()\n",
    "plt.plot(fpr, tpr, label='Logistic Regression (accuracy = %0.2f)' % logit_roc_auc)\n",
    "plt.plot([0, 1], [0, 1],'r--')\n",
    "plt.xlim([0.0, 1.0])\n",
    "plt.ylim([0.0, 1.05])\n",
    "plt.xlabel('False Positive Rate')\n",
    "plt.ylabel('True Positive Rate')\n",
    "plt.title('Receiver operating characteristic')\n",
    "plt.legend(loc=\"lower right\")\n",
    "plt.savefig('Log_ROC')\n",
    "plt.show()"
   ]
  },
  {
   "cell_type": "markdown",
   "id": "c05a6eea",
   "metadata": {},
   "source": [
    "### Random Forest Classifier"
   ]
  },
  {
   "cell_type": "code",
   "execution_count": 705,
   "id": "791d5adf",
   "metadata": {},
   "outputs": [],
   "source": [
    "from sklearn.ensemble import RandomForestClassifier"
   ]
  },
  {
   "cell_type": "code",
   "execution_count": 706,
   "id": "3f74f6f8",
   "metadata": {},
   "outputs": [
    {
     "data": {
      "text/plain": [
       "RandomForestClassifier()"
      ]
     },
     "execution_count": 706,
     "metadata": {},
     "output_type": "execute_result"
    }
   ],
   "source": [
    "Ranfor= RandomForestClassifier()\n",
    "Ranfor.fit(x_train,y_train)"
   ]
  },
  {
   "cell_type": "code",
   "execution_count": 707,
   "id": "34ed13c1",
   "metadata": {},
   "outputs": [
    {
     "name": "stdout",
     "output_type": "stream",
     "text": [
      "Accuracy of Random Forest Classifier on test set: 0.93\n"
     ]
    }
   ],
   "source": [
    "y_ranfor= Ranfor.predict(x_test)\n",
    "print('Accuracy of Random Forest Classifier on test set: {:.2f}'.format(Ranfor.score(x_test, y_test)))"
   ]
  },
  {
   "cell_type": "code",
   "execution_count": 708,
   "id": "da814ff1",
   "metadata": {},
   "outputs": [
    {
     "name": "stdout",
     "output_type": "stream",
     "text": [
      "[[918   9]\n",
      " [ 69 130]]\n"
     ]
    }
   ],
   "source": [
    "cfm = confusion_matrix(y_test,y_ranfor)\n",
    "print(cfm)"
   ]
  },
  {
   "cell_type": "code",
   "execution_count": 709,
   "id": "326dc26e",
   "metadata": {},
   "outputs": [
    {
     "name": "stdout",
     "output_type": "stream",
     "text": [
      "              precision    recall  f1-score   support\n",
      "\n",
      "           0       0.93      0.99      0.96       927\n",
      "           1       0.94      0.65      0.77       199\n",
      "\n",
      "    accuracy                           0.93      1126\n",
      "   macro avg       0.93      0.82      0.86      1126\n",
      "weighted avg       0.93      0.93      0.93      1126\n",
      "\n"
     ]
    }
   ],
   "source": [
    "from sklearn.metrics import classification_report\n",
    "print(classification_report(y_test, y_ranfor))"
   ]
  },
  {
   "cell_type": "code",
   "execution_count": 753,
   "id": "9b3be3ea",
   "metadata": {},
   "outputs": [
    {
     "data": {
      "image/png": "[encoded data removed]",
      "text/plain": [
       "<Figure size 432x288 with 1 Axes>"
      ]
     },
     "metadata": {
      "needs_background": "light"
     },
     "output_type": "display_data"
    }
   ],
   "source": [
    "from sklearn.metrics import roc_auc_score\n",
    "from sklearn.metrics import roc_curve\n",
    "rf_roc_auc = roc_auc_score(y_test, Ranfor.predict(x_test))\n",
    "fpr, tpr, thresholds = roc_curve(y_test, Ranfor.predict_proba(x_test)[:,1])\n",
    "plt.figure()\n",
    "plt.plot(fpr, tpr, label='Random Forest (area = %0.2f)' % rf_roc_auc)\n",
    "plt.plot([0, 1], [0, 1],'r--')\n",
    "plt.xlim([0.0, 1.0])\n",
    "plt.ylim([0.0, 1.05])\n",
    "plt.xlabel('False Positive Rate')\n",
    "plt.ylabel('True Positive Rate')\n",
    "plt.title('Receiver operating characteristic')\n",
    "plt.legend(loc=\"lower right\")\n",
    "plt.savefig('Log_ROC')\n",
    "plt.show()"
   ]
  },
  {
   "cell_type": "markdown",
   "id": "db869877",
   "metadata": {},
   "source": [
    "### Support Vector Machines"
   ]
  },
  {
   "cell_type": "code",
   "execution_count": 711,
   "id": "ab9d171b",
   "metadata": {},
   "outputs": [],
   "source": [
    "from sklearn.svm import SVC\n",
    "from sklearn import metrics\n",
    "from sklearn import svm"
   ]
  },
  {
   "cell_type": "code",
   "execution_count": 749,
   "id": "251463eb",
   "metadata": {},
   "outputs": [],
   "source": [
    "import matplotlib.pyplot as plt\n",
    "from sklearn.svm import SVC\n",
    "from sklearn.ensemble import RandomForestClassifier\n",
    "from sklearn.metrics import RocCurveDisplay\n",
    "from sklearn.datasets import load_wine\n",
    "from sklearn.model_selection import train_test_split"
   ]
  },
  {
   "cell_type": "code",
   "execution_count": 750,
   "id": "e00f0b1a",
   "metadata": {},
   "outputs": [],
   "source": [
    "from sklearn.metrics import roc_curve, auc, roc_auc_score"
   ]
  },
  {
   "cell_type": "code",
   "execution_count": 712,
   "id": "af2dc273",
   "metadata": {},
   "outputs": [
    {
     "data": {
      "text/plain": [
       "SVC(kernel='linear')"
      ]
     },
     "execution_count": 712,
     "metadata": {},
     "output_type": "execute_result"
    }
   ],
   "source": [
    "alg= SVC(kernel='linear')\n",
    "alg.fit(x_train, y_train)"
   ]
  },
  {
   "cell_type": "code",
   "execution_count": 713,
   "id": "1f1cd24c",
   "metadata": {},
   "outputs": [
    {
     "data": {
      "text/html": [
       "<div>\n",
       "<style scoped>\n",
       "    .dataframe tbody tr th:only-of-type {\n",
       "        vertical-align: middle;\n",
       "    }\n",
       "\n",
       "    .dataframe tbody tr th {\n",
       "        vertical-align: top;\n",
       "    }\n",
       "\n",
       "    .dataframe thead th {\n",
       "        text-align: right;\n",
       "    }\n",
       "</style>\n",
       "<table border=\"1\" class=\"dataframe\">\n",
       "  <thead>\n",
       "    <tr style=\"text-align: right;\">\n",
       "      <th></th>\n",
       "      <th>0</th>\n",
       "      <th>1</th>\n",
       "      <th>2</th>\n",
       "      <th>3</th>\n",
       "      <th>4</th>\n",
       "      <th>5</th>\n",
       "      <th>6</th>\n",
       "      <th>7</th>\n",
       "      <th>8</th>\n",
       "      <th>9</th>\n",
       "      <th>10</th>\n",
       "      <th>11</th>\n",
       "      <th>12</th>\n",
       "      <th>13</th>\n",
       "      <th>14</th>\n",
       "      <th>15</th>\n",
       "      <th>16</th>\n",
       "      <th>17</th>\n",
       "      <th>18</th>\n",
       "      <th>19</th>\n",
       "    </tr>\n",
       "  </thead>\n",
       "  <tbody>\n",
       "    <tr>\n",
       "      <th>1863</th>\n",
       "      <td>1.130494</td>\n",
       "      <td>0.083493</td>\n",
       "      <td>-0.026231</td>\n",
       "      <td>1.158457</td>\n",
       "      <td>-0.068694</td>\n",
       "      <td>-0.845618</td>\n",
       "      <td>0.238812</td>\n",
       "      <td>-0.357315</td>\n",
       "      <td>-0.314199</td>\n",
       "      <td>-0.086173</td>\n",
       "      <td>-0.210249</td>\n",
       "      <td>0.529278</td>\n",
       "      <td>-0.072177</td>\n",
       "      <td>-0.062315</td>\n",
       "      <td>-0.270715</td>\n",
       "      <td>-0.028962</td>\n",
       "      <td>-0.379422</td>\n",
       "      <td>0.343786</td>\n",
       "      <td>0.156098</td>\n",
       "      <td>-0.170759</td>\n",
       "    </tr>\n",
       "    <tr>\n",
       "      <th>2097</th>\n",
       "      <td>0.641145</td>\n",
       "      <td>1.251519</td>\n",
       "      <td>-0.200323</td>\n",
       "      <td>-0.000489</td>\n",
       "      <td>-0.464926</td>\n",
       "      <td>0.481037</td>\n",
       "      <td>-0.098667</td>\n",
       "      <td>-0.395925</td>\n",
       "      <td>-0.234630</td>\n",
       "      <td>0.928166</td>\n",
       "      <td>0.287658</td>\n",
       "      <td>-0.396342</td>\n",
       "      <td>0.018762</td>\n",
       "      <td>-0.543590</td>\n",
       "      <td>0.025444</td>\n",
       "      <td>0.550585</td>\n",
       "      <td>-0.174370</td>\n",
       "      <td>0.094182</td>\n",
       "      <td>0.057867</td>\n",
       "      <td>0.216992</td>\n",
       "    </tr>\n",
       "    <tr>\n",
       "      <th>2961</th>\n",
       "      <td>-0.500370</td>\n",
       "      <td>-0.077150</td>\n",
       "      <td>0.945199</td>\n",
       "      <td>0.009011</td>\n",
       "      <td>-0.361754</td>\n",
       "      <td>1.214594</td>\n",
       "      <td>0.509870</td>\n",
       "      <td>0.803351</td>\n",
       "      <td>0.844008</td>\n",
       "      <td>-0.240200</td>\n",
       "      <td>0.275430</td>\n",
       "      <td>-0.288654</td>\n",
       "      <td>-0.541007</td>\n",
       "      <td>0.022655</td>\n",
       "      <td>-0.380428</td>\n",
       "      <td>0.342257</td>\n",
       "      <td>0.016302</td>\n",
       "      <td>-0.370265</td>\n",
       "      <td>0.153999</td>\n",
       "      <td>0.032044</td>\n",
       "    </tr>\n",
       "    <tr>\n",
       "      <th>855</th>\n",
       "      <td>0.516806</td>\n",
       "      <td>1.191205</td>\n",
       "      <td>1.211904</td>\n",
       "      <td>-0.069549</td>\n",
       "      <td>-0.426789</td>\n",
       "      <td>-0.491453</td>\n",
       "      <td>0.403798</td>\n",
       "      <td>-0.417776</td>\n",
       "      <td>-0.252898</td>\n",
       "      <td>-0.216866</td>\n",
       "      <td>-0.597650</td>\n",
       "      <td>-0.125503</td>\n",
       "      <td>0.108490</td>\n",
       "      <td>0.212585</td>\n",
       "      <td>0.296297</td>\n",
       "      <td>-0.236576</td>\n",
       "      <td>0.175535</td>\n",
       "      <td>-0.159732</td>\n",
       "      <td>-0.107332</td>\n",
       "      <td>0.091784</td>\n",
       "    </tr>\n",
       "    <tr>\n",
       "      <th>4750</th>\n",
       "      <td>-0.445718</td>\n",
       "      <td>-0.629119</td>\n",
       "      <td>-0.676000</td>\n",
       "      <td>-0.212657</td>\n",
       "      <td>0.719809</td>\n",
       "      <td>0.707024</td>\n",
       "      <td>-0.034849</td>\n",
       "      <td>-0.204773</td>\n",
       "      <td>-0.273564</td>\n",
       "      <td>-0.483154</td>\n",
       "      <td>-0.071530</td>\n",
       "      <td>-0.176641</td>\n",
       "      <td>-0.520931</td>\n",
       "      <td>-0.209598</td>\n",
       "      <td>0.061052</td>\n",
       "      <td>0.006580</td>\n",
       "      <td>-0.030705</td>\n",
       "      <td>-0.186122</td>\n",
       "      <td>0.104463</td>\n",
       "      <td>-0.320270</td>\n",
       "    </tr>\n",
       "  </tbody>\n",
       "</table>\n",
       "</div>"
      ],
      "text/plain": [
       "             0         1         2         3         4         5         6  \\\n",
       "1863  1.130494  0.083493 -0.026231  1.158457 -0.068694 -0.845618  0.238812   \n",
       "2097  0.641145  1.251519 -0.200323 -0.000489 -0.464926  0.481037 -0.098667   \n",
       "2961 -0.500370 -0.077150  0.945199  0.009011 -0.361754  1.214594  0.509870   \n",
       "855   0.516806  1.191205  1.211904 -0.069549 -0.426789 -0.491453  0.403798   \n",
       "4750 -0.445718 -0.629119 -0.676000 -0.212657  0.719809  0.707024 -0.034849   \n",
       "\n",
       "             7         8         9        10        11        12        13  \\\n",
       "1863 -0.357315 -0.314199 -0.086173 -0.210249  0.529278 -0.072177 -0.062315   \n",
       "2097 -0.395925 -0.234630  0.928166  0.287658 -0.396342  0.018762 -0.543590   \n",
       "2961  0.803351  0.844008 -0.240200  0.275430 -0.288654 -0.541007  0.022655   \n",
       "855  -0.417776 -0.252898 -0.216866 -0.597650 -0.125503  0.108490  0.212585   \n",
       "4750 -0.204773 -0.273564 -0.483154 -0.071530 -0.176641 -0.520931 -0.209598   \n",
       "\n",
       "            14        15        16        17        18        19  \n",
       "1863 -0.270715 -0.028962 -0.379422  0.343786  0.156098 -0.170759  \n",
       "2097  0.025444  0.550585 -0.174370  0.094182  0.057867  0.216992  \n",
       "2961 -0.380428  0.342257  0.016302 -0.370265  0.153999  0.032044  \n",
       "855   0.296297 -0.236576  0.175535 -0.159732 -0.107332  0.091784  \n",
       "4750  0.061052  0.006580 -0.030705 -0.186122  0.104463 -0.320270  "
      ]
     },
     "execution_count": 713,
     "metadata": {},
     "output_type": "execute_result"
    }
   ],
   "source": [
    "x_train.head()"
   ]
  },
  {
   "cell_type": "code",
   "execution_count": 742,
   "id": "83e7a69d",
   "metadata": {},
   "outputs": [
    {
     "data": {
      "text/plain": [
       "array([[1544,   39],\n",
       "       [ 171,  122]])"
      ]
     },
     "execution_count": 742,
     "metadata": {},
     "output_type": "execute_result"
    }
   ],
   "source": [
    "m= confusion_matrix(y_test,y_svm)\n",
    "m"
   ]
  },
  {
   "cell_type": "code",
   "execution_count": 743,
   "id": "b541d2e4",
   "metadata": {},
   "outputs": [
    {
     "name": "stdout",
     "output_type": "stream",
     "text": [
      "\n",
      "Accuracy Of SVM :  0.8880597014925373\n"
     ]
    }
   ],
   "source": [
    "accuracy = float(m.diagonal().sum())/len(y_test)\n",
    "print(\"\\nAccuracy Of SVM : \", accuracy)"
   ]
  },
  {
   "cell_type": "code",
   "execution_count": null,
   "id": "7de6936a",
   "metadata": {},
   "outputs": [],
   "source": []
  },
  {
   "cell_type": "code",
   "execution_count": null,
   "id": "5dd8099d",
   "metadata": {},
   "outputs": [],
   "source": []
  },
  {
   "cell_type": "code",
   "execution_count": 744,
   "id": "6038aa13",
   "metadata": {},
   "outputs": [
    {
     "name": "stdout",
     "output_type": "stream",
     "text": [
      "              precision    recall  f1-score   support\n",
      "\n",
      "           0       0.90      0.98      0.94      1583\n",
      "           1       0.76      0.42      0.54       293\n",
      "\n",
      "    accuracy                           0.89      1876\n",
      "   macro avg       0.83      0.70      0.74      1876\n",
      "weighted avg       0.88      0.89      0.87      1876\n",
      "\n"
     ]
    }
   ],
   "source": [
    "from sklearn.metrics import classification_report\n",
    "print(classification_report(y_test, y_svm))"
   ]
  },
  {
   "cell_type": "code",
   "execution_count": 717,
   "id": "5999ced8",
   "metadata": {},
   "outputs": [
    {
     "data": {
      "text/plain": [
       "SVC(probability=True)"
      ]
     },
     "execution_count": 717,
     "metadata": {},
     "output_type": "execute_result"
    }
   ],
   "source": [
    "clf=svm.SVC(probability=True)\n",
    "clf"
   ]
  },
  {
   "cell_type": "code",
   "execution_count": 752,
   "id": "30631dd1",
   "metadata": {},
   "outputs": [
    {
     "data": {
      "image/png": "[encoded data removed]",
      "text/plain": [
       "<Figure size 432x288 with 1 Axes>"
      ]
     },
     "metadata": {
      "needs_background": "light"
     },
     "output_type": "display_data"
    }
   ],
   "source": [
    "from sklearn.metrics import roc_auc_score\n",
    "from sklearn.metrics import roc_curve\n",
    "VM_roc = roc_auc_score(y_test, VM.predict(x_test))\n",
    "fpr, tpr, thresholds = roc_curve(y_test, VM.predict_proba(x_test)[:,1])\n",
    "plt.figure()\n",
    "plt.plot(fpr, tpr, label='SVM (area = %0.2f)' % VM_roc)\n",
    "plt.plot([0, 1], [0, 1],'r--')\n",
    "plt.xlim([0.0, 1.0])\n",
    "plt.ylim([0.0, 1.05])\n",
    "plt.xlabel('False Positive Rate')\n",
    "plt.ylabel('True Positive Rate')\n",
    "plt.title('Receiver operating characteristic')\n",
    "plt.legend(loc=\"lower right\")\n",
    "plt.savefig('Log_ROC')\n",
    "plt.show()"
   ]
  },
  {
   "cell_type": "code",
   "execution_count": 751,
   "id": "b5648352",
   "metadata": {},
   "outputs": [
    {
     "name": "stdout",
     "output_type": "stream",
     "text": [
      "SVM Accuracy Score ->  0.8880597014925373\n",
      "SVM Area under curve ->  0.8483740424605288\n"
     ]
    }
   ],
   "source": [
    "VM = svm.SVC(C=1.0, kernel='linear', degree=3, gamma='auto',probability=True)\n",
    "VM.fit(x_train,y_train)\n",
    "\n",
    "predictions_VM = VM.predict(x_test)\n",
    "y\n",
    "print(\"SVM Accuracy Score -> \",accuracy_score(predictions_VM, y_test))\n",
    "\n",
    "probs = VM.predict_proba(x_test)\n",
    "preds = probs[:,1]\n",
    "fpr, tpr, threshold = roc_curve(y_test, preds)\n",
    "print(\"SVM Area under curve -> \",auc(fpr, tpr))"
   ]
  },
  {
   "cell_type": "code",
   "execution_count": null,
   "id": "899526c1",
   "metadata": {},
   "outputs": [],
   "source": []
  },
  {
   "cell_type": "code",
   "execution_count": 720,
   "id": "ef2d71d6",
   "metadata": {},
   "outputs": [],
   "source": []
  },
  {
   "cell_type": "code",
   "execution_count": null,
   "id": "4b9cdca6",
   "metadata": {},
   "outputs": [],
   "source": []
  },
  {
   "cell_type": "markdown",
   "id": "31efd20c",
   "metadata": {},
   "source": [
    "### XGBoost"
   ]
  },
  {
   "cell_type": "code",
   "execution_count": 722,
   "id": "d9ae5673",
   "metadata": {},
   "outputs": [
    {
     "name": "stdout",
     "output_type": "stream",
     "text": [
      "Requirement already satisfied: xgboost in ./opt/anaconda3/lib/python3.9/site-packages (1.6.1)\n",
      "Requirement already satisfied: scipy in ./opt/anaconda3/lib/python3.9/site-packages (from xgboost) (1.7.3)\n",
      "Requirement already satisfied: numpy in ./opt/anaconda3/lib/python3.9/site-packages (from xgboost) (1.21.5)\n",
      "Note: you may need to restart the kernel to use updated packages.\n"
     ]
    }
   ],
   "source": [
    "pip install xgboost"
   ]
  },
  {
   "cell_type": "code",
   "execution_count": 723,
   "id": "2d8c8e0f",
   "metadata": {},
   "outputs": [],
   "source": [
    "from xgboost import XGBClassifier\n",
    "from sklearn.metrics import accuracy_score"
   ]
  },
  {
   "cell_type": "code",
   "execution_count": 724,
   "id": "947c2053",
   "metadata": {},
   "outputs": [
    {
     "name": "stdout",
     "output_type": "stream",
     "text": [
      "[0]\tvalidation_0-logloss:0.54504\n",
      "[1]\tvalidation_0-logloss:0.46169\n",
      "[2]\tvalidation_0-logloss:0.40738\n",
      "[3]\tvalidation_0-logloss:0.36733\n",
      "[4]\tvalidation_0-logloss:0.34221\n",
      "[5]\tvalidation_0-logloss:0.31501\n",
      "[6]\tvalidation_0-logloss:0.29968\n",
      "[7]\tvalidation_0-logloss:0.28599\n",
      "[8]\tvalidation_0-logloss:0.27594\n",
      "[9]\tvalidation_0-logloss:0.26291\n",
      "[10]\tvalidation_0-logloss:0.25486\n",
      "[11]\tvalidation_0-logloss:0.24892\n",
      "[12]\tvalidation_0-logloss:0.23823\n",
      "[13]\tvalidation_0-logloss:0.23154\n"
     ]
    },
    {
     "name": "stderr",
     "output_type": "stream",
     "text": [
      "/Users/sahilpunjabi/opt/anaconda3/lib/python3.9/site-packages/xgboost/sklearn.py:793: UserWarning: `eval_metric` in `fit` method is deprecated for better compatibility with scikit-learn, use `eval_metric` in constructor or`set_params` instead.\n",
      "  warnings.warn(\n",
      "/Users/sahilpunjabi/opt/anaconda3/lib/python3.9/site-packages/xgboost/sklearn.py:793: UserWarning: `early_stopping_rounds` in `fit` method is deprecated for better compatibility with scikit-learn, use `early_stopping_rounds` in constructor or`set_params` instead.\n",
      "  warnings.warn(\n"
     ]
    },
    {
     "name": "stdout",
     "output_type": "stream",
     "text": [
      "[14]\tvalidation_0-logloss:0.22301\n",
      "[15]\tvalidation_0-logloss:0.21563\n",
      "[16]\tvalidation_0-logloss:0.21293\n",
      "[17]\tvalidation_0-logloss:0.21217\n",
      "[18]\tvalidation_0-logloss:0.20553\n",
      "[19]\tvalidation_0-logloss:0.20089\n",
      "[20]\tvalidation_0-logloss:0.19899\n",
      "[21]\tvalidation_0-logloss:0.19573\n",
      "[22]\tvalidation_0-logloss:0.19360\n",
      "[23]\tvalidation_0-logloss:0.19042\n",
      "[24]\tvalidation_0-logloss:0.18749\n",
      "[25]\tvalidation_0-logloss:0.18509\n",
      "[26]\tvalidation_0-logloss:0.18102\n",
      "[27]\tvalidation_0-logloss:0.17944\n",
      "[28]\tvalidation_0-logloss:0.17578\n",
      "[29]\tvalidation_0-logloss:0.17281\n",
      "[30]\tvalidation_0-logloss:0.16951\n",
      "[31]\tvalidation_0-logloss:0.16565\n",
      "[32]\tvalidation_0-logloss:0.16455\n",
      "[33]\tvalidation_0-logloss:0.16230\n",
      "[34]\tvalidation_0-logloss:0.16203\n",
      "[35]\tvalidation_0-logloss:0.15922\n",
      "[36]\tvalidation_0-logloss:0.15569\n",
      "[37]\tvalidation_0-logloss:0.15467\n",
      "[38]\tvalidation_0-logloss:0.15435\n",
      "[39]\tvalidation_0-logloss:0.15355\n",
      "[40]\tvalidation_0-logloss:0.15306\n",
      "[41]\tvalidation_0-logloss:0.15223\n",
      "[42]\tvalidation_0-logloss:0.15058\n",
      "[43]\tvalidation_0-logloss:0.15021\n",
      "[44]\tvalidation_0-logloss:0.14860\n",
      "[45]\tvalidation_0-logloss:0.14844\n",
      "[46]\tvalidation_0-logloss:0.14775\n",
      "[47]\tvalidation_0-logloss:0.14770\n",
      "[48]\tvalidation_0-logloss:0.14605\n",
      "[49]\tvalidation_0-logloss:0.14457\n",
      "[50]\tvalidation_0-logloss:0.14295\n",
      "[51]\tvalidation_0-logloss:0.14195\n",
      "[52]\tvalidation_0-logloss:0.14069\n",
      "[53]\tvalidation_0-logloss:0.14017\n",
      "[54]\tvalidation_0-logloss:0.13896\n",
      "[55]\tvalidation_0-logloss:0.13824\n",
      "[56]\tvalidation_0-logloss:0.13690\n",
      "[57]\tvalidation_0-logloss:0.13536\n",
      "[58]\tvalidation_0-logloss:0.13591\n",
      "[59]\tvalidation_0-logloss:0.13565\n",
      "[60]\tvalidation_0-logloss:0.13426\n",
      "[61]\tvalidation_0-logloss:0.13379\n",
      "[62]\tvalidation_0-logloss:0.13283\n",
      "[63]\tvalidation_0-logloss:0.13210\n",
      "[64]\tvalidation_0-logloss:0.13147\n",
      "[65]\tvalidation_0-logloss:0.13141\n",
      "[66]\tvalidation_0-logloss:0.13133\n",
      "[67]\tvalidation_0-logloss:0.13152\n",
      "[68]\tvalidation_0-logloss:0.13160\n",
      "[69]\tvalidation_0-logloss:0.13019\n",
      "[70]\tvalidation_0-logloss:0.12955\n",
      "[71]\tvalidation_0-logloss:0.12892\n",
      "[72]\tvalidation_0-logloss:0.12773\n",
      "[73]\tvalidation_0-logloss:0.12745\n",
      "[74]\tvalidation_0-logloss:0.12735\n",
      "[75]\tvalidation_0-logloss:0.12726\n",
      "[76]\tvalidation_0-logloss:0.12672\n",
      "[77]\tvalidation_0-logloss:0.12640\n",
      "[78]\tvalidation_0-logloss:0.12561\n",
      "[79]\tvalidation_0-logloss:0.12494\n",
      "[80]\tvalidation_0-logloss:0.12430\n",
      "[81]\tvalidation_0-logloss:0.12426\n",
      "[82]\tvalidation_0-logloss:0.12444\n",
      "[83]\tvalidation_0-logloss:0.12373\n",
      "[84]\tvalidation_0-logloss:0.12381\n",
      "[85]\tvalidation_0-logloss:0.12328\n",
      "[86]\tvalidation_0-logloss:0.12366\n",
      "[87]\tvalidation_0-logloss:0.12294\n",
      "[88]\tvalidation_0-logloss:0.12264\n",
      "[89]\tvalidation_0-logloss:0.12226\n",
      "[90]\tvalidation_0-logloss:0.12245\n",
      "[91]\tvalidation_0-logloss:0.12218\n",
      "[92]\tvalidation_0-logloss:0.12203\n",
      "[93]\tvalidation_0-logloss:0.12159\n",
      "[94]\tvalidation_0-logloss:0.12172\n",
      "[95]\tvalidation_0-logloss:0.12140\n",
      "[96]\tvalidation_0-logloss:0.12129\n",
      "[97]\tvalidation_0-logloss:0.12052\n",
      "[98]\tvalidation_0-logloss:0.11982\n",
      "[99]\tvalidation_0-logloss:0.11933\n"
     ]
    },
    {
     "data": {
      "text/plain": [
       "XGBClassifier(base_score=0.5, booster='gbtree', callbacks=None,\n",
       "              colsample_bylevel=1, colsample_bynode=1, colsample_bytree=1,\n",
       "              early_stopping_rounds=None, enable_categorical=False,\n",
       "              eval_metric=None, gamma=0, gpu_id=-1, grow_policy='depthwise',\n",
       "              importance_type=None, interaction_constraints='',\n",
       "              learning_rate=0.300000012, max_bin=256, max_cat_to_onehot=4,\n",
       "              max_delta_step=0, max_depth=6, max_leaves=0, min_child_weight=1,\n",
       "              missing=nan, monotone_constraints='()', n_estimators=100,\n",
       "              n_jobs=0, num_parallel_tree=1, predictor='auto', random_state=0,\n",
       "              reg_alpha=0, reg_lambda=1, ...)"
      ]
     },
     "execution_count": 724,
     "metadata": {},
     "output_type": "execute_result"
    }
   ],
   "source": [
    "model= XGBClassifier()\n",
    "eval_set=[(x_test,y_test)]\n",
    "model.fit(x_train,y_train,early_stopping_rounds=10,eval_metric=\"logloss\",eval_set=eval_set,verbose=True)"
   ]
  },
  {
   "cell_type": "code",
   "execution_count": 725,
   "id": "c696b451",
   "metadata": {},
   "outputs": [],
   "source": [
    "predictions = model.predict(x_test)"
   ]
  },
  {
   "cell_type": "code",
   "execution_count": 726,
   "id": "af6d074e",
   "metadata": {},
   "outputs": [
    {
     "name": "stdout",
     "output_type": "stream",
     "text": [
      "Accuracy: 95.38%\n"
     ]
    }
   ],
   "source": [
    "accuracy=accuracy_score(y_test,predictions)\n",
    "print(\"Accuracy: %.2f%%\" % (accuracy * 100.0))"
   ]
  },
  {
   "cell_type": "code",
   "execution_count": 727,
   "id": "b39c1def",
   "metadata": {},
   "outputs": [
    {
     "data": {
      "text/plain": [
       "array([[921,   6],\n",
       "       [ 46, 153]])"
      ]
     },
     "execution_count": 727,
     "metadata": {},
     "output_type": "execute_result"
    }
   ],
   "source": [
    "confusion_matrix(y_test,predictions)"
   ]
  },
  {
   "cell_type": "code",
   "execution_count": 728,
   "id": "65868548",
   "metadata": {},
   "outputs": [
    {
     "name": "stdout",
     "output_type": "stream",
     "text": [
      "              precision    recall  f1-score   support\n",
      "\n",
      "           0       0.95      0.99      0.97       927\n",
      "           1       0.96      0.77      0.85       199\n",
      "\n",
      "    accuracy                           0.95      1126\n",
      "   macro avg       0.96      0.88      0.91      1126\n",
      "weighted avg       0.95      0.95      0.95      1126\n",
      "\n"
     ]
    }
   ],
   "source": [
    "from sklearn.metrics import classification_report\n",
    "print(classification_report(y_test, predictions))"
   ]
  },
  {
   "cell_type": "code",
   "execution_count": 756,
   "id": "cca95d28",
   "metadata": {},
   "outputs": [
    {
     "data": {
      "image/png": "[encoded data removed]",
      "text/plain": [
       "<Figure size 432x288 with 1 Axes>"
      ]
     },
     "metadata": {
      "needs_background": "light"
     },
     "output_type": "display_data"
    }
   ],
   "source": [
    "from sklearn.metrics import roc_auc_score\n",
    "from sklearn.metrics import roc_curve\n",
    "xg_roc_auc = roc_auc_score(y_test, model.predict(x_test))\n",
    "fpr, tpr, thresholds = roc_curve(y_test, model.predict_proba(x_test)[:,1])\n",
    "plt.figure()\n",
    "plt.plot(fpr, tpr, label='XGBoost (area = %0.2f)' % xg_roc_auc)\n",
    "plt.plot([0, 1], [0, 1],'r--')\n",
    "plt.xlim([0.0, 1.0])\n",
    "plt.ylim([0.0, 1.05])\n",
    "plt.xlabel('False Positive Rate')\n",
    "plt.ylabel('True Positive Rate')\n",
    "plt.title('Receiver operating characteristic')\n",
    "plt.legend(loc=\"lower right\")\n",
    "plt.savefig('Log_ROC')\n",
    "plt.show()"
   ]
  },
  {
   "cell_type": "markdown",
   "id": "1d231f99",
   "metadata": {},
   "source": [
    " ### Cross Validation"
   ]
  },
  {
   "cell_type": "code",
   "execution_count": 730,
   "id": "2e2ebe72",
   "metadata": {},
   "outputs": [],
   "source": [
    "from sklearn.model_selection import KFold"
   ]
  },
  {
   "cell_type": "code",
   "execution_count": 731,
   "id": "a2b04d05",
   "metadata": {},
   "outputs": [],
   "source": [
    "from sklearn.model_selection import StratifiedKFold\n",
    "folds = StratifiedKFold(n_splits=3)"
   ]
  },
  {
   "cell_type": "code",
   "execution_count": 732,
   "id": "e7895b80",
   "metadata": {},
   "outputs": [],
   "source": [
    "def get_score(model,x_train,x_test,y_train,y_test):\n",
    "    model.fit(x_train,y_train)\n",
    "    return model.score(x_test,y_test)"
   ]
  },
  {
   "cell_type": "code",
   "execution_count": 733,
   "id": "a2c5d012",
   "metadata": {},
   "outputs": [
    {
     "data": {
      "text/plain": [
       "KFold(n_splits=3, random_state=None, shuffle=False)"
      ]
     },
     "execution_count": 733,
     "metadata": {},
     "output_type": "execute_result"
    }
   ],
   "source": [
    "kf= KFold(n_splits=3)\n",
    "kf"
   ]
  },
  {
   "cell_type": "code",
   "execution_count": 734,
   "id": "75cfb7c6",
   "metadata": {},
   "outputs": [],
   "source": [
    "lr_score = []\n",
    "rf_score = []\n",
    "svc_score = []\n",
    "xgb_score= []\n",
    "\n",
    "for train_index,test_index in kf.split(x):\n",
    "    x_train, x_test, y_train, y_test = x.iloc[train_index], x.iloc[test_index], \\\n",
    "                                        y.iloc[train_index], y.iloc[test_index]\n",
    "    \n",
    "    lr_score.append(get_score(LogisticRegression(),x_train,x_test,y_train,y_test))\n",
    "    rf_score.append(get_score(RandomForestClassifier(),x_train,x_test,y_train,y_test))\n",
    "    svc_score.append(get_score(SVC(),x_train,x_test,y_train,y_test))\n",
    "    xgb_score.append(get_score(XGBClassifier(),x_train,x_test,y_train,y_test))"
   ]
  },
  {
   "cell_type": "code",
   "execution_count": 735,
   "id": "d0d0e7b4",
   "metadata": {},
   "outputs": [
    {
     "data": {
      "text/plain": [
       "[0.8630793819925413, 0.8604155567394779, 0.8779317697228145]"
      ]
     },
     "execution_count": 735,
     "metadata": {},
     "output_type": "execute_result"
    }
   ],
   "source": [
    "lr_score"
   ]
  },
  {
   "cell_type": "code",
   "execution_count": 736,
   "id": "6208de11",
   "metadata": {},
   "outputs": [
    {
     "data": {
      "text/plain": [
       "[0.9254128929142248, 0.9504528502930207, 0.9525586353944563]"
      ]
     },
     "execution_count": 736,
     "metadata": {},
     "output_type": "execute_result"
    }
   ],
   "source": [
    "rf_score"
   ]
  },
  {
   "cell_type": "code",
   "execution_count": 737,
   "id": "e198d54c",
   "metadata": {},
   "outputs": [
    {
     "data": {
      "text/plain": [
       "[0.8902503995737879, 0.8902503995737879, 0.8987206823027718]"
      ]
     },
     "execution_count": 737,
     "metadata": {},
     "output_type": "execute_result"
    }
   ],
   "source": [
    "svc_score"
   ]
  },
  {
   "cell_type": "code",
   "execution_count": 738,
   "id": "96c8c413",
   "metadata": {},
   "outputs": [
    {
     "data": {
      "text/plain": [
       "[0.945125199786894, 0.9722962173681406, 0.9578891257995735]"
      ]
     },
     "execution_count": 738,
     "metadata": {},
     "output_type": "execute_result"
    }
   ],
   "source": [
    "xgb_score"
   ]
  },
  {
   "cell_type": "code",
   "execution_count": null,
   "id": "58ed1866",
   "metadata": {},
   "outputs": [],
   "source": []
  },
  {
   "cell_type": "code",
   "execution_count": null,
   "id": "04577f76",
   "metadata": {},
   "outputs": [],
   "source": []
  },
  {
   "cell_type": "code",
   "execution_count": 318,
   "id": "c4690030",
   "metadata": {},
   "outputs": [],
   "source": []
  },
  {
   "cell_type": "code",
   "execution_count": null,
   "id": "33150d51",
   "metadata": {},
   "outputs": [],
   "source": []
  },
  {
   "cell_type": "code",
   "execution_count": 312,
   "id": "6a8f520f",
   "metadata": {},
   "outputs": [],
   "source": []
  },
  {
   "cell_type": "code",
   "execution_count": null,
   "id": "3a0a4686",
   "metadata": {
    "scrolled": true
   },
   "outputs": [],
   "source": []
  },
  {
   "cell_type": "code",
   "execution_count": null,
   "id": "8c7fbc56",
   "metadata": {},
   "outputs": [],
   "source": []
  },
  {
   "cell_type": "code",
   "execution_count": 317,
   "id": "2486cd7d",
   "metadata": {},
   "outputs": [],
   "source": []
  },
  {
   "cell_type": "code",
   "execution_count": 319,
   "id": "e2c66061",
   "metadata": {},
   "outputs": [],
   "source": []
  },
  {
   "cell_type": "code",
   "execution_count": null,
   "id": "ab236892",
   "metadata": {},
   "outputs": [],
   "source": []
  },
  {
   "cell_type": "code",
   "execution_count": null,
   "id": "8b9ecabf",
   "metadata": {},
   "outputs": [],
   "source": []
  },
  {
   "cell_type": "code",
   "execution_count": null,
   "id": "b6c53415",
   "metadata": {},
   "outputs": [],
   "source": []
  },
  {
   "cell_type": "code",
   "execution_count": null,
   "id": "d477381d",
   "metadata": {},
   "outputs": [],
   "source": []
  },
  {
   "cell_type": "code",
   "execution_count": null,
   "id": "ccae0944",
   "metadata": {},
   "outputs": [],
   "source": []
  },
  {
   "cell_type": "code",
   "execution_count": null,
   "id": "0174acf1",
   "metadata": {},
   "outputs": [],
   "source": []
  },
  {
   "cell_type": "code",
   "execution_count": null,
   "id": "558cec27",
   "metadata": {},
   "outputs": [],
   "source": [
    "\n"
   ]
  },
  {
   "cell_type": "code",
   "execution_count": null,
   "id": "0e830a03",
   "metadata": {},
   "outputs": [],
   "source": []
  },
  {
   "cell_type": "code",
   "execution_count": null,
   "id": "e1c14734",
   "metadata": {},
   "outputs": [],
   "source": []
  },
  {
   "cell_type": "code",
   "execution_count": null,
   "id": "6e4c82f6",
   "metadata": {},
   "outputs": [],
   "source": []
  },
  {
   "cell_type": "code",
   "execution_count": null,
   "id": "f62a1866",
   "metadata": {},
   "outputs": [],
   "source": [
    "\n",
    "    "
   ]
  },
  {
   "cell_type": "code",
   "execution_count": null,
   "id": "233e10d1",
   "metadata": {},
   "outputs": [],
   "source": []
  },
  {
   "cell_type": "code",
   "execution_count": 338,
   "id": "ee73f688",
   "metadata": {},
   "outputs": [],
   "source": [
    "\n"
   ]
  },
  {
   "cell_type": "code",
   "execution_count": null,
   "id": "ab71e183",
   "metadata": {},
   "outputs": [],
   "source": []
  },
  {
   "cell_type": "code",
   "execution_count": null,
   "id": "7f94b2dc",
   "metadata": {},
   "outputs": [],
   "source": []
  },
  {
   "cell_type": "code",
   "execution_count": null,
   "id": "e7a512a8",
   "metadata": {},
   "outputs": [],
   "source": []
  },
  {
   "cell_type": "code",
   "execution_count": null,
   "id": "d1f79fca",
   "metadata": {},
   "outputs": [],
   "source": []
  },
  {
   "cell_type": "code",
   "execution_count": null,
   "id": "9b25b377",
   "metadata": {},
   "outputs": [],
   "source": []
  },
  {
   "cell_type": "code",
   "execution_count": null,
   "id": "ba78e413",
   "metadata": {},
   "outputs": [],
   "source": []
  },
  {
   "cell_type": "code",
   "execution_count": null,
   "id": "568c56ee",
   "metadata": {},
   "outputs": [],
   "source": []
  },
  {
   "cell_type": "code",
   "execution_count": null,
   "id": "31739462",
   "metadata": {},
   "outputs": [],
   "source": []
  },
  {
   "cell_type": "code",
   "execution_count": null,
   "id": "6180c4ad",
   "metadata": {},
   "outputs": [],
   "source": []
  },
  {
   "cell_type": "code",
   "execution_count": null,
   "id": "850f3915",
   "metadata": {},
   "outputs": [],
   "source": []
  },
  {
   "cell_type": "code",
   "execution_count": null,
   "id": "a4015499",
   "metadata": {},
   "outputs": [],
   "source": []
  },
  {
   "cell_type": "code",
   "execution_count": null,
   "id": "315e8002",
   "metadata": {},
   "outputs": [],
   "source": []
  },
  {
   "cell_type": "code",
   "execution_count": null,
   "id": "c60b3ed9",
   "metadata": {},
   "outputs": [],
   "source": []
  },
  {
   "cell_type": "code",
   "execution_count": null,
   "id": "2f9609e4",
   "metadata": {},
   "outputs": [],
   "source": []
  },
  {
   "cell_type": "code",
   "execution_count": null,
   "id": "aabd53e1",
   "metadata": {},
   "outputs": [],
   "source": []
  },
  {
   "cell_type": "code",
   "execution_count": null,
   "id": "e08430b5",
   "metadata": {},
   "outputs": [],
   "source": []
  },
  {
   "cell_type": "code",
   "execution_count": null,
   "id": "f0385113",
   "metadata": {},
   "outputs": [],
   "source": []
  },
  {
   "cell_type": "code",
   "execution_count": null,
   "id": "8fb002d6",
   "metadata": {},
   "outputs": [],
   "source": []
  },
  {
   "cell_type": "code",
   "execution_count": null,
   "id": "a92d115f",
   "metadata": {},
   "outputs": [],
   "source": []
  },
  {
   "cell_type": "code",
   "execution_count": null,
   "id": "d77c21fb",
   "metadata": {},
   "outputs": [],
   "source": []
  },
  {
   "cell_type": "code",
   "execution_count": null,
   "id": "77a1d03d",
   "metadata": {},
   "outputs": [],
   "source": []
  },
  {
   "cell_type": "code",
   "execution_count": null,
   "id": "f7dd7642",
   "metadata": {},
   "outputs": [],
   "source": [
    "\n"
   ]
  },
  {
   "cell_type": "code",
   "execution_count": null,
   "id": "37333d35",
   "metadata": {},
   "outputs": [],
   "source": []
  },
  {
   "cell_type": "code",
   "execution_count": null,
   "id": "d5930199",
   "metadata": {},
   "outputs": [],
   "source": []
  },
  {
   "cell_type": "code",
   "execution_count": null,
   "id": "0e06fea3",
   "metadata": {},
   "outputs": [],
   "source": []
  },
  {
   "cell_type": "code",
   "execution_count": null,
   "id": "7b5c9046",
   "metadata": {},
   "outputs": [],
   "source": []
  },
  {
   "cell_type": "code",
   "execution_count": null,
   "id": "9f51aeb9",
   "metadata": {},
   "outputs": [],
   "source": []
  },
  {
   "cell_type": "code",
   "execution_count": null,
   "id": "53ced134",
   "metadata": {},
   "outputs": [],
   "source": []
  },
  {
   "cell_type": "code",
   "execution_count": null,
   "id": "0b5dafd0",
   "metadata": {},
   "outputs": [],
   "source": []
  },
  {
   "cell_type": "code",
   "execution_count": null,
   "id": "107a91e8",
   "metadata": {},
   "outputs": [],
   "source": []
  },
  {
   "cell_type": "code",
   "execution_count": null,
   "id": "37c4092a",
   "metadata": {},
   "outputs": [],
   "source": []
  },
  {
   "cell_type": "code",
   "execution_count": null,
   "id": "3b1efc85",
   "metadata": {},
   "outputs": [],
   "source": []
  },
  {
   "cell_type": "code",
   "execution_count": null,
   "id": "f6cbca36",
   "metadata": {},
   "outputs": [],
   "source": []
  },
  {
   "cell_type": "code",
   "execution_count": null,
   "id": "141cea87",
   "metadata": {},
   "outputs": [],
   "source": []
  },
  {
   "cell_type": "code",
   "execution_count": null,
   "id": "8befaf67",
   "metadata": {},
   "outputs": [],
   "source": []
  },
  {
   "cell_type": "code",
   "execution_count": null,
   "id": "cc1dc3bd",
   "metadata": {},
   "outputs": [],
   "source": []
  },
  {
   "cell_type": "code",
   "execution_count": null,
   "id": "1fa6173d",
   "metadata": {},
   "outputs": [],
   "source": []
  },
  {
   "cell_type": "code",
   "execution_count": null,
   "id": "67c5e847",
   "metadata": {},
   "outputs": [],
   "source": []
  },
  {
   "cell_type": "code",
   "execution_count": null,
   "id": "07f79d0c",
   "metadata": {},
   "outputs": [],
   "source": [
    "\n"
   ]
  },
  {
   "cell_type": "code",
   "execution_count": null,
   "id": "852860a6",
   "metadata": {},
   "outputs": [],
   "source": []
  },
  {
   "cell_type": "code",
   "execution_count": null,
   "id": "5b5b3870",
   "metadata": {},
   "outputs": [],
   "source": []
  },
  {
   "cell_type": "code",
   "execution_count": null,
   "id": "fa350262",
   "metadata": {},
   "outputs": [],
   "source": []
  },
  {
   "cell_type": "code",
   "execution_count": null,
   "id": "e9dec722",
   "metadata": {},
   "outputs": [],
   "source": []
  },
  {
   "cell_type": "code",
   "execution_count": null,
   "id": "ea82bd4f",
   "metadata": {},
   "outputs": [],
   "source": []
  },
  {
   "cell_type": "code",
   "execution_count": null,
   "id": "69a27df7",
   "metadata": {},
   "outputs": [],
   "source": []
  },
  {
   "cell_type": "code",
   "execution_count": null,
   "id": "033cb89d",
   "metadata": {},
   "outputs": [],
   "source": []
  },
  {
   "cell_type": "code",
   "execution_count": null,
   "id": "4d8c89ba",
   "metadata": {},
   "outputs": [],
   "source": []
  },
  {
   "cell_type": "code",
   "execution_count": null,
   "id": "74a794f8",
   "metadata": {},
   "outputs": [],
   "source": [
    "\n"
   ]
  },
  {
   "cell_type": "code",
   "execution_count": null,
   "id": "48e31bd2",
   "metadata": {},
   "outputs": [],
   "source": []
  },
  {
   "cell_type": "code",
   "execution_count": null,
   "id": "d9e3510f",
   "metadata": {},
   "outputs": [],
   "source": []
  },
  {
   "cell_type": "code",
   "execution_count": null,
   "id": "ddd6b2b9",
   "metadata": {},
   "outputs": [],
   "source": []
  },
  {
   "cell_type": "code",
   "execution_count": null,
   "id": "4423097f",
   "metadata": {},
   "outputs": [],
   "source": []
  },
  {
   "cell_type": "code",
   "execution_count": null,
   "id": "e6367413",
   "metadata": {
    "scrolled": true
   },
   "outputs": [],
   "source": []
  },
  {
   "cell_type": "code",
   "execution_count": null,
   "id": "09c26ed2",
   "metadata": {},
   "outputs": [],
   "source": []
  },
  {
   "cell_type": "code",
   "execution_count": null,
   "id": "9fbba0b5",
   "metadata": {},
   "outputs": [],
   "source": []
  },
  {
   "cell_type": "code",
   "execution_count": null,
   "id": "8e75b0ab",
   "metadata": {},
   "outputs": [],
   "source": []
  },
  {
   "cell_type": "code",
   "execution_count": null,
   "id": "4346be0b",
   "metadata": {},
   "outputs": [],
   "source": []
  },
  {
   "cell_type": "code",
   "execution_count": null,
   "id": "4711fcf0",
   "metadata": {},
   "outputs": [],
   "source": []
  },
  {
   "cell_type": "code",
   "execution_count": null,
   "id": "b90564aa",
   "metadata": {},
   "outputs": [],
   "source": []
  },
  {
   "cell_type": "code",
   "execution_count": null,
   "id": "0ee09017",
   "metadata": {},
   "outputs": [],
   "source": []
  },
  {
   "cell_type": "code",
   "execution_count": null,
   "id": "e7171e82",
   "metadata": {},
   "outputs": [],
   "source": []
  },
  {
   "cell_type": "code",
   "execution_count": null,
   "id": "624e6ae3",
   "metadata": {},
   "outputs": [],
   "source": []
  },
  {
   "cell_type": "code",
   "execution_count": null,
   "id": "0891152a",
   "metadata": {},
   "outputs": [],
   "source": []
  },
  {
   "cell_type": "code",
   "execution_count": null,
   "id": "123bf780",
   "metadata": {},
   "outputs": [],
   "source": []
  },
  {
   "cell_type": "code",
   "execution_count": null,
   "id": "ee19b1f6",
   "metadata": {},
   "outputs": [],
   "source": []
  },
  {
   "cell_type": "code",
   "execution_count": null,
   "id": "2ed4b342",
   "metadata": {},
   "outputs": [],
   "source": []
  },
  {
   "cell_type": "code",
   "execution_count": null,
   "id": "8f932ae7",
   "metadata": {},
   "outputs": [],
   "source": []
  },
  {
   "cell_type": "code",
   "execution_count": null,
   "id": "1ead6337",
   "metadata": {},
   "outputs": [],
   "source": []
  },
  {
   "cell_type": "code",
   "execution_count": null,
   "id": "e5234e9e",
   "metadata": {},
   "outputs": [],
   "source": []
  },
  {
   "cell_type": "code",
   "execution_count": null,
   "id": "18339146",
   "metadata": {},
   "outputs": [],
   "source": []
  },
  {
   "cell_type": "code",
   "execution_count": null,
   "id": "28088eef",
   "metadata": {},
   "outputs": [],
   "source": []
  },
  {
   "cell_type": "code",
   "execution_count": 410,
   "id": "27bd0081",
   "metadata": {},
   "outputs": [],
   "source": []
  },
  {
   "cell_type": "code",
   "execution_count": 411,
   "id": "b40ea1ce",
   "metadata": {},
   "outputs": [],
   "source": []
  },
  {
   "cell_type": "code",
   "execution_count": null,
   "id": "2ea0b3dd",
   "metadata": {},
   "outputs": [],
   "source": []
  },
  {
   "cell_type": "code",
   "execution_count": null,
   "id": "46cbc4fe",
   "metadata": {},
   "outputs": [],
   "source": []
  },
  {
   "cell_type": "code",
   "execution_count": null,
   "id": "6f1995c3",
   "metadata": {},
   "outputs": [],
   "source": []
  },
  {
   "cell_type": "code",
   "execution_count": null,
   "id": "bd1dd00c",
   "metadata": {},
   "outputs": [],
   "source": []
  },
  {
   "cell_type": "code",
   "execution_count": null,
   "id": "0d1eb013",
   "metadata": {},
   "outputs": [],
   "source": []
  },
  {
   "cell_type": "code",
   "execution_count": null,
   "id": "409e4827",
   "metadata": {},
   "outputs": [],
   "source": []
  },
  {
   "cell_type": "code",
   "execution_count": null,
   "id": "acf06846",
   "metadata": {},
   "outputs": [],
   "source": []
  },
  {
   "cell_type": "code",
   "execution_count": null,
   "id": "1bb288b9",
   "metadata": {},
   "outputs": [],
   "source": []
  },
  {
   "cell_type": "code",
   "execution_count": null,
   "id": "0cda5c87",
   "metadata": {},
   "outputs": [],
   "source": []
  },
  {
   "cell_type": "code",
   "execution_count": null,
   "id": "9f07c3e4",
   "metadata": {},
   "outputs": [],
   "source": []
  },
  {
   "cell_type": "code",
   "execution_count": null,
   "id": "ae0b02cd",
   "metadata": {},
   "outputs": [],
   "source": []
  }
 ],
 "metadata": {
  "kernelspec": {
   "display_name": "Python 3 (ipykernel)",
   "language": "python",
   "name": "python3"
  },
  "language_info": {
   "codemirror_mode": {
    "name": "ipython",
    "version": 3
   },
   "file_extension": ".py",
   "mimetype": "text/x-python",
   "name": "python",
   "nbconvert_exporter": "python",
   "pygments_lexer": "ipython3",
   "version": "3.9.12"
  }
 },
 "nbformat": 4,
 "nbformat_minor": 5
}
